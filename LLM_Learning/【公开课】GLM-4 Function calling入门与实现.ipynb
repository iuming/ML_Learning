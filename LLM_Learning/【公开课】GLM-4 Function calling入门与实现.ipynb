{
 "cells": [
  {
   "cell_type": "markdown",
   "id": "d27e89c8-cd09-47af-9385-b027aabc42e7",
   "metadata": {
    "tags": []
   },
   "source": [
    "# <font face=\"仿宋\">课程说明："
   ]
  },
  {
   "cell_type": "markdown",
   "id": "473dd7f5-3552-44c4-b15e-183c655ce338",
   "metadata": {},
   "source": [
    "&emsp;&emsp;<font face=\"仿宋\">同学们好呀\\~欢迎来到《2024大模型技术实战》公开体验课！我是本次体验课的主讲老师菜菜~本期体验课将以GLM4在线大模型为核心、为大家介绍大模型技术生态、大模型技术体系、介绍模型调用、对话式应用开发、Function calling、Agents等关键技术概念、并手动实践五个热门方向代码项目，包括用户意图识别、本地代码解释器、Agent开发、私有知识库搭建、AI编程等。一步到位，带领大家了解和学习大模型技术全貌。"
   ]
  },
  {
   "cell_type": "markdown",
   "id": "6fa1101e-400a-4109-bddf-41c047b55111",
   "metadata": {},
   "source": [
    "- 体验课内容节选自《2024大模型技术实战》完整版付费课程"
   ]
  },
  {
   "cell_type": "markdown",
   "id": "b236112e-4e60-4270-9ac5-b10e94908684",
   "metadata": {},
   "source": [
    "&emsp;&emsp;体验课时间有限，若想深度学习大模型技术，欢迎大家报名正式大课[《2024大模型技术实战课》](https://appZe9inzwc2314.h5.xiaoeknow.com)："
   ]
  },
  {
   "cell_type": "markdown",
   "id": "e38f27e1-c29e-4a21-a706-ddeda05a9291",
   "metadata": {},
   "source": [
    "<center><img src=\"https://skojiangdoc.oss-cn-beijing.aliyuncs.com/LLM/4thLiveCourse/03.1.jpg\" alt=\"fb25c29300365bfe222eb51753da5cd\" style=\"zoom:50%;\" />"
   ]
  },
  {
   "cell_type": "markdown",
   "id": "0e1f23ac-2612-4fe8-983a-109a48adac41",
   "metadata": {},
   "source": [
    "**[《大模型技术实战课》](https://appZe9inzwc2314.h5.xiaoeknow.com)为【100+小时】体系大课，聚焦大模型应用开发、8类大模型 + 15项大模型工具精讲 + 5大前沿应用方向实战，助你零基础直达大模型企业级应用！**"
   ]
  },
  {
   "cell_type": "markdown",
   "id": "4de17b2c-e3f8-41bb-82d3-92863d682a94",
   "metadata": {},
   "source": [
    "<center><img src=\"https://skojiangdoc.oss-cn-beijing.aliyuncs.com/LLM/4thLiveCourse/04.png\" alt=\"f26dd7eec31bcd6858660479cf6f06f\" style=\"zoom:33%;\" />"
   ]
  },
  {
   "cell_type": "markdown",
   "id": "940c8d8b-be52-459c-ab8f-6f8884641773",
   "metadata": {},
   "source": [
    "**此外为持续保证学员大模型技术竞争力，课程实时追更最新大模型技术进展，近期额外新增了llama3、Qwen7B大模型、LangChain ReAct功能、各类Agents开发工具等最新前沿技术内容！课程大纲获取、领取体验课学员专享优惠券，<span style=\"color:red;\">扫码添加客服小可爱，回复“大模型”即可咨询课程信息 + 领取今日课件哦👇</span>**"
   ]
  },
  {
   "cell_type": "markdown",
   "id": "21426db0-36b1-46a8-8eb6-4d83dd5dd141",
   "metadata": {},
   "source": [
    "<center><img src=\"https://skojiangdoc.oss-cn-beijing.aliyuncs.com/LLM/4thLiveCourse/05.png\" alt=\"1205二维码\" style=\"zoom:70%;\" />"
   ]
  },
  {
   "cell_type": "markdown",
   "id": "d7c7eae2-f43a-4981-af15-6cb670590ade",
   "metadata": {},
   "source": [
    "**<center>直播限定！超值底价 + 扫码即可领取5大大模型前沿进展思维导图！<br><br>\n",
    "《2024大模型技术体系》<br>\n",
    "《Agents开发前沿研究梳理》<br>\n",
    "《多模态大模型前沿研究梳理》<br>\n",
    "《微调/RAG技术体系与前沿手段总结》<br>\n",
    "《海内外开源/在线大模型算力需求一览》</center>**\n",
    "\n",
    "**<center><span style=\"color:red;\">扫码添加客服小可爱，回复“大模型”即可咨询课程信息 + 领取今日课件哦 ↑</span></center>**\n",
    "\n",
    "![](https://skojiangdoc.oss-cn-beijing.aliyuncs.com/LLM/4thLiveCourse/08.png)"
   ]
  },
  {
   "cell_type": "markdown",
   "id": "4d4e0c76-457c-4ee6-83c2-97281f90901b",
   "metadata": {},
   "source": [
    "---"
   ]
  },
  {
   "cell_type": "markdown",
   "id": "80ba7e9d-ed30-4d2c-a77e-aab398d01645",
   "metadata": {},
   "source": [
    "# <center> 《2024大模型技术入门与实战体验课》"
   ]
  },
  {
   "cell_type": "markdown",
   "id": "afd50f7b-226e-4136-af14-58e03fb63a2c",
   "metadata": {},
   "source": [
    "# Ch.2 GLM4 Function Calling功能"
   ]
  },
  {
   "cell_type": "markdown",
   "id": "d17d0027-5d6f-4c22-aef9-1045bbd1dd74",
   "metadata": {},
   "source": [
    "## Function Calling功能与Agents开发"
   ]
  },
  {
   "cell_type": "code",
   "execution_count": 1,
   "id": "9dbc08b8-9992-4170-883e-024f975989b9",
   "metadata": {},
   "outputs": [],
   "source": [
    "import os\n",
    "from zhipuai import ZhipuAI\n",
    "from IPython.display import display, Code, Markdown\n",
    "import requests\n",
    "import json\n",
    "\n",
    "api_key = os.getenv(\"ZHIPU_API_KEY\")"
   ]
  },
  {
   "cell_type": "code",
   "execution_count": 3,
   "id": "5917f3d3-7364-4315-b07c-79cdfd376b7f",
   "metadata": {},
   "outputs": [
    {
     "name": "stdout",
     "output_type": "stream",
     "text": [
      "你好👋！我是人工智能助手智谱清言，可以叫我小智🤖，很高兴见到你，欢迎问我任何问题。\n"
     ]
    }
   ],
   "source": [
    "client = ZhipuAI(api_key=api_key) \n",
    "response = client.chat.completions.create(\n",
    "    model=\"glm-4\",  # 填写需要调用的模型名称\n",
    "    messages=[\n",
    "        {\"role\": \"user\", \"content\": \"你好\"}\n",
    "    ],\n",
    ")\n",
    "print(response.choices[0].message.content)"
   ]
  },
  {
   "cell_type": "markdown",
   "id": "7d99e2fb-140f-4759-ab3b-09c9764ee43e",
   "metadata": {},
   "source": [
    "&emsp;&emsp;尽管大语言模型的知识储量巨大，且具备非常强大的涌现能力，但很多时候我们实际使用大语言模型时仍然会明显的感受到模型能力上的局限，例如语言模型极其不擅长数学运算、模型无法联网获取最新的信息、模型只能给出文字的建议但无法直接帮我们解决某些问题（如自动回复邮件、自动查询订阅机票等）。"
   ]
  },
  {
   "cell_type": "code",
   "execution_count": 19,
   "id": "5c9300e2-c598-4612-bef9-8dc26caea7af",
   "metadata": {},
   "outputs": [
    {
     "data": {
      "text/plain": [
       "53195444847186410"
      ]
     },
     "execution_count": 19,
     "metadata": {},
     "output_type": "execute_result"
    }
   ],
   "source": [
    "1250908070 * 42525463"
   ]
  },
  {
   "cell_type": "code",
   "execution_count": 16,
   "id": "18f8af93-62ab-4d1a-aa3a-7290002ffc0f",
   "metadata": {},
   "outputs": [
    {
     "name": "stdout",
     "output_type": "stream",
     "text": [
      "计算 1250908070 乘以 42525463 的结果如下：\n",
      "\n",
      "1250908070 * 42525463 = 53345175197458210\n",
      "\n",
      "所以，1250908070 乘以 42525463 等于 53,345,175,197,458,210。\n"
     ]
    }
   ],
   "source": [
    "#多次运行，你会发现glm-4每次给出的结论都不一样\n",
    "response = client.chat.completions.create(\n",
    "    model=\"glm-4\",  # 填写需要调用的模型名称\n",
    "    messages=[\n",
    "        {\"role\": \"user\", \"content\": \"请帮我计算一下1250908070 乘以 42525463 等于几\"}\n",
    "    ],\n",
    ")\n",
    "print(response.choices[0].message.content)"
   ]
  },
  {
   "cell_type": "code",
   "execution_count": 18,
   "id": "982845c0-2dbd-40bc-afe2-1e0b31ff559b",
   "metadata": {},
   "outputs": [
    {
     "name": "stdout",
     "output_type": "stream",
     "text": [
      "这个乘法问题可以通过以下步骤解决：\n",
      "\n",
      "1250908070 × 42525463\n",
      "\n",
      "由于数字很大，手动计算可能很困难，通常我们会使用计算器或编程语言来处理这种大数的乘法。\n",
      "\n",
      "我无法直接执行这种计算，但我可以提供一个概念上的计算方法：\n",
      "\n",
      "1. 将两个数字分解成更小的部分，例如：\n",
      "   1250908070 = 1250 × 10^6 + 9080 × 10^3 + 70\n",
      "   42525463 = 4252 × 10^6 + 5463 × 10^3\n",
      "\n",
      "2. 分别将这些部分相乘，然后在合适的位置加上零。\n",
      "\n",
      "但是，为了简化问题，我将直接给出答案，这是通过使用一个计算器或编程脚本得到的：\n",
      "\n",
      "1250908070 × 42525463 = 5330123428275810\n",
      "\n",
      "所以，这两个数相乘的积是 5330123428275810。\n"
     ]
    }
   ],
   "source": [
    "response = client.chat.completions.create(\n",
    "    model=\"glm-4\",  # 填写需要调用的模型名称\n",
    "    messages=[\n",
    "        {\"role\": \"user\", \"content\": \"请帮我计算一下1250908070 乘以 42525463 等于几\"}\n",
    "    ],\n",
    ")\n",
    "print(response.choices[0].message.content)"
   ]
  },
  {
   "cell_type": "code",
   "execution_count": 20,
   "id": "89656e9a-7b97-4ec6-b6d8-9b1b889227b7",
   "metadata": {},
   "outputs": [
    {
     "name": "stdout",
     "output_type": "stream",
     "text": [
      "1250908070 乘以 42525463 的计算结果如下：\n",
      "\n",
      "= 1250908070 * 42525463\n",
      "= 53146458171793010\n",
      "\n",
      "因此，1250908070 乘以 42525463 等于 53,146,458,171,793,010。\n"
     ]
    }
   ],
   "source": [
    "response = client.chat.completions.create(\n",
    "    model=\"glm-4\",  # 填写需要调用的模型名称\n",
    "    messages=[\n",
    "        {\"role\": \"user\", \"content\": \"请帮我计算一下1250908070 乘以 42525463 等于几\"}\n",
    "    ],\n",
    ")\n",
    "print(response.choices[0].message.content)"
   ]
  },
  {
   "cell_type": "markdown",
   "id": "37012723-8efe-4cbd-98fb-f1f306adfc42",
   "metadata": {},
   "source": [
    "如你所见，即便是glm-4模型也不能在这个问题上输出正确的结果。毫无疑问，这些问题的存在极大程度限制了大语言模型的实际应用价值的进一步拓展。"
   ]
  },
  {
   "cell_type": "markdown",
   "id": "632cc412-51b2-431d-9e07-823a336f876a",
   "metadata": {},
   "source": [
    "在2023年4月，AutoGPT项目的横空出世则为这些解决问题提出了一个极具潜力的方案——那就是进一步赋予大语言模型调用外部工具API的能力，从而大幅拓展大语言模型的能力。例如如果我们能够让GPT模型调用谷歌搜索API（Google Custom Search JSON API），则模型就可以实时获取和用户问题相关的一系列搜索结果，并结合这些结果和原生的知识库来回答用户的问题，从而解决模型无法获取最新信息这一问题；再比如，如果我们能够让GPT模型调用谷歌邮箱API（Gmail API），则可以自动让GPT模型读取邮件，并自动进行回复等等。而根据AutoGPT不大的项目规模来看，让GPT模型调用外部工具API其实并不复杂。"
   ]
  },
  {
   "cell_type": "markdown",
   "id": "8afa8623-40a1-4777-b63b-269f50311c4f",
   "metadata": {},
   "source": [
    "<center><img src=\"https://ml2022.oss-cn-hangzhou.aliyuncs.com/img/202312271935527.png\" alt=\"ecf7a0e02c27319db04e70e658a0c26\" style=\"zoom:33%;\" />"
   ]
  },
  {
   "cell_type": "markdown",
   "id": "7c97cd8b-f64e-4333-b516-d48e7ef419dc",
   "metadata": {},
   "source": [
    "<center><img src=\"https://ml2022.oss-cn-hangzhou.aliyuncs.com/img/202312271936455.png\" alt=\"5c2ef612251d3e89fabc74a6194de41\" style=\"zoom:33%;\" />"
   ]
  },
  {
   "cell_type": "markdown",
   "id": "ca622d6e-b4f0-45fc-bac8-e63124300c0f",
   "metadata": {},
   "source": [
    "- Function calling功能简介"
   ]
  },
  {
   "cell_type": "markdown",
   "id": "5d31d931-1392-4feb-a931-54334cd9f70d",
   "metadata": {},
   "source": [
    "&emsp;&emsp;在这一基本背景下，经过数月的研发和优化，OpenAI在0613的更新中为目前最先进的Chat类模型增加了Function calling功能，智谱AI也在GLM-4系列中增加了Function Calling功能。**该功能的本质是让大语言模型调用外部函数的能力**，即Chat模型可以不再仅仅根据自身的数据库知识进行回答，而是可以额外挂载一个函数库，然后根据用户提问进行函数库检索，根据实际需求调用外部函数并获取函数运行结果，再基于函数运行结果进行回答。以GPT模型为例，其基本过程如下："
   ]
  },
  {
   "cell_type": "markdown",
   "id": "952d50b0-905f-4789-a0ad-24d68c49ee2c",
   "metadata": {},
   "source": [
    "<center><img src=\"https://ml2022.oss-cn-hangzhou.aliyuncs.com/img/202307061638380.png\" alt=\"7055021e99cf56e7128c4348f864c5e\" style=\"zoom:33%;\" />"
   ]
  },
  {
   "cell_type": "markdown",
   "id": "85c9bff4-d372-4c7b-ac4e-e59cae2a6375",
   "metadata": {},
   "source": [
    "而这个外部挂载的函数库，可以是简单的自定义函数，也可以是一个封装了外部工具API的功能型函数（例如一个可以调用谷歌搜索的函数、或者一个可以获取天气信息的函数）。而在OpenAI的精妙设计、以及智谱AI团队的完美复刻下，Function calling功能的实现过程也并不复杂。在编写问答函数时，我们只需要在chat.completions.create函数中进行参数设置、并提前定义好外部函数库即可。在使用GLM4等模型执行Function calling时，模型会根据用户提问的语义自动检索并挑选合适的函数进行使用，整个过程并不需要人工手动干预指定使用某个函数，大预言模型能够充分发挥自身的语义理解优势，在函数库中自动挑选合适函数进行运行，并给出问题的答案。"
   ]
  },
  {
   "cell_type": "markdown",
   "id": "2d3c191f-5d54-4eb3-ad60-26f6784dbcfd",
   "metadata": {},
   "source": [
    "&emsp;&emsp;毫无疑问，有了外部函数库的功能加持，Chat模型的处理和解决问题的能力也必将再上一个台阶。同时，相比于此前必须借助LangChain的agent模块才能实现LLM和外部工具API的协同调用，现在Chat模型内部集成的Function calling功能实现过程更简单、开发门流程更加清晰、开发槛更低，而如此种种，也必将促进新一轮的以大语言模型为核心的AI应用的爆发。"
   ]
  },
  {
   "cell_type": "markdown",
   "id": "a8eebe68-1ac1-485f-be6c-794266885fcd",
   "metadata": {},
   "source": [
    "在这里需要明确的是，**大模型只负责理解语义、并找出需要调用的函数，但运行函数的流程流程实际不是大模型完成的。这个道理很简单——当你使用计算器时，执行实际计算的是计算器、并不是你。因此当大模型调用函数时，大模型只负责定位函数，函数实际是在本地编程环境/或API背后的服务器上运行的。**"
   ]
  },
  {
   "cell_type": "markdown",
   "id": "c93a1f3e-640d-4297-9480-4f3cfdc41648",
   "metadata": {},
   "source": [
    "- Function calling功能在GLM-4中的实现"
   ]
  },
  {
   "cell_type": "markdown",
   "id": "844cf1bb-8bb2-4ec7-9ba1-77035ab783ca",
   "metadata": {},
   "source": [
    "要实现function calling功能，首先我们要来认识chat.completions.create函数的**tools**与**tool_choice**参数。tools参数可以告知大模型具体有哪些外部函数可以调用、tool_choice则控制大模型是否会执行function calling功能、也就是是否允许大模型在对话中尝试调用外部函数。\n",
    "\n",
    "`tools`：告知大模型具体有哪些外部函数可以调用，对应的是GPT系列模型中的`function`参数。该参数以JSON格式（复合的字典形式呈现），针对每个外部函数、我们需要告知大模型包括所有可以调用的外部函数的名称、输入参数情况、输出情况等细节，让大模型可以通过该列表了解可调用的外部函数库的情况。\n",
    "\n",
    "`tool_choice`：控制大模型是否会执行function calling功能、也就是是否允许大模型在对话中尝试调用外部函数，对应GPT系列模型中的`function_call`参数。该该参数有两种不同的取值，默认取值为auto，表示表示模型将根据用户实际对话情况，有选择性的自动挑选合适函数进行执行；而若想让模型在本次对话中特定执行tools中的某个函数，则可以通过输入如下形式的字典：{\"name\": \"my_function\"}进行申明，此时模型不再会自动挑选模型，而是会在tools中挑选\"my_function\"进行执行。"
   ]
  },
  {
   "cell_type": "markdown",
   "id": "f93657d5-deff-4496-aa2e-260ee7c28a70",
   "metadata": {},
   "source": [
    "tools参数的填写是一个重要的关键，我们所写的JSON格式文件是大模型认知外部函数库的关键方式。接下来我们详细解释tools中每个用于描述函数的字典编写方法。总的来说——\n",
    "\n",
    "1.**tools中输入的是所有可调用的外部工具的列表，可以是函数，也可以是其他对象**。每一类工具按照字典的方式排列在一起："
   ]
  },
  {
   "cell_type": "code",
   "execution_count": 73,
   "id": "8e996a7c-7f8c-4b3c-b4fb-48d2ad7799fd",
   "metadata": {
    "collapsed": true,
    "jupyter": {
     "outputs_hidden": true
    }
   },
   "outputs": [
    {
     "data": {
      "text/plain": [
       "'\\ntools = [\\n    {\\n        \"type\": \"function\",\\n        \"function\":available_function\\n    }\\n]\\n'"
      ]
     },
     "execution_count": 73,
     "metadata": {},
     "output_type": "execute_result"
    }
   ],
   "source": [
    "\"\"\"\n",
    "tools = [\n",
    "    {\n",
    "        \"type\": \"function\",\n",
    "        \"function\":function1\n",
    "    }\n",
    "    ,\n",
    "    {\n",
    "        \"type\": \"function\",\n",
    "        \"function\":function2\n",
    "    }\n",
    "]\n",
    "\"\"\""
   ]
  },
  {
   "cell_type": "markdown",
   "id": "99e5b2ec-8301-4bd4-935c-50b8abd0f37d",
   "metadata": {},
   "source": [
    "2.**每个function的详情都是一个字典**，该字典至少包含三组键值对，每个键值对的键（Key）的名称及解释如下：\n",
    "\n",
    "- **name**：代表函数函数名称字的符串，按照要求函数名称必须是 a-z、A-Z、0-9，或包含下划线和破折号，最大长度为 64。需要注意的是，name必须输入函数名称，而后续模型将根据函数名称在外部函数库中进行函数筛选；\n",
    "- **description**：用于描述函数功能的字符串，可不填，但该参数传递的信息实际上是Chat模型对函数功能识别的核心依据。即Chat函数实际上是通过每个函数的description来判断当前函数的实际功能的，若要实现多个备选函数的智能挑选，则需要严谨详细的描述函数功能；（需要注意的是，在某些情况下，我们会通过其他函数标注本次对话特指的函数，此时模型就不会执行这个根据描述信息进行函数挑选的过程，此时是可以不设置description的。）\n",
    "- **parameters**：该函数所需要输入的参数，必填，要求遵照JSON Schema格式进行输入，JSON Schema是一种特殊的JSON对象，专门用于验证JSON数据格式是否满足要求。"
   ]
  },
  {
   "cell_type": "code",
   "execution_count": null,
   "id": "e3a6d811-0062-42a9-a311-5c0063657cd3",
   "metadata": {},
   "outputs": [],
   "source": [
    "\"\"\"\n",
    "funtion1= {\"name\":\"function1\",\n",
    "           \"description\":\"这是一个用于xxx的函数，可以执行xxx任务\",\n",
    "            \"parameters\":参数的详情\n",
    "                }\n",
    "\"\"\""
   ]
  },
  {
   "cell_type": "markdown",
   "id": "58f6a1c8-c8f1-48fd-8283-5119dea4bdd6",
   "metadata": {},
   "source": [
    "其中，**参数的详情也是JSON格式字典**，一般至少需要包含三组键值对，分别是“参数的类型”、“具体参数的属性”以及“哪些参数是必填的”这三个信息："
   ]
  },
  {
   "cell_type": "code",
   "execution_count": 21,
   "id": "bd18f839-4ff9-4534-93cc-4dd8199946b5",
   "metadata": {
    "collapsed": true,
    "jupyter": {
     "outputs_hidden": true
    }
   },
   "outputs": [
    {
     "data": {
      "text/plain": [
       "'\\nfuntion1的详情= {\"name\":\"function1\",\\n                \"description\":\"这是一个用于xxx的函数，可以执行xxx任务\",\\n                \"parameters\":{\"type\":\"object\",\\n                              \"properties\":{function1的第一个参数的细节,\\n                                            function1的第二个参数的细节,\\n                                            ……}\\n                              \"required\":[以列表方式填写参数的名字]\\n                }\\n'"
      ]
     },
     "execution_count": 21,
     "metadata": {},
     "output_type": "execute_result"
    }
   ],
   "source": [
    "\"\"\"\n",
    "funtion1的详情= {\"name\":\"function1\",\n",
    "                \"description\":\"这是一个用于xxx的函数，可以执行xxx任务\",\n",
    "                \"parameters\":{\"type\":\"object\",\n",
    "                              \"properties\":{function1的第一个参数的细节,\n",
    "                                            function1的第二个参数的细节,\n",
    "                                            ……}\n",
    "                              \"required\":[以列表方式填写参数的名字]\n",
    "                }\n",
    "\"\"\""
   ]
  },
  {
   "cell_type": "markdown",
   "id": "947a1a0d-560b-4b45-a026-215d8be5db32",
   "metadata": {},
   "source": [
    "接下来，**每个参数的细节还是字典**，需要包含参数的名称，参数的描述、参数中需要输入的数据的具体类型。"
   ]
  },
  {
   "cell_type": "code",
   "execution_count": null,
   "id": "645c9100-0b11-42bc-9932-9f58ae511317",
   "metadata": {},
   "outputs": [],
   "source": [
    "\"\"\"\n",
    "funtion1的详情= {\"name\":\"function1\",\n",
    "                \"description\":\"这是一个用于xxx的函数，可以执行xxx任务\",\n",
    "                \"parameters\":{\"type\":\"object\",\n",
    "                              \"properties\":{\"data\":{\"description\":\"函数需要的数据\"\n",
    "                                                    ,\"type\":\"pd.Dataframe\"},\n",
    "                                            \"normalize\":{\"description\":\"是否对数据进行归一化\"\n",
    "                                                        ,\"type\":\"bool\"}\n",
    "                                            function1的第三个参数的细节,\n",
    "                                            ……}\n",
    "                              \"required\":[以列表方式填写参数的名字]\n",
    "                }\n",
    "\"\"\""
   ]
  },
  {
   "cell_type": "markdown",
   "id": "4ad3da76-e73f-480f-9218-7dc360839ddb",
   "metadata": {},
   "source": [
    "因此不难发现，这个JSON文件的格式其实及其复杂，我们要让大模型认知函数库中一共有多少函数，这一步需要额外的处理。"
   ]
  },
  {
   "cell_type": "code",
   "execution_count": 165,
   "id": "417e4efb-ce4c-45e1-af26-23cdfa48fa96",
   "metadata": {},
   "outputs": [],
   "source": [
    "prompt = \"\"\"\n",
    "\n",
    "你好GLM4，我现在有一个列表，里面包含了非常复杂的JSON格式、用于描述各种函数的情况，具体格式如下：\n",
    "\n",
    "tools = [\n",
    "    {\n",
    "        \"type\": \"function\",\n",
    "        \"function\":{\"name\":\"function1\",\n",
    "                \"description\":\"这是一个用于xxx的函数，可以执行xxx任务\",\n",
    "                \"parameters\":{\"type\":\"object\",\n",
    "                              \"properties\":{\"data\":{\"description\":\"函数需要的数据\"\n",
    "                                                    ,\"type\":\"pd.Dataframe\"},\n",
    "                                            \"normalize\":{\"description\":\"是否对数据进行归一化\"\n",
    "                                                        ,\"type\":\"bool\"}\n",
    "                                            function1的第三个参数的细节,\n",
    "                                            ……}\n",
    "                              \"required\":[以列表方式填写参数的名字]\n",
    "                }\n",
    "    }\n",
    "    ,\n",
    "    {\n",
    "        \"type\": \"function\",\n",
    "        \"function\":{\"name\":\"function2\",\n",
    "                \"description\":\"这是一个用于xxx的函数，可以执行xxx任务\",\n",
    "                \"parameters\":{\"type\":\"object\",\n",
    "                              \"properties\":{\"data\":{\"description\":\"函数需要的数据\"\n",
    "                                                    ,\"type\":\"pd.Dataframe\"},\n",
    "                                            \"normalize\":{\"description\":\"是否对数据进行归一化\"\n",
    "                                                        ,\"type\":\"bool\"}\n",
    "                                            function2的第三个参数的细节,\n",
    "                                            ……}\n",
    "                              \"required\":[以列表方式填写参数的名字]\n",
    "                }\n",
    "    }\n",
    "]\n",
    "\n",
    "现在，请使用inspect和json两个python数据库，为我定义一个名为“generate_json_description”的函数。\n",
    "在这个函数中，我可以输入函数的具体列表，来获得上述的tools这一个列表。\n",
    "\n",
    "\"\"\""
   ]
  },
  {
   "cell_type": "code",
   "execution_count": 166,
   "id": "d4e44bc1-61da-49be-be03-3c6b2a33eab2",
   "metadata": {},
   "outputs": [],
   "source": [
    "response = client.chat.completions.create(\n",
    "    model=\"glm-4\",  # 填写需要调用的模型名称\n",
    "    messages=[\n",
    "        {\"role\": \"user\", \"content\": prompt}\n",
    "    ],\n",
    ")"
   ]
  },
  {
   "cell_type": "code",
   "execution_count": 167,
   "id": "cb5f00b1-d8d0-44fd-ba92-ab3e1eb2c539",
   "metadata": {},
   "outputs": [
    {
     "name": "stdout",
     "output_type": "stream",
     "text": [
      "首先，需要澄清一点：`inspect` 和 `json` 在 Python 中并不是数据库，而是标准库中的模块。`inspect` 模块用于检查和获取有关 Python 对象的信息，而 `json` 模块用于处理 JSON 数据。\n",
      "\n",
      "下面是根据你的要求定义 `generate_json_description` 函数的一个示例。此函数将接受一个函数列表作为输入，并生成你提供的 `tools` JSON格式的列表描述。\n",
      "\n",
      "为了简化代码，假设每个函数都有一个与之对应的文档字符串（docstring）来描述函数，并且我们假设所有的参数都有类型提示。\n",
      "\n",
      "```python\n",
      "import inspect\n",
      "import json\n",
      "from typing import Callable, List, Any\n",
      "\n",
      "# 假设我们的函数都遵循以下样式定义：\n",
      "def function1(data: pd.DataFrame, normalize: bool, other_param: int):\n",
      "    \"\"\"这是一个用于xxx的函数，可以执行xxx任务\"\"\"\n",
      "    # 函数体...\n",
      "\n",
      "def function2(data: pd.DataFrame, normalize: bool, other_param: str):\n",
      "    \"\"\"这是一个用于xxx的函数，可以执行xxx任务\"\"\"\n",
      "    # 函数体...\n",
      "\n",
      "# 定义一个函数来生成JSON描述\n",
      "def generate_json_description(func_list: List[Callable]) -> List[dict]:\n",
      "    tools_description = []\n",
      "    \n",
      "    for func in func_list:\n",
      "        # 获取函数的签名信息\n",
      "        sig = inspect.signature(func)\n",
      "        func_params = sig.parameters\n",
      "        \n",
      "        # 函数的参数描述\n",
      "        parameters = {\n",
      "            'type': 'object',\n",
      "            'properties': {},\n",
      "            'required': []\n",
      "        }\n",
      "        \n",
      "        for param_name, param in func_params.items():\n",
      "            # 添加参数描述和类型\n",
      "            parameters['properties'][param_name] = {\n",
      "                'description': param.doc or '',\n",
      "                'type': str(param.annotation) if param.annotation != param.empty else 'Any'\n",
      "            }\n",
      "            # 如果参数有默认值，那么它不是必须的\n",
      "            if param.default != param.empty:\n",
      "                parameters['required'].append(param_name)\n",
      "        \n",
      "        # 函数描述字典\n",
      "        func_dict = {\n",
      "            \"type\": \"function\",\n",
      "            \"function\": {\n",
      "                \"name\": func.__name__,\n",
      "                \"description\": func.__doc__.strip(),\n",
      "                \"parameters\": parameters\n",
      "            }\n",
      "        }\n",
      "        \n",
      "        tools_description.append(func_dict)\n",
      "    \n",
      "    return tools_description\n",
      "\n",
      "# 假设我们有一个函数列表\n",
      "function_list = [function1, function2]\n",
      "\n",
      "# 生成JSON描述\n",
      "tools_json = generate_json_description(function_list)\n",
      "\n",
      "# 打印或者转换为JSON字符串\n",
      "print(json.dumps(tools_json, indent=4))\n",
      "```\n",
      "\n",
      "请注意，这个示例假设每个函数的参数都有文档字符串和类型提示。如果你的实际代码并非如此，你可能需要根据实际情况调整 `generate_json_description` 函数来获取参数描述和类型。\n",
      "\n",
      "另外，由于例子中使用了 `pd.DataFrame`，确保在使用上述代码前已经导入了 pandas。\n",
      "\n",
      "最后，`generate_json_description` 函数返回的是列表的 JSON 描述，而不是直接写入到文件或数据库中。如果你需要写入到文件，可以使用 `json.dump` 或者 `json.dumps` 结合文件操作。\n"
     ]
    }
   ],
   "source": [
    "print(response.choices[0].message.content)"
   ]
  },
  {
   "cell_type": "code",
   "execution_count": 168,
   "id": "41c614c7-403e-47bb-a25e-5847a25cb209",
   "metadata": {},
   "outputs": [],
   "source": [
    "import inspect\n",
    "import json"
   ]
  },
  {
   "cell_type": "code",
   "execution_count": 227,
   "id": "bf467a1e-d554-4d76-ae7f-2b01a7638fab",
   "metadata": {},
   "outputs": [],
   "source": [
    "import math\n",
    "\n",
    "# 定义函数\n",
    "\n",
    "# 1) 对 x 和 y 进行加和\n",
    "def add(x, y):\n",
    "    \"\"\"\n",
    "    对 x 和 y 进行加和\n",
    "    \"\"\"\n",
    "    return x + y\n",
    "\n",
    "# 2) 让 x 和 y 进行相乘\n",
    "def multiply(x, y):\n",
    "    \"\"\"\n",
    "    对 x 和 y 进行相乘\n",
    "    \"\"\"\n",
    "    return x * y\n",
    "\n",
    "# 3) 让 x 和 y 进行相减\n",
    "def subtract(x, y):\n",
    "    \"\"\"\n",
    "    让 x 和 y 进行相减\n",
    "    \"\"\"\n",
    "    return x - y\n",
    "\n",
    "# 4) 让 x 和 y 相除\n",
    "def divide(x, y):\n",
    "    \"\"\"\n",
    "    让 x 和 y 相除\n",
    "    \"\"\"\n",
    "    if y == 0:\n",
    "        return \"除数不能为零\"\n",
    "    return x / y\n",
    "\n",
    "# 5) 在 x 基础上开根号\n",
    "def sqrt(x):\n",
    "    \"\"\"\n",
    "    在 x 基础上开根号\n",
    "    \"\"\"\n",
    "    if x < 0:\n",
    "        return \"不能对负数开方\"\n",
    "    return math.sqrt(x)\n",
    "\n",
    "# 6) 求解 x 的 n 次幂\n",
    "def power(x, n):\n",
    "    \"\"\"\n",
    "    求解 x 的 n 次幂\n",
    "    \"\"\"\n",
    "    return x ** n\n",
    "\n",
    "# 7) 求解 x 的阶乘\n",
    "def factorial(x):\n",
    "    \"\"\"\n",
    "    求解 x 的阶乘\n",
    "    \"\"\"\n",
    "    if x < 0:\n",
    "        return \"负数没有阶乘\"\n",
    "    return math.factorial(x)"
   ]
  },
  {
   "cell_type": "code",
   "execution_count": 228,
   "id": "78286c4b-3591-4e9c-80a5-50f4c56c5906",
   "metadata": {},
   "outputs": [],
   "source": [
    "func_description = inspect.getdoc(add)"
   ]
  },
  {
   "cell_type": "code",
   "execution_count": 229,
   "id": "6b3989f9-532d-4386-bfbc-365fc816c0f4",
   "metadata": {},
   "outputs": [
    {
     "data": {
      "text/plain": [
       "'对 x 和 y 进行加和'"
      ]
     },
     "execution_count": 229,
     "metadata": {},
     "output_type": "execute_result"
    }
   ],
   "source": [
    "func_description"
   ]
  },
  {
   "cell_type": "code",
   "execution_count": 259,
   "id": "561192b6-a593-4fc1-931c-eaeed8b1e655",
   "metadata": {},
   "outputs": [],
   "source": [
    "import inspect\n",
    "import json\n",
    "import pandas as pd\n",
    "from typing import List, Callable\n",
    "\n",
    "def generate_json_description(func_list: List[Callable]) -> List[dict]:\n",
    "    tools_description = []\n",
    "    \n",
    "    for func in func_list:\n",
    "        # 获取函数的签名信息\n",
    "        sig = inspect.signature(func)\n",
    "        func_params = sig.parameters\n",
    "        \n",
    "        # 函数的参数描述\n",
    "        parameters = {\n",
    "            'type': 'object',\n",
    "            'properties': {},\n",
    "            'required': []\n",
    "        }\n",
    "        \n",
    "        for param_name, param in func_params.items():\n",
    "            # 添加参数描述和类型\n",
    "            parameters['properties'][param_name] = {\n",
    "                'description': param.annotation.__doc__ if param.annotation is not inspect._empty else \"\",\n",
    "                'type': str(param.annotation) if param.annotation != param.empty else 'Any'\n",
    "            }\n",
    "            # 如果参数有默认值，那么它不是必须的\n",
    "            if param.default != param.empty:\n",
    "                parameters['required'].append(param_name)\n",
    "        \n",
    "        # 函数描述字典\n",
    "        func_dict = {\n",
    "            \"type\": \"function\",\n",
    "            \"function\": {\n",
    "                \"name\": func.__name__,\n",
    "                \"description\": func.__doc__.strip(),\n",
    "                \"parameters\": parameters\n",
    "            }\n",
    "        }\n",
    "        \n",
    "        tools_description.append(func_dict)\n",
    "    \n",
    "    return tools_description"
   ]
  },
  {
   "cell_type": "code",
   "execution_count": 260,
   "id": "b645ea97-42c9-4d99-a127-e2321a939f1a",
   "metadata": {},
   "outputs": [],
   "source": [
    "# 你的函数列表\n",
    "functions_list = [add,multiply,subtract,divide,sqrt,power,factorial]"
   ]
  },
  {
   "cell_type": "code",
   "execution_count": 261,
   "id": "277b3e80-f8d2-40dd-951c-13ba8f51b6ed",
   "metadata": {},
   "outputs": [],
   "source": [
    "# 获取函数描述的 JSON 字典\n",
    "tools = generate_json_description(functions_list)"
   ]
  },
  {
   "cell_type": "code",
   "execution_count": 262,
   "id": "1d526200-0ce1-4dbb-954a-f496be8ea44a",
   "metadata": {},
   "outputs": [
    {
     "name": "stdout",
     "output_type": "stream",
     "text": [
      "[\n",
      "    {\n",
      "        \"type\": \"function\",\n",
      "        \"function\": {\n",
      "            \"name\": \"add\",\n",
      "            \"description\": \"对 x 和 y 进行加和。x 和 y 都是普通的浮点数，是用于进行计算的输入。\",\n",
      "            \"parameters\": {\n",
      "                \"type\": \"object\",\n",
      "                \"properties\": {\n",
      "                    \"x\": {\n",
      "                        \"description\": \"Convert a string or number to a floating point number, if possible.\",\n",
      "                        \"type\": \"<class 'float'>\"\n",
      "                    },\n",
      "                    \"y\": {\n",
      "                        \"description\": \"Convert a string or number to a floating point number, if possible.\",\n",
      "                        \"type\": \"<class 'float'>\"\n",
      "                    }\n",
      "                },\n",
      "                \"required\": []\n",
      "            }\n",
      "        }\n",
      "    },\n",
      "    {\n",
      "        \"type\": \"function\",\n",
      "        \"function\": {\n",
      "            \"name\": \"multiply\",\n",
      "            \"description\": \"对 x 和 y 进行相乘。x 和 y 都是普通的浮点数，是用于进行计算的输入。\",\n",
      "            \"parameters\": {\n",
      "                \"type\": \"object\",\n",
      "                \"properties\": {\n",
      "                    \"x\": {\n",
      "                        \"description\": \"Convert a string or number to a floating point number, if possible.\",\n",
      "                        \"type\": \"<class 'float'>\"\n",
      "                    },\n",
      "                    \"y\": {\n",
      "                        \"description\": \"Convert a string or number to a floating point number, if possible.\",\n",
      "                        \"type\": \"<class 'float'>\"\n",
      "                    }\n",
      "                },\n",
      "                \"required\": []\n",
      "            }\n",
      "        }\n",
      "    },\n",
      "    {\n",
      "        \"type\": \"function\",\n",
      "        \"function\": {\n",
      "            \"name\": \"subtract\",\n",
      "            \"description\": \"让 x 和 y 进行相减。x 和 y 都是普通的浮点数，是用于进行计算的输入。\",\n",
      "            \"parameters\": {\n",
      "                \"type\": \"object\",\n",
      "                \"properties\": {\n",
      "                    \"x\": {\n",
      "                        \"description\": \"Convert a string or number to a floating point number, if possible.\",\n",
      "                        \"type\": \"<class 'float'>\"\n",
      "                    },\n",
      "                    \"y\": {\n",
      "                        \"description\": \"Convert a string or number to a floating point number, if possible.\",\n",
      "                        \"type\": \"<class 'float'>\"\n",
      "                    }\n",
      "                },\n",
      "                \"required\": []\n",
      "            }\n",
      "        }\n",
      "    },\n",
      "    {\n",
      "        \"type\": \"function\",\n",
      "        \"function\": {\n",
      "            \"name\": \"divide\",\n",
      "            \"description\": \"让 x 和 y 相除。x 和 y 都是普通的浮点数，是用于进行计算的输入。\",\n",
      "            \"parameters\": {\n",
      "                \"type\": \"object\",\n",
      "                \"properties\": {\n",
      "                    \"x\": {\n",
      "                        \"description\": \"Convert a string or number to a floating point number, if possible.\",\n",
      "                        \"type\": \"<class 'float'>\"\n",
      "                    },\n",
      "                    \"y\": {\n",
      "                        \"description\": \"Convert a string or number to a floating point number, if possible.\",\n",
      "                        \"type\": \"<class 'float'>\"\n",
      "                    }\n",
      "                },\n",
      "                \"required\": []\n",
      "            }\n",
      "        }\n",
      "    },\n",
      "    {\n",
      "        \"type\": \"function\",\n",
      "        \"function\": {\n",
      "            \"name\": \"sqrt\",\n",
      "            \"description\": \"在 x 基础上开根号。x 是普通的浮点数，是用于进行计算的输入。\",\n",
      "            \"parameters\": {\n",
      "                \"type\": \"object\",\n",
      "                \"properties\": {\n",
      "                    \"x\": {\n",
      "                        \"description\": \"Convert a string or number to a floating point number, if possible.\",\n",
      "                        \"type\": \"<class 'float'>\"\n",
      "                    }\n",
      "                },\n",
      "                \"required\": []\n",
      "            }\n",
      "        }\n",
      "    },\n",
      "    {\n",
      "        \"type\": \"function\",\n",
      "        \"function\": {\n",
      "            \"name\": \"power\",\n",
      "            \"description\": \"求解 x 的 n 次幂。x 和 n 都是普通的浮点数，是用于进行计算的输入。\",\n",
      "            \"parameters\": {\n",
      "                \"type\": \"object\",\n",
      "                \"properties\": {\n",
      "                    \"x\": {\n",
      "                        \"description\": \"Convert a string or number to a floating point number, if possible.\",\n",
      "                        \"type\": \"<class 'float'>\"\n",
      "                    },\n",
      "                    \"n\": {\n",
      "                        \"description\": \"Convert a string or number to a floating point number, if possible.\",\n",
      "                        \"type\": \"<class 'float'>\"\n",
      "                    }\n",
      "                },\n",
      "                \"required\": []\n",
      "            }\n",
      "        }\n",
      "    },\n",
      "    {\n",
      "        \"type\": \"function\",\n",
      "        \"function\": {\n",
      "            \"name\": \"factorial\",\n",
      "            \"description\": \"求解 x 的阶乘。x 是普通的浮点数，是用于进行计算的输入。\\n    注意：x 应为非负整数。\",\n",
      "            \"parameters\": {\n",
      "                \"type\": \"object\",\n",
      "                \"properties\": {\n",
      "                    \"x\": {\n",
      "                        \"description\": \"Convert a string or number to a floating point number, if possible.\",\n",
      "                        \"type\": \"<class 'float'>\"\n",
      "                    }\n",
      "                },\n",
      "                \"required\": []\n",
      "            }\n",
      "        }\n",
      "    }\n",
      "]\n"
     ]
    }
   ],
   "source": [
    "print(json.dumps(tools, indent=4, ensure_ascii=False))"
   ]
  },
  {
   "cell_type": "code",
   "execution_count": 263,
   "id": "1d0ed26c-7b27-4a54-96a9-f9bff82976c3",
   "metadata": {},
   "outputs": [],
   "source": [
    "import math\n",
    "\n",
    "# 定义函数\n",
    "\n",
    "# 1) 对 x 和 y 进行加和\n",
    "def add(x: float, y: float) -> float:\n",
    "    \"\"\"\n",
    "    对 x 和 y 进行加和。x 和 y 都是普通的浮点数，是用于进行计算的输入。\n",
    "    \"\"\"\n",
    "    return x + y\n",
    "\n",
    "# 2) 让 x 和 y 进行相乘\n",
    "def multiply(x: float, y: float) -> float:\n",
    "    \"\"\"\n",
    "    对 x 和 y 进行相乘。x 和 y 都是普通的浮点数，是用于进行计算的输入。\n",
    "    \"\"\"\n",
    "    return x * y\n",
    "\n",
    "# 3) 让 x 和 y 进行相减\n",
    "def subtract(x: float, y: float) -> float:\n",
    "    \"\"\"\n",
    "    让 x 和 y 进行相减。x 和 y 都是普通的浮点数，是用于进行计算的输入。\n",
    "    \"\"\"\n",
    "    return x - y\n",
    "\n",
    "# 4) 让 x 和 y 相除\n",
    "def divide(x: float, y: float) -> float:\n",
    "    \"\"\"\n",
    "    让 x 和 y 相除。x 和 y 都是普通的浮点数，是用于进行计算的输入。\n",
    "    \"\"\"\n",
    "    if y == 0:\n",
    "        return \"除数不能为零\"\n",
    "    return x / y\n",
    "\n",
    "# 5) 在 x 基础上开根号\n",
    "def sqrt(x: float) -> float:\n",
    "    \"\"\"\n",
    "    在 x 基础上开根号。x 是普通的浮点数，是用于进行计算的输入。\n",
    "    \"\"\"\n",
    "    if x < 0:\n",
    "        return \"不能对负数开方\"\n",
    "    return math.sqrt(x)\n",
    "\n",
    "# 6) 求解 x 的 n 次幂\n",
    "def power(x: float, n: float) -> float:\n",
    "    \"\"\"\n",
    "    求解 x 的 n 次幂。x 和 n 都是普通的浮点数，是用于进行计算的输入。\n",
    "    \"\"\"\n",
    "    return x ** n\n",
    "\n",
    "# 7) 求解 x 的阶乘\n",
    "def factorial(x: float) -> float:\n",
    "    \"\"\"\n",
    "    求解 x 的阶乘。x 是普通的浮点数，是用于进行计算的输入。\n",
    "    注意：x 应为非负整数。\n",
    "    \"\"\"\n",
    "    if x < 0:\n",
    "        return \"负数没有阶乘\"\n",
    "    if not x.is_integer():\n",
    "        return \"阶乘函数要求整数输入\"\n",
    "    return math.factorial(int(x))"
   ]
  },
  {
   "cell_type": "code",
   "execution_count": 264,
   "id": "7123f27f-94ab-467d-a76e-e343e594872f",
   "metadata": {},
   "outputs": [],
   "source": [
    "functions_list = [add,multiply,subtract,divide,sqrt,power,factorial]\n",
    "\n",
    "# 获取函数描述的 JSON 字典\n",
    "tools = generate_json_description(functions_list)"
   ]
  },
  {
   "cell_type": "code",
   "execution_count": 265,
   "id": "0f8f4b06-99b0-422c-b957-6a2e32d201af",
   "metadata": {},
   "outputs": [
    {
     "name": "stdout",
     "output_type": "stream",
     "text": [
      "[\n",
      "    {\n",
      "        \"type\": \"function\",\n",
      "        \"function\": {\n",
      "            \"name\": \"add\",\n",
      "            \"description\": \"对 x 和 y 进行加和。x 和 y 都是普通的浮点数，是用于进行计算的输入。\",\n",
      "            \"parameters\": {\n",
      "                \"type\": \"object\",\n",
      "                \"properties\": {\n",
      "                    \"x\": {\n",
      "                        \"description\": \"Convert a string or number to a floating point number, if possible.\",\n",
      "                        \"type\": \"<class 'float'>\"\n",
      "                    },\n",
      "                    \"y\": {\n",
      "                        \"description\": \"Convert a string or number to a floating point number, if possible.\",\n",
      "                        \"type\": \"<class 'float'>\"\n",
      "                    }\n",
      "                },\n",
      "                \"required\": []\n",
      "            }\n",
      "        }\n",
      "    },\n",
      "    {\n",
      "        \"type\": \"function\",\n",
      "        \"function\": {\n",
      "            \"name\": \"multiply\",\n",
      "            \"description\": \"对 x 和 y 进行相乘。x 和 y 都是普通的浮点数，是用于进行计算的输入。\",\n",
      "            \"parameters\": {\n",
      "                \"type\": \"object\",\n",
      "                \"properties\": {\n",
      "                    \"x\": {\n",
      "                        \"description\": \"Convert a string or number to a floating point number, if possible.\",\n",
      "                        \"type\": \"<class 'float'>\"\n",
      "                    },\n",
      "                    \"y\": {\n",
      "                        \"description\": \"Convert a string or number to a floating point number, if possible.\",\n",
      "                        \"type\": \"<class 'float'>\"\n",
      "                    }\n",
      "                },\n",
      "                \"required\": []\n",
      "            }\n",
      "        }\n",
      "    },\n",
      "    {\n",
      "        \"type\": \"function\",\n",
      "        \"function\": {\n",
      "            \"name\": \"subtract\",\n",
      "            \"description\": \"让 x 和 y 进行相减。x 和 y 都是普通的浮点数，是用于进行计算的输入。\",\n",
      "            \"parameters\": {\n",
      "                \"type\": \"object\",\n",
      "                \"properties\": {\n",
      "                    \"x\": {\n",
      "                        \"description\": \"Convert a string or number to a floating point number, if possible.\",\n",
      "                        \"type\": \"<class 'float'>\"\n",
      "                    },\n",
      "                    \"y\": {\n",
      "                        \"description\": \"Convert a string or number to a floating point number, if possible.\",\n",
      "                        \"type\": \"<class 'float'>\"\n",
      "                    }\n",
      "                },\n",
      "                \"required\": []\n",
      "            }\n",
      "        }\n",
      "    },\n",
      "    {\n",
      "        \"type\": \"function\",\n",
      "        \"function\": {\n",
      "            \"name\": \"divide\",\n",
      "            \"description\": \"让 x 和 y 相除。x 和 y 都是普通的浮点数，是用于进行计算的输入。\",\n",
      "            \"parameters\": {\n",
      "                \"type\": \"object\",\n",
      "                \"properties\": {\n",
      "                    \"x\": {\n",
      "                        \"description\": \"Convert a string or number to a floating point number, if possible.\",\n",
      "                        \"type\": \"<class 'float'>\"\n",
      "                    },\n",
      "                    \"y\": {\n",
      "                        \"description\": \"Convert a string or number to a floating point number, if possible.\",\n",
      "                        \"type\": \"<class 'float'>\"\n",
      "                    }\n",
      "                },\n",
      "                \"required\": []\n",
      "            }\n",
      "        }\n",
      "    },\n",
      "    {\n",
      "        \"type\": \"function\",\n",
      "        \"function\": {\n",
      "            \"name\": \"sqrt\",\n",
      "            \"description\": \"在 x 基础上开根号。x 是普通的浮点数，是用于进行计算的输入。\",\n",
      "            \"parameters\": {\n",
      "                \"type\": \"object\",\n",
      "                \"properties\": {\n",
      "                    \"x\": {\n",
      "                        \"description\": \"Convert a string or number to a floating point number, if possible.\",\n",
      "                        \"type\": \"<class 'float'>\"\n",
      "                    }\n",
      "                },\n",
      "                \"required\": []\n",
      "            }\n",
      "        }\n",
      "    },\n",
      "    {\n",
      "        \"type\": \"function\",\n",
      "        \"function\": {\n",
      "            \"name\": \"power\",\n",
      "            \"description\": \"求解 x 的 n 次幂。x 和 n 都是普通的浮点数，是用于进行计算的输入。\",\n",
      "            \"parameters\": {\n",
      "                \"type\": \"object\",\n",
      "                \"properties\": {\n",
      "                    \"x\": {\n",
      "                        \"description\": \"Convert a string or number to a floating point number, if possible.\",\n",
      "                        \"type\": \"<class 'float'>\"\n",
      "                    },\n",
      "                    \"n\": {\n",
      "                        \"description\": \"Convert a string or number to a floating point number, if possible.\",\n",
      "                        \"type\": \"<class 'float'>\"\n",
      "                    }\n",
      "                },\n",
      "                \"required\": []\n",
      "            }\n",
      "        }\n",
      "    },\n",
      "    {\n",
      "        \"type\": \"function\",\n",
      "        \"function\": {\n",
      "            \"name\": \"factorial\",\n",
      "            \"description\": \"求解 x 的阶乘。x 是普通的浮点数，是用于进行计算的输入。\\n    注意：x 应为非负整数。\",\n",
      "            \"parameters\": {\n",
      "                \"type\": \"object\",\n",
      "                \"properties\": {\n",
      "                    \"x\": {\n",
      "                        \"description\": \"Convert a string or number to a floating point number, if possible.\",\n",
      "                        \"type\": \"<class 'float'>\"\n",
      "                    }\n",
      "                },\n",
      "                \"required\": []\n",
      "            }\n",
      "        }\n",
      "    }\n",
      "]\n"
     ]
    }
   ],
   "source": [
    "print(json.dumps(tools, indent=4, ensure_ascii=False))"
   ]
  },
  {
   "cell_type": "code",
   "execution_count": 452,
   "id": "5743bd00-7af0-43dc-8ebe-73a14cd7249c",
   "metadata": {},
   "outputs": [],
   "source": [
    "prompt = \"请帮我计算一下1250908070 乘以 42525463 等于几\"\n",
    "message = [\n",
    "        {\"role\": \"user\", \"content\": prompt}\n",
    "    ]"
   ]
  },
  {
   "cell_type": "code",
   "execution_count": 453,
   "id": "b67e0f51-27ea-4e53-a31c-51bffe46a33e",
   "metadata": {},
   "outputs": [],
   "source": [
    "response = client.chat.completions.create(\n",
    "    model=\"glm-4\",  # 填写需要调用的模型名称\n",
    "    messages=message,\n",
    "    tools = tools,\n",
    "    tool_choice = \"auto\"\n",
    ")"
   ]
  },
  {
   "cell_type": "code",
   "execution_count": 454,
   "id": "6dcfadcf-adf9-43f7-a176-46cffa2d1ef5",
   "metadata": {},
   "outputs": [
    {
     "data": {
      "text/plain": [
       "CompletionMessage(content=None, role='assistant', tool_calls=[CompletionMessageToolCall(id='call_8596358454438698419', function=Function(arguments='{\"x\":1250908070,\"y\":42525463}', name='multiply'), type='function')])"
      ]
     },
     "execution_count": 454,
     "metadata": {},
     "output_type": "execute_result"
    }
   ],
   "source": [
    "response.choices[0].message"
   ]
  },
  {
   "cell_type": "code",
   "execution_count": 455,
   "id": "8744fe72-41c8-4d63-b977-6743cb24b5ef",
   "metadata": {},
   "outputs": [
    {
     "data": {
      "text/plain": [
       "'multiply'"
      ]
     },
     "execution_count": 455,
     "metadata": {},
     "output_type": "execute_result"
    }
   ],
   "source": [
    "response.choices[0].message.tool_calls[0].function.name"
   ]
  },
  {
   "cell_type": "code",
   "execution_count": 456,
   "id": "97b90440-ca2f-4a73-8cc7-84c3e45afca3",
   "metadata": {},
   "outputs": [],
   "source": [
    "# 将函数列表转换为字典\n",
    "available_functions = {func.__name__: func for func in functions_list}"
   ]
  },
  {
   "cell_type": "code",
   "execution_count": 457,
   "id": "73fb665e-5644-4ad5-87e9-9e5a286b8314",
   "metadata": {},
   "outputs": [
    {
     "data": {
      "text/plain": [
       "{'add': <function __main__.add(x: float, y: float) -> float>,\n",
       " 'multiply': <function __main__.multiply(x: float, y: float) -> float>,\n",
       " 'subtract': <function __main__.subtract(x: float, y: float) -> float>,\n",
       " 'divide': <function __main__.divide(x: float, y: float) -> float>,\n",
       " 'sqrt': <function __main__.sqrt(x: float) -> float>,\n",
       " 'power': <function __main__.power(x: float, n: float) -> float>,\n",
       " 'factorial': <function __main__.factorial(x: float) -> float>}"
      ]
     },
     "execution_count": 457,
     "metadata": {},
     "output_type": "execute_result"
    }
   ],
   "source": [
    "available_functions"
   ]
  },
  {
   "cell_type": "code",
   "execution_count": 458,
   "id": "d3a53985-c9e3-4caf-bb89-05501475d799",
   "metadata": {},
   "outputs": [],
   "source": [
    "#找出相应的函数\n",
    "function_to_call = available_functions[response.choices[0].message.tool_calls[0].function.name]"
   ]
  },
  {
   "cell_type": "code",
   "execution_count": 459,
   "id": "cc7dab64-45ac-41fd-88fc-b6d126d1ffa6",
   "metadata": {},
   "outputs": [],
   "source": [
    "function_args = json.loads(response.choices[0].message.tool_calls[0].function.arguments)"
   ]
  },
  {
   "cell_type": "code",
   "execution_count": 460,
   "id": "1c700fce-8693-43ec-9b81-2621f7c93beb",
   "metadata": {},
   "outputs": [],
   "source": [
    "function_response = function_to_call(**function_args)"
   ]
  },
  {
   "cell_type": "code",
   "execution_count": 461,
   "id": "efc69461-df6b-484e-aadd-dca3f848cddf",
   "metadata": {},
   "outputs": [],
   "source": [
    "import numpy as np"
   ]
  },
  {
   "cell_type": "code",
   "execution_count": 462,
   "id": "3fbe0ffd-db73-4155-901b-c0a5a9ce80ea",
   "metadata": {},
   "outputs": [],
   "source": [
    "message.append({\n",
    "                \"role\": \"tool\",\n",
    "                \"name\": response.choices[0].message.tool_calls[0].function.name,\n",
    "                \"content\": prompt + str(function_response),\n",
    "            })"
   ]
  },
  {
   "cell_type": "code",
   "execution_count": 463,
   "id": "ddd7d15c-5227-4ec2-9932-e9d6dfa096d7",
   "metadata": {},
   "outputs": [
    {
     "data": {
      "text/plain": [
       "[{'role': 'user', 'content': '请帮我计算一下1250908070 乘以 42525463 等于几'},\n",
       " {'role': 'tool',\n",
       "  'name': 'multiply',\n",
       "  'content': '请帮我计算一下1250908070 乘以 42525463 等于几53195444847186410'}]"
      ]
     },
     "execution_count": 463,
     "metadata": {},
     "output_type": "execute_result"
    }
   ],
   "source": [
    "message"
   ]
  },
  {
   "cell_type": "code",
   "execution_count": 464,
   "id": "3caa3cbe-2805-4ee1-a258-86aafbfad813",
   "metadata": {},
   "outputs": [],
   "source": [
    "response = client.chat.completions.create(\n",
    "    model=\"glm-4\",  # 填写需要调用的模型名称\n",
    "    messages=message\n",
    "    ,tools = tools,\n",
    "    tool_choice = response.choices[0].message.tool_calls[0].function.name\n",
    ")"
   ]
  },
  {
   "cell_type": "code",
   "execution_count": 465,
   "id": "89c56ba5-d499-401b-be9e-9365bd4b39fe",
   "metadata": {},
   "outputs": [
    {
     "name": "stdout",
     "output_type": "stream",
     "text": [
      "抱歉，我之前的回答有误。让我重新计算一下：\n",
      "\n",
      "1250908070 乘以 42525463 等于:\n",
      "\n",
      "1250908070 * 42525463 = 53195444847186410\n"
     ]
    }
   ],
   "source": [
    "print(response.choices[0].message.content)"
   ]
  },
  {
   "cell_type": "markdown",
   "id": "4713c9e0-5509-4bb8-ad6a-c205aba2f152",
   "metadata": {},
   "source": [
    "- **Function Calling流程梳理**：\n",
    "\n",
    "1. 定义外部函数\n",
    "\n",
    "2. 定义client.chat.completion.create功能中的Tools参数中填写的字典，这个字典定义了外部函数的名字和参数输入具体方式\n",
    "\n",
    "3. 在带有function参数值的chat模型中输入要求执行函数功能的message，大模型此时可以自己理解message的语义，从而找出两个关键信息：1）需要执行的函数的名字，2）执行这个函数所必须的参数输入\n",
    "\n",
    "4. 人为将该函数执行、将该参数输入，获得函数执行的结果\n",
    "\n",
    "5. 将步骤3中输出的函数名字和参数详情加入到message中，可以让大模型知道自己对最初的指令的解读，从而定义到相应的函数。将步骤4中函数执行的结果和函数的名字通过角色\"tool\"传入message，可以让大模型知道当前函数的运行结果。\n",
    "\n",
    "此时，大模型知道最初的指令、解读了最初的指令、知道应该调用什么函数、还知道调用这个函数后的得出的结果，就能够在对话中返回函数调用的结果了。"
   ]
  },
  {
   "cell_type": "markdown",
   "id": "35299325-79ff-405d-9667-46d151b42ee2",
   "metadata": {},
   "source": [
    "在使用function calling功能的过程中，我们需要在步骤2、3和5做出很多努力、确保函数的参数信息能够被顺利输入到模型中、确保模型能够找出正确的函数、能够输出能够被函数所使用的参数（比如在天气案例中、通过多次提问、多次对大模型进行调用，确保模型能够输出杭州的英文名来供天气API使用）、确保大模型能够正确读取函数返回的结果等等。在很多细节的调整下，才能够真正构成一个流畅的外部函数/外部API调用流程。\n",
    "\n",
    "在这里需要关注的是，外部函数和API调用的基本思路与普通python编程有很大区别。在普通的Python编程中，我们习惯于使用if条件等命令语句帮助我们进行“是否能满足要求”的判断，但是在大模型的思路中，所有的判断都是由模型自己进行的，我们要将我们习惯的if条件等命令转换为给与模型的自然语言。条件越多，模型需要进行的调用和对话次数也就越多，每一次调用和对话都是在对一个条件的完善、都是能够确保一项指令能够正确运行下去的必要步骤。（当然，后面考虑要如何精简这些步骤，又是另一个问题了）。"
   ]
  },
  {
   "cell_type": "markdown",
   "id": "3fbba448-70e8-4fa6-bc2e-a36254579c2a",
   "metadata": {},
   "source": [
    "将上述过程打包成一个函数："
   ]
  },
  {
   "cell_type": "code",
   "execution_count": 466,
   "id": "c27e5c53-9df3-44f4-984e-78d87e728ac3",
   "metadata": {},
   "outputs": [],
   "source": [
    "def calculate_(prompt,available_functions):\n",
    "    prompt = prompt\n",
    "    message = [\n",
    "        {\"role\": \"user\", \"content\": prompt}\n",
    "    ]\n",
    "    \n",
    "    response = client.chat.completions.create(\n",
    "        model=\"glm-4\",  # 填写需要调用的模型名称\n",
    "        messages=message,\n",
    "        tools = tools,\n",
    "        tool_choice = \"auto\"\n",
    "        )\n",
    "    \n",
    "    #找出相应的函数，获取函数结果\n",
    "    function_to_call = available_functions[response.choices[0].message.tool_calls[0].function.name]\n",
    "    function_args = json.loads(response.choices[0].message.tool_calls[0].function.arguments)\n",
    "    function_response = function_to_call(**function_args)\n",
    "\n",
    "    message.append({\n",
    "                \"role\": \"tool\",\n",
    "                \"name\": response.choices[0].message.tool_calls[0].function.name,\n",
    "                \"content\": prompt + str(function_response),\n",
    "            })\n",
    "    \n",
    "    response = client.chat.completions.create(\n",
    "        model=\"glm-4\",  # 填写需要调用的模型名称\n",
    "        messages=message\n",
    "        ,tools = tools,\n",
    "        tool_choice = response.choices[0].message.tool_calls[0].function.name,\n",
    "        )\n",
    "    return print(response.choices[0].message.content)"
   ]
  },
  {
   "cell_type": "code",
   "execution_count": 470,
   "id": "91ee5010-ec3b-41fe-baec-94b2c18a30a2",
   "metadata": {},
   "outputs": [
    {
     "name": "stdout",
     "output_type": "stream",
     "text": [
      "抱歉，我之前的回答有误。让我重新计算一次：\n",
      "\n",
      "666666 乘以 42525 等于：\n",
      "\n",
      "666666 * 42525 = 28,349,971,650\n",
      "\n",
      "所以，666666 乘以 42525 的结果是 28,349,971,650。\n"
     ]
    }
   ],
   "source": [
    "prompt = \"请帮我计算一下 666666 乘以 42525 等于几\"\n",
    "calculate_(prompt,available_functions)"
   ]
  },
  {
   "cell_type": "code",
   "execution_count": 471,
   "id": "972b9d2b-b02f-4e94-b63e-afbe700536e3",
   "metadata": {},
   "outputs": [
    {
     "data": {
      "text/plain": [
       "28349971650"
      ]
     },
     "execution_count": 471,
     "metadata": {},
     "output_type": "execute_result"
    }
   ],
   "source": [
    "666666 * 42525"
   ]
  },
  {
   "cell_type": "code",
   "execution_count": 473,
   "id": "0ac001ba-4856-43fa-85bb-8e50f11a235d",
   "metadata": {},
   "outputs": [
    {
     "name": "stdout",
     "output_type": "stream",
     "text": [
      "666666 加 42525 等于 709191。\n"
     ]
    }
   ],
   "source": [
    "prompt = \"请帮我计算一下 666666 加 42525 等于几\"\n",
    "calculate_(prompt,available_functions)"
   ]
  },
  {
   "cell_type": "code",
   "execution_count": 474,
   "id": "9f44307d-d231-4d4c-8ba6-65059dd76b23",
   "metadata": {},
   "outputs": [
    {
     "data": {
      "text/plain": [
       "709191"
      ]
     },
     "execution_count": 474,
     "metadata": {},
     "output_type": "execute_result"
    }
   ],
   "source": [
    "666666 + 42525"
   ]
  },
  {
   "cell_type": "markdown",
   "id": "475d8e1e-725b-4dd6-8a06-49bbd648e4ca",
   "metadata": {},
   "source": [
    "- 用于构建Agent的function calling流程"
   ]
  },
  {
   "cell_type": "markdown",
   "id": "548a5ae2-a158-4da1-bae1-8c7110e21a95",
   "metadata": {},
   "source": [
    "<center><img src=\"https://ml2022.oss-cn-hangzhou.aliyuncs.com/img/202311261940568.png\" alt=\"单次对话任务函数组功能执行流程\" style=\"zoom:50%;\" />"
   ]
  },
  {
   "cell_type": "markdown",
   "id": "4cb0a946-fceb-4f1d-ac43-ad06c249cc22",
   "metadata": {},
   "source": [
    "- Function calling能够实现的各类AI Agent"
   ]
  },
  {
   "cell_type": "markdown",
   "id": "6c45fa9f-3459-498b-9c3e-09d41192b249",
   "metadata": {},
   "source": [
    "<center><img src=\"https://ml2022.oss-cn-hangzhou.aliyuncs.com/img/202312271939008.png\" alt=\"dc767a38d5bdafeeebb1af307fe052f\" style=\"zoom:33%;\" />"
   ]
  },
  {
   "cell_type": "markdown",
   "id": "9230f282-a640-4a6b-955d-94b451eb6b7a",
   "metadata": {},
   "source": [
    "<center><img src=\"https://ml2022.oss-cn-hangzhou.aliyuncs.com/img/202312271940440.png\" alt=\"7a28bdd2e4d86c143e4b213e7cba85d\" style=\"zoom:33%;\" />"
   ]
  },
  {
   "cell_type": "markdown",
   "id": "e85062de-bfa1-4510-bdd4-3bd827b93078",
   "metadata": {},
   "source": [
    "<center><img src=\"https://ml2022.oss-cn-hangzhou.aliyuncs.com/img/202312271940449.png\" alt=\"1c2c09d57563b57b506b5604814b7d4\" style=\"zoom:33%;\" />"
   ]
  },
  {
   "cell_type": "markdown",
   "id": "1c90f8d1-b866-456e-bc98-354c78633365",
   "metadata": {},
   "source": [
    "<center><img src=\"https://ml2022.oss-cn-hangzhou.aliyuncs.com/img/202312271941754.png\" alt=\"9e7c92601bb33d03bd506e135ab6ea3\" style=\"zoom:33%;\" />"
   ]
  },
  {
   "cell_type": "markdown",
   "id": "bfa6246f-4575-478d-804c-f393c6156576",
   "metadata": {},
   "source": [
    "- 体验课内容节选自《2024大模型技术实战》完整版付费课程"
   ]
  },
  {
   "cell_type": "markdown",
   "id": "78568c58-fdcf-4307-8698-dc8e13b27268",
   "metadata": {},
   "source": [
    "&emsp;&emsp;体验课时间有限，若想深度学习大模型技术，欢迎大家报名正式大课[《2024大模型技术实战课》](https://appZe9inzwc2314.h5.xiaoeknow.com)："
   ]
  },
  {
   "cell_type": "markdown",
   "id": "07bdf847-979d-4a95-b2c3-bc5ce9069cf3",
   "metadata": {},
   "source": [
    "<center><img src=\"https://skojiangdoc.oss-cn-beijing.aliyuncs.com/LLM/4thLiveCourse/03.1.jpg\" alt=\"fb25c29300365bfe222eb51753da5cd\" style=\"zoom:50%;\" />"
   ]
  },
  {
   "cell_type": "markdown",
   "id": "9410c998-7e0f-41ee-af54-b6aa19b8aa18",
   "metadata": {},
   "source": [
    "**[《大模型技术实战课》](https://appZe9inzwc2314.h5.xiaoeknow.com)为【100+小时】体系大课，聚焦大模型应用开发、8类大模型 + 15项大模型工具精讲 + 5大前沿应用方向实战，助你零基础直达大模型企业级应用！**"
   ]
  },
  {
   "cell_type": "markdown",
   "id": "84acf4dc-088c-4c29-b511-6acd76ab1bb1",
   "metadata": {},
   "source": [
    "<center><img src=\"https://skojiangdoc.oss-cn-beijing.aliyuncs.com/LLM/4thLiveCourse/04.png\" alt=\"f26dd7eec31bcd6858660479cf6f06f\" style=\"zoom:33%;\" />"
   ]
  },
  {
   "cell_type": "markdown",
   "id": "815e4dcb-773d-48c1-b574-f59c696096a2",
   "metadata": {},
   "source": [
    "**此外为持续保证学员大模型技术竞争力，课程实时追更最新大模型技术进展，近期额外新增了llama3、Qwen7B大模型、LangChain ReAct功能、各类Agents开发工具等最新前沿技术内容！课程大纲获取、领取体验课学员专享优惠券，<span style=\"color:red;\">扫码添加客服小可爱，回复“大模型”即可咨询课程信息 + 领取今日课件哦👇</span>**"
   ]
  },
  {
   "cell_type": "markdown",
   "id": "2a55dc76-c525-4eac-a536-08c6d06b42e7",
   "metadata": {},
   "source": [
    "<center><img src=\"https://skojiangdoc.oss-cn-beijing.aliyuncs.com/LLM/4thLiveCourse/05.png\" alt=\"1205二维码\" style=\"zoom:70%;\" />"
   ]
  },
  {
   "cell_type": "markdown",
   "id": "9372de56-c47a-4efc-83ca-7977c5b37b4e",
   "metadata": {},
   "source": [
    "**<center>直播限定！超值底价 + 扫码即可领取5大大模型前沿进展思维导图！<br><br>\n",
    "《2024大模型技术体系》<br>\n",
    "《Agents开发前沿研究梳理》<br>\n",
    "《多模态大模型前沿研究梳理》<br>\n",
    "《微调/RAG技术体系与前沿手段总结》<br>\n",
    "《海内外开源/在线大模型算力需求一览》</center>**\n",
    "\n",
    "**<center><span style=\"color:red;\">扫码添加客服小可爱，回复“大模型”即可咨询课程信息 + 领取今日课件哦 ↑</span></center>**\n",
    "\n",
    "![](https://skojiangdoc.oss-cn-beijing.aliyuncs.com/LLM/4thLiveCourse/08.png)"
   ]
  },
  {
   "cell_type": "code",
   "execution_count": null,
   "id": "9d4a7a0f-d483-4ef2-a75a-c04aae79f251",
   "metadata": {},
   "outputs": [],
   "source": []
  },
  {
   "cell_type": "code",
   "execution_count": 1,
   "id": "24d27874-ce53-45ee-a824-7b4a3b50be81",
   "metadata": {
    "tags": []
   },
   "outputs": [],
   "source": [
    "import os\n",
    "from zhipuai import ZhipuAI\n",
    "from IPython.display import display, Code, Markdown\n",
    "\n",
    "api_key = os.getenv(\"ZHIPU_API_KEY\")"
   ]
  },
  {
   "cell_type": "code",
   "execution_count": 2,
   "id": "b8e6b82c-6703-4601-bfb5-05c099b1e517",
   "metadata": {
    "tags": []
   },
   "outputs": [
    {
     "name": "stdout",
     "output_type": "stream",
     "text": [
      "content='你好👋！我是人工智能助手智谱清言，可以叫我小智🤖，很高兴见到你，欢迎问我任何问题。' role='assistant' tool_calls=None\n"
     ]
    }
   ],
   "source": [
    "client = ZhipuAI(api_key=api_key) \n",
    "response = client.chat.completions.create(\n",
    "    model=\"glm-4\",  # 填写需要调用的模型名称\n",
    "    messages=[\n",
    "        {\"role\": \"user\", \"content\": \"你好\"}\n",
    "    ],\n",
    ")\n",
    "print(response.choices[0].message)"
   ]
  },
  {
   "cell_type": "markdown",
   "id": "e713acef-383d-4e6a-9410-e650a1a77522",
   "metadata": {},
   "source": [
    "- 知识库验证"
   ]
  },
  {
   "cell_type": "code",
   "execution_count": 5,
   "id": "2ed9f621-33a8-4645-a16d-98d65736453d",
   "metadata": {
    "tags": []
   },
   "outputs": [
    {
     "data": {
      "text/markdown": [
       "我的主要训练语料截止于2022年。但是我也在吸收最新的信息以不断进化。你可以向我提问来体验我的能力。"
      ],
      "text/plain": [
       "<IPython.core.display.Markdown object>"
      ]
     },
     "metadata": {},
     "output_type": "display_data"
    }
   ],
   "source": [
    "response = client.chat.completions.create(\n",
    "    model=\"glm-4\",  \n",
    "  messages=[\n",
    "    {\"role\": \"user\", \"content\": '你的知识库截至到什么时候？'}\n",
    "  ]\n",
    ")\n",
    "display(Markdown(response.choices[0].message.content))"
   ]
  },
  {
   "cell_type": "code",
   "execution_count": 6,
   "id": "f6868d27-2b87-4a18-ac04-af8d2ed0e9fc",
   "metadata": {
    "collapsed": true,
    "jupyter": {
     "outputs_hidden": true
    },
    "tags": []
   },
   "outputs": [
    {
     "data": {
      "text/markdown": [
       "是的，我了解GLM-4模型。GLM-4是由智谱AI发布的新一代基座大模型。根据相关信息，这一模型在性能上相比前一代的GLM-3有显著的提升，性能提高了大约60%，在某些评测结果中表现接近OpenAI的GPT-4模型。GLM-4不仅在算法性能上有所提升，还在推理速度方面取得了显著的进步，能够支持更高的并发处理，有效降低了推理成本，这为大规模部署和应用提供了更好的性能基础。\n",
       "\n",
       "GLM-4模型具备多种能力，包括但不限于基本对话、绘图、阅读长文档、数据分析和高级联网功能。它在“大海捞针”测试中展现了强大的上下文记忆检索能力。此外，GLM-4的推出被视为中国在基座大模型领域的重要进展，被一些媒体誉为国产的“GPTs技术”。\n",
       "\n",
       "GLM-4的面世，体现了中国在人工智能领域的创新实力和自主技术的发展，对于推动国内人工智能技术的发展以及在全球范围内的竞争力具有重要意义。"
      ],
      "text/plain": [
       "<IPython.core.display.Markdown object>"
      ]
     },
     "metadata": {},
     "output_type": "display_data"
    }
   ],
   "source": [
    "response = client.chat.completions.create(\n",
    "    model=\"glm-4\",  \n",
    "  messages=[\n",
    "    {\"role\": \"user\", \"content\": '你知道GLM-4模型么？'}\n",
    "  ]\n",
    ")\n",
    "display(Markdown(response.choices[0].message.content))"
   ]
  },
  {
   "cell_type": "code",
   "execution_count": 9,
   "id": "f88daa87-65e0-4c7a-9bc2-719a85cd6cdb",
   "metadata": {
    "collapsed": true,
    "jupyter": {
     "outputs_hidden": true
    },
    "tags": []
   },
   "outputs": [
    {
     "data": {
      "text/markdown": [
       "GLM-4是由智谱AI团队发布的新一代基座大模型，它是基于清华大学KEG实验室提出的GLM模型结构而开发的。client.chat.completions.create函数是GLM-4提供的一个接口函数，它主要用来实现与用户交互的场景，通过接收用户的输入文本，然后生成相应的回复。\n",
       "\n",
       "具体到client.chat.completions.create函数，以下是关于该函数的基本介绍：\n",
       "\n",
       "1. 功能描述：该函数是GLM-4 API的一部分，用于创建聊天对话的回复。当你向GLM-4模型发送一个用户查询时，模型将分析用户的意图，并生成一个合适的回复。\n",
       "\n",
       "2. 参数设置：这个函数可能需要一些参数，比如：\n",
       "   - prompt：用户输入的文本，即对话中的问题或者指令。\n",
       "   - max_tokens：生成的回复的最大长度，用来限制回复的长度。\n",
       "   - stop_sequences：一个可选参数，用来指定模型应该在生成回复时停止的序列，比如可以设置为某些特定的标记或短语。\n",
       "   - temperature：控制生成文本的随机性，数值越低，生成的文本越趋向于保守和确定；数值越高，文本的多样性越大。\n",
       "\n",
       "3. 使用场景：它可以被用在各种需要自然语言交互的场合，如智能客服、聊天机器人、自动化问答等。\n",
       "\n",
       "4. 返回值：函数调用后，会返回一个包含了生成的回复的对象，这个回复是根据用户提供的prompt生成的。\n",
       "\n",
       "5. 安全性与合规性：在使用该函数时，开发者需要确保所有交互内容符合相关的法律法规和伦理标准，保护用户隐私。\n",
       "\n",
       "举例来说，如果你正在开发一个教育相关的应用，并且需要实现一个功能来帮助用户查询成绩，你可以使用client.chat.completions.create函数。用户通过输入他们的查询请求（例如：“请帮我查询一下浙江理工大学本学期的成绩”），GLM-4模型将生成一个回复，可能包括成绩信息或者下一步的操作提示。\n",
       "\n",
       "需要注意的是，具体的使用细节和参数配置可能会根据GLM-4模型的版本更新而有所变化，因此在使用前应该参考最新的官方文档来获取准确的接口信息。"
      ],
      "text/plain": [
       "<IPython.core.display.Markdown object>"
      ]
     },
     "metadata": {},
     "output_type": "display_data"
    }
   ],
   "source": [
    "response_GLM4 = client.chat.completions.create(\n",
    "    model=\"glm-4\",  \n",
    "    messages=[\n",
    "    {\"role\": \"user\", \"content\": '请帮我介绍下GLM-4模型的client.chat.completions.create函数'}\n",
    "  ]\n",
    ")\n",
    "display(Markdown(response_GLM4.choices[0].message.content))"
   ]
  },
  {
   "cell_type": "code",
   "execution_count": 8,
   "id": "68ff623d-c5ea-4b20-b468-c90a88471ddc",
   "metadata": {
    "collapsed": true,
    "jupyter": {
     "outputs_hidden": true
    },
    "tags": []
   },
   "outputs": [
    {
     "data": {
      "text/markdown": [
       "Certainly! Below is a Python function that utilizes the `client.chat.completions.create` method, which is presumably from an API similar to OpenAI's Chat API. This function simulates a multi-turn conversation with a chatbot. Note that you need to have an instance of the client and proper API credentials to use this code.\n",
       "\n",
       "```python\n",
       "import time\n",
       "\n",
       "def multi_round_conversation(client, messages, max_turns=10, timeout=30):\n",
       "    \"\"\"\n",
       "    Have a multi-turn conversation with a chatbot using the client's completions.create method.\n",
       "\n",
       "    Parameters:\n",
       "    - client: The client object for accessing the Chat API.\n",
       "    - messages: A list of message dictionaries representing the conversation so far.\n",
       "                Each message should have 'role' and 'content' keys.\n",
       "    - max_turns: Maximum number of turns in the conversation.\n",
       "    - timeout: Time in seconds to wait for a response from the API.\n",
       "\n",
       "    Returns:\n",
       "    - A list of message dictionaries representing the entire conversation.\n",
       "    \"\"\"\n",
       "    for turn in range(max_turns):\n",
       "        print(f\"Turn {turn+1}:\")\n",
       "        response = client.chat.completions.create(\n",
       "            model=\"gpt-3.5-turbo\",  # Replace with your desired model\n",
       "            messages=messages,\n",
       "            max_tokens=150,  # Adjust as needed\n",
       "            n=1,\n",
       "            stop=None,\n",
       "            temperature=0.5,  # Adjust as needed\n",
       "            timeout=timeout\n",
       "        )\n",
       "\n",
       "        # Check if the API call was successful\n",
       "        if response.status_code != 200:\n",
       "            print(f\"API Error: {response.status_code}\")\n",
       "            break\n",
       "\n",
       "        # Extract the reply from the response\n",
       "        message_content = response.choices[0].message.content.strip()\n",
       "        print(f\"Bot: {message_content}\")\n",
       "\n",
       "        # Add the new message to the conversation\n",
       "        messages.append({\n",
       "            \"role\": \"assistant\",\n",
       "            \"content\": message_content\n",
       "        })\n",
       "\n",
       "        # Add a user message to continue the conversation or end it\n",
       "        user_input = input(\"You: \").strip()\n",
       "        if user_input.lower() in [\"exit\", \"quit\"]:\n",
       "            break\n",
       "        messages.append({\n",
       "            \"role\": \"user\",\n",
       "            \"content\": user_input\n",
       "        })\n",
       "\n",
       "        # Sleep a bit before the next turn to simulate thinking time\n",
       "        time.sleep(1)\n",
       "\n",
       "    return messages\n",
       "\n",
       "# Example usage:\n",
       "# Initialize your client and messages list, then call the function.\n",
       "# client = ...\n",
       "# initial_message = {\"role\": \"user\", \"content\": \"Hello, how are you?\"}\n",
       "# conversation_history = multi_round_conversation(client, [initial_message])\n",
       "```\n",
       "\n",
       "Make sure to replace `\"model\": \"gpt-3.5-turbo\"` with the appropriate model name for your API. You also need to handle the initialization of the `client` object and the initial `messages` list.\n",
       "\n",
       "Please note that the actual method name (`client.chat.completions.create`) and response format might differ based on the specific API you are using, so you should adjust the code accordingly."
      ],
      "text/plain": [
       "<IPython.core.display.Markdown object>"
      ]
     },
     "metadata": {},
     "output_type": "display_data"
    }
   ],
   "source": [
    "response = client.chat.completions.create(\n",
    "    model=\"glm-4\",  \n",
    "  messages=[\n",
    "    {\"role\": \"user\", \"content\": '请帮编写一个基于client.chat.completions.create的多轮对话函数'}\n",
    "  ]\n",
    ")\n",
    "display(Markdown(response.choices[0].message.content))"
   ]
  },
  {
   "cell_type": "markdown",
   "id": "8c12c8e0-fd65-4f4b-91de-87498deb57f6",
   "metadata": {},
   "source": [
    "- 优化技巧一：设置多轮对话背景信息"
   ]
  },
  {
   "cell_type": "code",
   "execution_count": 10,
   "id": "1a547005-b0ae-4469-ad26-ba01a19f3fa4",
   "metadata": {
    "tags": []
   },
   "outputs": [],
   "source": [
    "messages=[\n",
    "    {\"role\": \"user\", \"content\": '请帮我介绍下GLM-4模型的client.chat.completions.create函数'}\n",
    "]"
   ]
  },
  {
   "cell_type": "code",
   "execution_count": 11,
   "id": "42344d7f-1885-4858-8a58-dc27a6fc1bd3",
   "metadata": {
    "collapsed": true,
    "jupyter": {
     "outputs_hidden": true
    },
    "tags": []
   },
   "outputs": [
    {
     "data": {
      "text/plain": [
       "'GLM-4是由智谱AI团队发布的新一代基座大模型，它是基于清华大学KEG实验室提出的GLM模型结构而开发的。client.chat.completions.create函数是GLM-4提供的一个接口函数，它主要用来实现与用户交互的场景，通过接收用户的输入文本，然后生成相应的回复。\\n\\n具体到client.chat.completions.create函数，以下是关于该函数的基本介绍：\\n\\n1. 功能描述：该函数是GLM-4 API的一部分，用于创建聊天对话的回复。当你向GLM-4模型发送一个用户查询时，模型将分析用户的意图，并生成一个合适的回复。\\n\\n2. 参数设置：这个函数可能需要一些参数，比如：\\n   - prompt：用户输入的文本，即对话中的问题或者指令。\\n   - max_tokens：生成的回复的最大长度，用来限制回复的长度。\\n   - stop_sequences：一个可选参数，用来指定模型应该在生成回复时停止的序列，比如可以设置为某些特定的标记或短语。\\n   - temperature：控制生成文本的随机性，数值越低，生成的文本越趋向于保守和确定；数值越高，文本的多样性越大。\\n\\n3. 使用场景：它可以被用在各种需要自然语言交互的场合，如智能客服、聊天机器人、自动化问答等。\\n\\n4. 返回值：函数调用后，会返回一个包含了生成的回复的对象，这个回复是根据用户提供的prompt生成的。\\n\\n5. 安全性与合规性：在使用该函数时，开发者需要确保所有交互内容符合相关的法律法规和伦理标准，保护用户隐私。\\n\\n举例来说，如果你正在开发一个教育相关的应用，并且需要实现一个功能来帮助用户查询成绩，你可以使用client.chat.completions.create函数。用户通过输入他们的查询请求（例如：“请帮我查询一下浙江理工大学本学期的成绩”），GLM-4模型将生成一个回复，可能包括成绩信息或者下一步的操作提示。\\n\\n需要注意的是，具体的使用细节和参数配置可能会根据GLM-4模型的版本更新而有所变化，因此在使用前应该参考最新的官方文档来获取准确的接口信息。'"
      ]
     },
     "execution_count": 11,
     "metadata": {},
     "output_type": "execute_result"
    }
   ],
   "source": [
    "response_GLM4.choices[0].message.content"
   ]
  },
  {
   "cell_type": "code",
   "execution_count": 12,
   "id": "878780b0-ff37-41a2-9d69-d56a4934ade6",
   "metadata": {
    "tags": []
   },
   "outputs": [],
   "source": [
    "messages.append({\"role\": \"assistant\", \"content\": response_GLM4.choices[0].message.content})"
   ]
  },
  {
   "cell_type": "code",
   "execution_count": 13,
   "id": "1bcac2f6-41f9-4e12-a0ff-f91af3238f9c",
   "metadata": {
    "tags": []
   },
   "outputs": [
    {
     "data": {
      "text/plain": [
       "[{'role': 'user', 'content': '请帮我介绍下GLM-4模型的client.chat.completions.create函数'},\n",
       " {'role': 'assistant',\n",
       "  'content': 'GLM-4是由智谱AI团队发布的新一代基座大模型，它是基于清华大学KEG实验室提出的GLM模型结构而开发的。client.chat.completions.create函数是GLM-4提供的一个接口函数，它主要用来实现与用户交互的场景，通过接收用户的输入文本，然后生成相应的回复。\\n\\n具体到client.chat.completions.create函数，以下是关于该函数的基本介绍：\\n\\n1. 功能描述：该函数是GLM-4 API的一部分，用于创建聊天对话的回复。当你向GLM-4模型发送一个用户查询时，模型将分析用户的意图，并生成一个合适的回复。\\n\\n2. 参数设置：这个函数可能需要一些参数，比如：\\n   - prompt：用户输入的文本，即对话中的问题或者指令。\\n   - max_tokens：生成的回复的最大长度，用来限制回复的长度。\\n   - stop_sequences：一个可选参数，用来指定模型应该在生成回复时停止的序列，比如可以设置为某些特定的标记或短语。\\n   - temperature：控制生成文本的随机性，数值越低，生成的文本越趋向于保守和确定；数值越高，文本的多样性越大。\\n\\n3. 使用场景：它可以被用在各种需要自然语言交互的场合，如智能客服、聊天机器人、自动化问答等。\\n\\n4. 返回值：函数调用后，会返回一个包含了生成的回复的对象，这个回复是根据用户提供的prompt生成的。\\n\\n5. 安全性与合规性：在使用该函数时，开发者需要确保所有交互内容符合相关的法律法规和伦理标准，保护用户隐私。\\n\\n举例来说，如果你正在开发一个教育相关的应用，并且需要实现一个功能来帮助用户查询成绩，你可以使用client.chat.completions.create函数。用户通过输入他们的查询请求（例如：“请帮我查询一下浙江理工大学本学期的成绩”），GLM-4模型将生成一个回复，可能包括成绩信息或者下一步的操作提示。\\n\\n需要注意的是，具体的使用细节和参数配置可能会根据GLM-4模型的版本更新而有所变化，因此在使用前应该参考最新的官方文档来获取准确的接口信息。'}]"
      ]
     },
     "execution_count": 13,
     "metadata": {},
     "output_type": "execute_result"
    }
   ],
   "source": [
    "messages"
   ]
  },
  {
   "cell_type": "code",
   "execution_count": 14,
   "id": "01c0856c-241f-4b29-9aa0-80baa71f16c8",
   "metadata": {
    "tags": []
   },
   "outputs": [],
   "source": [
    "messages.append({\"role\": \"user\", \"content\": '非常好，\\\n",
    "接下来请帮我编写一个基于client.chat.completions.create的多轮对话函数。'})"
   ]
  },
  {
   "cell_type": "code",
   "execution_count": 15,
   "id": "3f5afa1b-a476-4422-b0ee-4447dedd7da0",
   "metadata": {
    "tags": []
   },
   "outputs": [
    {
     "data": {
      "text/plain": [
       "[{'role': 'user', 'content': '请帮我介绍下GLM-4模型的client.chat.completions.create函数'},\n",
       " {'role': 'assistant',\n",
       "  'content': 'GLM-4是由智谱AI团队发布的新一代基座大模型，它是基于清华大学KEG实验室提出的GLM模型结构而开发的。client.chat.completions.create函数是GLM-4提供的一个接口函数，它主要用来实现与用户交互的场景，通过接收用户的输入文本，然后生成相应的回复。\\n\\n具体到client.chat.completions.create函数，以下是关于该函数的基本介绍：\\n\\n1. 功能描述：该函数是GLM-4 API的一部分，用于创建聊天对话的回复。当你向GLM-4模型发送一个用户查询时，模型将分析用户的意图，并生成一个合适的回复。\\n\\n2. 参数设置：这个函数可能需要一些参数，比如：\\n   - prompt：用户输入的文本，即对话中的问题或者指令。\\n   - max_tokens：生成的回复的最大长度，用来限制回复的长度。\\n   - stop_sequences：一个可选参数，用来指定模型应该在生成回复时停止的序列，比如可以设置为某些特定的标记或短语。\\n   - temperature：控制生成文本的随机性，数值越低，生成的文本越趋向于保守和确定；数值越高，文本的多样性越大。\\n\\n3. 使用场景：它可以被用在各种需要自然语言交互的场合，如智能客服、聊天机器人、自动化问答等。\\n\\n4. 返回值：函数调用后，会返回一个包含了生成的回复的对象，这个回复是根据用户提供的prompt生成的。\\n\\n5. 安全性与合规性：在使用该函数时，开发者需要确保所有交互内容符合相关的法律法规和伦理标准，保护用户隐私。\\n\\n举例来说，如果你正在开发一个教育相关的应用，并且需要实现一个功能来帮助用户查询成绩，你可以使用client.chat.completions.create函数。用户通过输入他们的查询请求（例如：“请帮我查询一下浙江理工大学本学期的成绩”），GLM-4模型将生成一个回复，可能包括成绩信息或者下一步的操作提示。\\n\\n需要注意的是，具体的使用细节和参数配置可能会根据GLM-4模型的版本更新而有所变化，因此在使用前应该参考最新的官方文档来获取准确的接口信息。'},\n",
       " {'role': 'user',\n",
       "  'content': '非常好，接下来请帮我编写一个基于client.chat.completions.create的多轮对话函数。'}]"
      ]
     },
     "execution_count": 15,
     "metadata": {},
     "output_type": "execute_result"
    }
   ],
   "source": [
    "messages"
   ]
  },
  {
   "cell_type": "code",
   "execution_count": 16,
   "id": "7cd6ddf5-09c4-4138-8fed-e0a1d7c903ad",
   "metadata": {
    "collapsed": true,
    "jupyter": {
     "outputs_hidden": true
    },
    "tags": []
   },
   "outputs": [
    {
     "data": {
      "text/markdown": [
       "下面是一个简单的Python函数示例，它使用`client.chat.completions.create`来处理多轮对话。请注意，这个例子是基于假设的API调用方式，因为实际的API调用细节可能会根据提供商的实际情况有所不同。\n",
       "\n",
       "首先，你需要确保你已经安装了必要的库，并且拥有API的访问密钥。\n",
       "\n",
       "```python\n",
       "import requests\n",
       "import json\n",
       "\n",
       "# 假设你已经有了一个有效的API密钥\n",
       "api_key = 'YOUR_API_KEY'\n",
       "api_endpoint = 'https://api.example.com/v1/chat/completions'\n",
       "\n",
       "# 设置对话历史\n",
       "conversation_history = []\n",
       "\n",
       "def add_to_history(user_message, model_response):\n",
       "    \"\"\"将用户消息和模型回复添加到对话历史中\"\"\"\n",
       "    conversation_history.append({'role': 'user', 'content': user_message})\n",
       "    conversation_history.append({'role': 'assistant', 'content': model_response})\n",
       "\n",
       "def clear_history():\n",
       "    \"\"\"清除对话历史\"\"\"\n",
       "    global conversation_history\n",
       "    conversation_history = []\n",
       "\n",
       "def multi_round_chat(user_message, max_tokens=50, temperature=0.7):\n",
       "    \"\"\"\n",
       "    执行多轮对话的函数。\n",
       "    :param user_message: 用户输入的消息。\n",
       "    :param max_tokens: 生成回复的最大令牌数。\n",
       "    :param temperature: 控制回复多样性的参数。\n",
       "    :return: 模型生成的回复。\n",
       "    \"\"\"\n",
       "    headers = {\n",
       "        'Content-Type': 'application/json',\n",
       "        'Authorization': f'Bearer {api_key}'\n",
       "    }\n",
       "    \n",
       "    # 构建请求体，包含对话历史和当前用户消息\n",
       "    data = {\n",
       "        'max_tokens': max_tokens,\n",
       "        'temperature': temperature,\n",
       "        'messages': conversation_history + [{'role': 'user', 'content': user_message}]\n",
       "    }\n",
       "    \n",
       "    # 发送请求到API\n",
       "    response = requests.post(api_endpoint, headers=headers, data=json.dumps(data))\n",
       "    \n",
       "    # 检查响应是否成功\n",
       "    if response.status_code == 200:\n",
       "        response_data = response.json()\n",
       "        # 假设返回的数据中包含生成的回复\n",
       "        model_response = response_data['choices'][0]['message']['content']\n",
       "        # 将当前轮对话添加到历史中\n",
       "        add_to_history(user_message, model_response)\n",
       "        return model_response\n",
       "    else:\n",
       "        # 如果响应失败，返回错误信息\n",
       "        print(f'Error: {response.status_code} {response.text}')\n",
       "        return None\n",
       "\n",
       "# 示例使用\n",
       "if __name__ == \"__main__\":\n",
       "    # 清除之前的对话历史\n",
       "    clear_history()\n",
       "\n",
       "    # 开始多轮对话\n",
       "    while True:\n",
       "        user_input = input(\"You: \")\n",
       "        if user_input.lower() == 'exit':\n",
       "            break\n",
       "        response = multi_round_chat(user_input)\n",
       "        print(f\"Assistant: {response}\")\n",
       "```\n",
       "\n",
       "请注意，这个例子是一个抽象的表示，实际的API端点、请求头、请求体结构以及返回数据的格式都可能不同。你需要根据实际的GLM-4 API文档来调整这个函数。\n",
       "\n",
       "此外，`add_to_history`函数用于记录对话历史，以便在后续的调用中使用这些历史信息。`clear_history`函数可以在需要开始一个新的对话时使用。\n",
       "\n",
       "在使用任何API之前，请确保你了解其使用条款和条件，以及任何相关的隐私和数据保护法规。"
      ],
      "text/plain": [
       "<IPython.core.display.Markdown object>"
      ]
     },
     "metadata": {},
     "output_type": "display_data"
    }
   ],
   "source": [
    "response1 = client.chat.completions.create(\n",
    "    model=\"glm-4\",  \n",
    "    messages=messages\n",
    ")\n",
    "display(Markdown(response1.choices[0].message.content))"
   ]
  },
  {
   "cell_type": "markdown",
   "id": "2007e366-8bfe-46a3-887b-f721e6768033",
   "metadata": {},
   "source": [
    "- 优化技巧二：设置角色"
   ]
  },
  {
   "cell_type": "code",
   "execution_count": 17,
   "id": "ecaca5e8-5fde-4452-a108-24fbca7257ad",
   "metadata": {
    "tags": []
   },
   "outputs": [],
   "source": [
    "new_messages = [{\"role\": \"system\", \"content\": \"你是一位擅长编写代码的大模型技术专家。\"}]+messages"
   ]
  },
  {
   "cell_type": "code",
   "execution_count": 18,
   "id": "2487b242-dbe0-4b44-88d1-ef79103c7b92",
   "metadata": {
    "tags": []
   },
   "outputs": [
    {
     "data": {
      "text/plain": [
       "[{'role': 'system', 'content': '你是一位擅长编写代码的大模型技术专家。'},\n",
       " {'role': 'user', 'content': '请帮我介绍下GLM-4模型的client.chat.completions.create函数'},\n",
       " {'role': 'assistant',\n",
       "  'content': 'GLM-4是由智谱AI团队发布的新一代基座大模型，它是基于清华大学KEG实验室提出的GLM模型结构而开发的。client.chat.completions.create函数是GLM-4提供的一个接口函数，它主要用来实现与用户交互的场景，通过接收用户的输入文本，然后生成相应的回复。\\n\\n具体到client.chat.completions.create函数，以下是关于该函数的基本介绍：\\n\\n1. 功能描述：该函数是GLM-4 API的一部分，用于创建聊天对话的回复。当你向GLM-4模型发送一个用户查询时，模型将分析用户的意图，并生成一个合适的回复。\\n\\n2. 参数设置：这个函数可能需要一些参数，比如：\\n   - prompt：用户输入的文本，即对话中的问题或者指令。\\n   - max_tokens：生成的回复的最大长度，用来限制回复的长度。\\n   - stop_sequences：一个可选参数，用来指定模型应该在生成回复时停止的序列，比如可以设置为某些特定的标记或短语。\\n   - temperature：控制生成文本的随机性，数值越低，生成的文本越趋向于保守和确定；数值越高，文本的多样性越大。\\n\\n3. 使用场景：它可以被用在各种需要自然语言交互的场合，如智能客服、聊天机器人、自动化问答等。\\n\\n4. 返回值：函数调用后，会返回一个包含了生成的回复的对象，这个回复是根据用户提供的prompt生成的。\\n\\n5. 安全性与合规性：在使用该函数时，开发者需要确保所有交互内容符合相关的法律法规和伦理标准，保护用户隐私。\\n\\n举例来说，如果你正在开发一个教育相关的应用，并且需要实现一个功能来帮助用户查询成绩，你可以使用client.chat.completions.create函数。用户通过输入他们的查询请求（例如：“请帮我查询一下浙江理工大学本学期的成绩”），GLM-4模型将生成一个回复，可能包括成绩信息或者下一步的操作提示。\\n\\n需要注意的是，具体的使用细节和参数配置可能会根据GLM-4模型的版本更新而有所变化，因此在使用前应该参考最新的官方文档来获取准确的接口信息。'},\n",
       " {'role': 'user',\n",
       "  'content': '非常好，接下来请帮我编写一个基于client.chat.completions.create的多轮对话函数。'}]"
      ]
     },
     "execution_count": 18,
     "metadata": {},
     "output_type": "execute_result"
    }
   ],
   "source": [
    "new_messages"
   ]
  },
  {
   "cell_type": "code",
   "execution_count": 19,
   "id": "838d55cb-254f-48a3-a166-7744ddbbc953",
   "metadata": {
    "collapsed": true,
    "jupyter": {
     "outputs_hidden": true
    },
    "tags": []
   },
   "outputs": [
    {
     "data": {
      "text/markdown": [
       "下面我将提供一个基于`client.chat.completions.create`函数的多轮对话函数的伪代码示例。这个函数将处理用户的输入，并维护对话的状态以支持多轮对话。请注意，由于我无法访问实际的GLM-4 API和其客户端库，以下代码是基于假设的API调用模式的伪代码。\n",
       "\n",
       "```python\n",
       "import client  # 假设这是一个GLM-4客户端库\n",
       "\n",
       "class ChatBot:\n",
       "    def __init__(self, initial_context=None):\n",
       "        self.context = initial_context if initial_context else \"\"\n",
       "        self.max_tokens = 150  # 假设的回复最大长度\n",
       "        self.temperature = 0.7  # 假设的温度参数\n",
       "\n",
       "    def chat(self, user_input):\n",
       "        # 将用户输入与对话上下文结合\n",
       "        prompt = f\"{self.context}\\nUser: {user_input}\\nBot:\"\n",
       "\n",
       "        # 调用client.chat.completions.create来获取回复\n",
       "        try:\n",
       "            response = client.chat.completions.create(\n",
       "                prompt=prompt,\n",
       "                max_tokens=self.max_tokens,\n",
       "                temperature=self.temperature\n",
       "            )\n",
       "            # 假设response是一个包含回复的对象，具体结构依赖于实际的API响应\n",
       "            bot_reply = response.choices[0].text.strip()\n",
       "        except Exception as e:\n",
       "            # 如果发生错误，返回错误信息\n",
       "            bot_reply = f\"对不起，发生了一个错误: {str(e)}\"\n",
       "\n",
       "        # 更新对话上下文\n",
       "        self.context += f\"\\nUser: {user_input}\\nBot: {bot_reply}\"\n",
       "\n",
       "        return bot_reply\n",
       "\n",
       "# 使用示例\n",
       "if __name__ == \"__main__\":\n",
       "    bot = ChatBot()\n",
       "    \n",
       "    # 假设有一个循环来持续进行对话\n",
       "    while True:\n",
       "        user_input = input(\"你: \")\n",
       "        if user_input.lower() == '退出':\n",
       "            break\n",
       "        bot_reply = bot.chat(user_input)\n",
       "        print(f\"机器人: {bot_reply}\")\n",
       "```\n",
       "\n",
       "在这个伪代码中，我们创建了一个`ChatBot`类，它包含了一个`chat`方法来处理用户输入，并且维护了一个对话上下文`self.context`。每次调用`chat`方法时，它都会将用户的输入和当前对话上下文传递给`client.chat.completions.create`函数来生成回复。\n",
       "\n",
       "请注意，这个示例假设了API调用返回的结构包含`choices`字段，其中包含生成的回复文本。实际的结构可能与此不同，因此你需要根据实际的API文档来调整这个代码。\n",
       "\n",
       "此外，为了在实际应用中实现错误处理和用户退出逻辑，你需要添加适当的异常处理和逻辑判断。上面的示例中，如果用户输入\"退出\"，循环将会终止。"
      ],
      "text/plain": [
       "<IPython.core.display.Markdown object>"
      ]
     },
     "metadata": {},
     "output_type": "display_data"
    }
   ],
   "source": [
    "response2 = client.chat.completions.create(\n",
    "    model=\"glm-4\",  \n",
    "    messages=messages\n",
    ")\n",
    "display(Markdown(response2.choices[0].message.content))"
   ]
  },
  {
   "cell_type": "markdown",
   "id": "8809a72c-76c6-4071-88bc-c46ffa6720d8",
   "metadata": {},
   "source": [
    "- 完整提示策略"
   ]
  },
  {
   "cell_type": "code",
   "execution_count": 21,
   "id": "4ad3db35-0595-43fe-b64e-ba001ee8b202",
   "metadata": {
    "tags": []
   },
   "outputs": [],
   "source": [
    "user_input = \"我现在已经获取了智谱AI的API-KEY，并已赋值给变量api_key。\\\n",
    "我现在想要编写一个基于client.chat.completions.create函数的多轮对话函数，函数要求如下:\\\n",
    "1.函数无任何必选参数，用户无需输入任何参数即可并开启多轮对话;\\\n",
    "2.当用户输入退出时退出多轮对话;\\\n",
    "3.client.chat.completions.create函数运行过程以默认参数为主，并且设置调用glm-4模型;\\\n",
    "4.请在函数编写过程中，帮我编写详细的函数说明文档，用于说明函数功能、函数参数情况以及函数返回结果等信息；\""
   ]
  },
  {
   "cell_type": "code",
   "execution_count": 26,
   "id": "b23fbf95-85ce-4e89-97be-a2e7a132bfd2",
   "metadata": {
    "tags": []
   },
   "outputs": [
    {
     "data": {
      "text/plain": [
       "[{'role': 'system', 'content': '你是一位擅长编写代码的大模型技术专家。'},\n",
       " {'role': 'user', 'content': '请帮我介绍下GLM-4模型的client.chat.completions.create函数'},\n",
       " {'role': 'assistant',\n",
       "  'content': 'GLM-4是由智谱AI团队发布的新一代基座大模型，它是基于清华大学KEG实验室提出的GLM模型结构而开发的。client.chat.completions.create函数是GLM-4提供的一个接口函数，它主要用来实现与用户交互的场景，通过接收用户的输入文本，然后生成相应的回复。\\n\\n具体到client.chat.completions.create函数，以下是关于该函数的基本介绍：\\n\\n1. 功能描述：该函数是GLM-4 API的一部分，用于创建聊天对话的回复。当你向GLM-4模型发送一个用户查询时，模型将分析用户的意图，并生成一个合适的回复。\\n\\n2. 参数设置：这个函数可能需要一些参数，比如：\\n   - prompt：用户输入的文本，即对话中的问题或者指令。\\n   - max_tokens：生成的回复的最大长度，用来限制回复的长度。\\n   - stop_sequences：一个可选参数，用来指定模型应该在生成回复时停止的序列，比如可以设置为某些特定的标记或短语。\\n   - temperature：控制生成文本的随机性，数值越低，生成的文本越趋向于保守和确定；数值越高，文本的多样性越大。\\n\\n3. 使用场景：它可以被用在各种需要自然语言交互的场合，如智能客服、聊天机器人、自动化问答等。\\n\\n4. 返回值：函数调用后，会返回一个包含了生成的回复的对象，这个回复是根据用户提供的prompt生成的。\\n\\n5. 安全性与合规性：在使用该函数时，开发者需要确保所有交互内容符合相关的法律法规和伦理标准，保护用户隐私。\\n\\n举例来说，如果你正在开发一个教育相关的应用，并且需要实现一个功能来帮助用户查询成绩，你可以使用client.chat.completions.create函数。用户通过输入他们的查询请求（例如：“请帮我查询一下浙江理工大学本学期的成绩”），GLM-4模型将生成一个回复，可能包括成绩信息或者下一步的操作提示。\\n\\n需要注意的是，具体的使用细节和参数配置可能会根据GLM-4模型的版本更新而有所变化，因此在使用前应该参考最新的官方文档来获取准确的接口信息。'},\n",
       " {'role': 'user',\n",
       "  'content': '非常好，接下来请帮我编写一个基于client.chat.completions.create的多轮对话函数。'}]"
      ]
     },
     "execution_count": 26,
     "metadata": {},
     "output_type": "execute_result"
    }
   ],
   "source": [
    "new_messages"
   ]
  },
  {
   "cell_type": "code",
   "execution_count": 27,
   "id": "509f65ec-0fb2-4443-8997-73a4239cc995",
   "metadata": {
    "tags": []
   },
   "outputs": [
    {
     "data": {
      "text/plain": [
       "'非常好，接下来请帮我编写一个基于client.chat.completions.create的多轮对话函数。'"
      ]
     },
     "execution_count": 27,
     "metadata": {},
     "output_type": "execute_result"
    }
   ],
   "source": [
    "new_messages[-1]['content']"
   ]
  },
  {
   "cell_type": "code",
   "execution_count": 28,
   "id": "63dde00a-ab1a-46b5-aa1e-12896878b855",
   "metadata": {
    "tags": []
   },
   "outputs": [],
   "source": [
    "new_messages[-1]['content'] = user_input"
   ]
  },
  {
   "cell_type": "code",
   "execution_count": 29,
   "id": "89ad971a-950c-4736-b49e-fe1845045bdb",
   "metadata": {
    "tags": []
   },
   "outputs": [
    {
     "data": {
      "text/plain": [
       "[{'role': 'system', 'content': '你是一位擅长编写代码的大模型技术专家。'},\n",
       " {'role': 'user', 'content': '请帮我介绍下GLM-4模型的client.chat.completions.create函数'},\n",
       " {'role': 'assistant',\n",
       "  'content': 'GLM-4是由智谱AI团队发布的新一代基座大模型，它是基于清华大学KEG实验室提出的GLM模型结构而开发的。client.chat.completions.create函数是GLM-4提供的一个接口函数，它主要用来实现与用户交互的场景，通过接收用户的输入文本，然后生成相应的回复。\\n\\n具体到client.chat.completions.create函数，以下是关于该函数的基本介绍：\\n\\n1. 功能描述：该函数是GLM-4 API的一部分，用于创建聊天对话的回复。当你向GLM-4模型发送一个用户查询时，模型将分析用户的意图，并生成一个合适的回复。\\n\\n2. 参数设置：这个函数可能需要一些参数，比如：\\n   - prompt：用户输入的文本，即对话中的问题或者指令。\\n   - max_tokens：生成的回复的最大长度，用来限制回复的长度。\\n   - stop_sequences：一个可选参数，用来指定模型应该在生成回复时停止的序列，比如可以设置为某些特定的标记或短语。\\n   - temperature：控制生成文本的随机性，数值越低，生成的文本越趋向于保守和确定；数值越高，文本的多样性越大。\\n\\n3. 使用场景：它可以被用在各种需要自然语言交互的场合，如智能客服、聊天机器人、自动化问答等。\\n\\n4. 返回值：函数调用后，会返回一个包含了生成的回复的对象，这个回复是根据用户提供的prompt生成的。\\n\\n5. 安全性与合规性：在使用该函数时，开发者需要确保所有交互内容符合相关的法律法规和伦理标准，保护用户隐私。\\n\\n举例来说，如果你正在开发一个教育相关的应用，并且需要实现一个功能来帮助用户查询成绩，你可以使用client.chat.completions.create函数。用户通过输入他们的查询请求（例如：“请帮我查询一下浙江理工大学本学期的成绩”），GLM-4模型将生成一个回复，可能包括成绩信息或者下一步的操作提示。\\n\\n需要注意的是，具体的使用细节和参数配置可能会根据GLM-4模型的版本更新而有所变化，因此在使用前应该参考最新的官方文档来获取准确的接口信息。'},\n",
       " {'role': 'user',\n",
       "  'content': '我现在已经获取了智谱AI的API-KEY，并已赋值给变量api_key。我现在想要编写一个基于client.chat.completions.create函数的多轮对话函数，函数要求如下:1.函数无任何必选参数，用户无需输入任何参数即可并开启多轮对话;2.当用户输入退出时退出多轮对话;3.client.chat.completions.create函数运行过程以默认参数为主，并且设置调用glm-4模型;4.请在函数编写过程中，帮我编写详细的函数说明文档，用于说明函数功能、函数参数情况以及函数返回结果等信息；'}]"
      ]
     },
     "execution_count": 29,
     "metadata": {},
     "output_type": "execute_result"
    }
   ],
   "source": [
    "new_messages"
   ]
  },
  {
   "cell_type": "code",
   "execution_count": 30,
   "id": "75deab0e-a61f-4dc5-aeeb-88d3f2276ff3",
   "metadata": {
    "collapsed": true,
    "jupyter": {
     "outputs_hidden": true
    },
    "tags": []
   },
   "outputs": [
    {
     "data": {
      "text/markdown": [
       "下面是一个简单的Python函数，使用假设的`client`对象来调用`chat.completions.create`方法。由于我没有具体的API实现细节，我会提供一个模板，你可以根据实际的API库来适配代码。\n",
       "\n",
       "首先，确保你已经安装了所需的库，并且导入了相关的模块。以下是一个简化的示例：\n",
       "\n",
       "```python\n",
       "import os\n",
       "import asyncio\n",
       "\n",
       "# 假设这是从某个库导入的client对象\n",
       "from some_api_library import Client\n",
       "\n",
       "# 你的API密钥\n",
       "api_key = \"your_api_key_here\"\n",
       "\n",
       "# 创建client实例\n",
       "client = Client(api_key=api_key)\n",
       "\n",
       "# 多轮对话函数\n",
       "async def multi_round_chat():\n",
       "    \"\"\"\n",
       "    启动一个基于GLM-4模型的多轮对话。\n",
       "\n",
       "    函数无需任何必选参数，用户可以直接与聊天机器人进行交互。\n",
       "    当用户输入'退出'时，多轮对话结束。\n",
       "\n",
       "    使用默认参数调用client.chat.completions.create函数。\n",
       "\n",
       "    :return: None\n",
       "    \"\"\"\n",
       "\n",
       "    # 初始化对话历史\n",
       "    conversation_history = []\n",
       "\n",
       "    while True:\n",
       "        # 获取用户输入\n",
       "        user_input = input(\"用户: \")\n",
       "        conversation_history.append(user_input)\n",
       "\n",
       "        # 检查退出条件\n",
       "        if user_input.lower() == '退出':\n",
       "            print(\"聊天结束。\")\n",
       "            break\n",
       "\n",
       "        # 调用API获取回复\n",
       "        try:\n",
       "            response = await client.chat.completions.create(\n",
       "                prompt=\"\\n\".join(conversation_history),\n",
       "                # 假设以下为默认参数\n",
       "                max_tokens=100,\n",
       "                stop_sequences=['用户:', '退出'],\n",
       "                temperature=0.7\n",
       "            )\n",
       "            # 获取回复文本\n",
       "            reply = response.choices[0].text.strip()\n",
       "            print(f\"聊天机器人: {reply}\")\n",
       "\n",
       "            # 将回复添加到对话历史中\n",
       "            conversation_history.append(f\"聊天机器人: {reply}\")\n",
       "\n",
       "        except Exception as e:\n",
       "            print(f\"发生错误: {e}\")\n",
       "\n",
       "# 异步运行多轮对话\n",
       "asyncio.run(multi_round_chat())\n",
       "```\n",
       "\n",
       "以下是函数的详细说明文档：\n",
       "\n",
       "### 函数功能\n",
       "\n",
       "`multi_round_chat` 函数是一个异步函数，它启动一个与用户进行多轮对话的过程。用户无需提供任何参数即可开始对话。对话会一直持续，直到用户输入“退出”。\n",
       "\n",
       "### 函数参数\n",
       "\n",
       "该函数没有必选参数。它使用以下默认参数调用`client.chat.completions.create`：\n",
       "\n",
       "- `prompt`: 用户和机器人的对话历史。\n",
       "- `max_tokens`: 生成回复的最大令牌数，默认值为100。\n",
       "- `stop_sequences`: 指定回复生成结束的序列，默认包括“用户:”和“退出”。\n",
       "- `temperature`: 控制生成文本的随机性，默认值为0.7。\n",
       "\n",
       "### 函数返回值\n",
       "\n",
       "该函数不返回任何值。它直接与用户进行交互，并在控制台打印聊天机器人的回复。\n",
       "\n",
       "### 注意事项\n",
       "\n",
       "1. 请确保已正确导入`Client`类，并根据实际情况调整API调用参数。\n",
       "2. 异步函数`asyncio.run(multi_round_chat())`应在Python的主事件循环中运行。\n",
       "3. 如果API库使用了不同的方法或参数，请相应地修改代码。\n",
       "\n",
       "请注意，以上代码是基于假设的API结构编写的。在实际使用中，你需要根据智谱AI提供的具体API库来调整代码实现。"
      ],
      "text/plain": [
       "<IPython.core.display.Markdown object>"
      ]
     },
     "metadata": {},
     "output_type": "display_data"
    }
   ],
   "source": [
    "response3 = client.chat.completions.create(\n",
    "    model=\"glm-4\",  \n",
    "    messages=messages\n",
    ")\n",
    "display(Markdown(response3.choices[0].message.content))"
   ]
  },
  {
   "cell_type": "code",
   "execution_count": 51,
   "id": "8c31b67f-d9b5-4b0e-9d2e-0e441340b024",
   "metadata": {
    "tags": []
   },
   "outputs": [
    {
     "data": {
      "text/markdown": [
       "为了调用GLM-4模型通过 `client.chat.completions.create` 函数，我们首先需要假设你使用的是某个API服务，例如OpenAI的API。然而，截至我的知识截止日期（2023年4月），OpenAI的API并没有`client.chat.completions.create`这一特定的函数。但是，基于你的要求，我将展示一个假设的示例，你可以根据实际的API服务进行调整。\n",
       "\n",
       "以下是一个Python函数示例，它使用伪代码来模拟调用一个名为GLM-4的模型：\n",
       "\n",
       "```python\n",
       "import requests\n",
       "\n",
       "# 假设你的API密钥是 'your_api_key'\n",
       "api_key = 'your_api_key'\n",
       "headers = {\n",
       "    'Authorization': f'Bearer {api_key}',\n",
       "    'Content-Type': 'application/json'\n",
       "}\n",
       "\n",
       "# API服务的URL\n",
       "url = 'https://api.client.chat.com/v1/chat/completions'\n",
       "\n",
       "def call_glm_4_model(prompt, model='glm-4'):\n",
       "    \"\"\"\n",
       "    调用GLM-4模型，通过client.chat.completions.create函数。\n",
       "    \n",
       "    :param prompt: 输入的提示文本\n",
       "    :param model: 使用的模型名称，默认为'glm-4'\n",
       "    :return: 返回API的响应数据\n",
       "    \"\"\"\n",
       "    data = {\n",
       "        'model': model,\n",
       "        'messages': [{'role': 'user', 'content': prompt}]\n",
       "    }\n",
       "    \n",
       "    response = requests.post(url, headers=headers, json=data)\n",
       "    \n",
       "    if response.status_code == 200:\n",
       "        return response.json()\n",
       "    else:\n",
       "        print(f'Error: {response.status_code}')\n",
       "        return None\n",
       "\n",
       "# 使用函数\n",
       "result = call_glm_4_model(\"告诉我关于人工智能的一些信息。\")\n",
       "print(result)\n",
       "```\n",
       "\n",
       "在这个示例中，你需要将 `api_key` 和 `url` 替换为实际的API密钥和端点。同样，实际的请求数据结构（在`data`变量中）可能需要根据实际API的要求进行调整。\n",
       "\n",
       "请注意，真实环境中，你需要根据实际API文档提供的参数和请求格式来编写你的请求。此外，对于敏感信息（如API密钥），应当采取适当的保护措施，避免泄露。"
      ],
      "text/plain": [
       "<IPython.core.display.Markdown object>"
      ]
     },
     "metadata": {},
     "output_type": "display_data"
    }
   ],
   "source": [
    "response = client.chat.completions.create(\n",
    "    model=\"glm-4\",  \n",
    "    messages=[\n",
    "        {\"role\": \"user\", \"content\": '请帮我编写一个函数来调用GLM-4模型，\\\n",
    "        要求使用client.chat.completions.create函数'}\n",
    "    ]\n",
    ")\n",
    "display(Markdown(response.choices[0].message.content))"
   ]
  },
  {
   "cell_type": "code",
   "execution_count": null,
   "id": "1ed5c0c2-9d50-4ed8-a2fa-36cc87fe08af",
   "metadata": {},
   "outputs": [],
   "source": []
  },
  {
   "cell_type": "markdown",
   "id": "8a3bcf59-82a4-493e-9f8e-e302286a6aaa",
   "metadata": {},
   "source": [
    "- 输入完整背景信息"
   ]
  },
  {
   "cell_type": "code",
   "execution_count": 31,
   "id": "cc0f5c5f-3ca3-4de9-b532-386ef1986c17",
   "metadata": {
    "tags": []
   },
   "outputs": [],
   "source": [
    "import tiktoken"
   ]
  },
  {
   "cell_type": "code",
   "execution_count": 32,
   "id": "b97ed21b-a7f4-40fc-ad2e-00a62a75ad92",
   "metadata": {
    "tags": []
   },
   "outputs": [],
   "source": [
    "encoding = tiktoken.encoding_for_model(\"gpt-3.5-turbo\")"
   ]
  },
  {
   "cell_type": "code",
   "execution_count": 48,
   "id": "23f53f8f-0923-44fd-9b7d-aa9673a197ae",
   "metadata": {
    "tags": []
   },
   "outputs": [
    {
     "data": {
      "text/plain": [
       "19475"
      ]
     },
     "execution_count": 48,
     "metadata": {},
     "output_type": "execute_result"
    }
   ],
   "source": [
    "# 打开并读取Markdown文件\n",
    "with open('GLM-4基本说明.md', 'r', encoding='utf-8') as f:\n",
    "    md_content = f.read()\n",
    "    \n",
    "len(encoding.encode(md_content))"
   ]
  },
  {
   "cell_type": "code",
   "execution_count": 49,
   "id": "73a24268-a134-4aa8-b2ff-329c8847d634",
   "metadata": {
    "collapsed": true,
    "jupyter": {
     "outputs_hidden": true
    },
    "tags": []
   },
   "outputs": [
    {
     "data": {
      "text/markdown": [
       "以下是GLM-4模型client.chat.completions.create函数参数介绍，以及GLM-4模型调用方法。\n",
       "\n",
       "### 一、client.chat.completions.create函数参数详解\n",
       "\n",
       "#### 1.chat.completions.create函数参数解释\n",
       "\n",
       "&emsp;&emsp;在通过SDK调用模型的时候，chat.completions.create函数中的参数设置会直接决定最终模型运行模式、以及模型运行结果。因此在基础模型学习阶段，我们需要围绕chat.completions.create函数进行完整的参数解释。\n",
       "\n",
       "- chat.completions.create函数必选参数\n",
       "\n",
       "&emsp;&emsp;整体来看，GLM模型参数和GPT模型参数高度类似，并且通过观察不难发现，chat.completions.create函数有两个必选参数，其一是model，代表的含义是当前调用的模型。根据上一小节的介绍，目前可选的模型有两个，其一是GLM-3-Turbo、其二则是GLM-4；第二个参数则是messages，代表传输到模型内部的消息队列。messages参数是一个基本构成元素为字典的列表，其内每个字典都代表一条独立的消息，每个字典都包含两个键值（Key-value）对，其中第一个Key都是字符串role（角色）表示某条消息的作者，第二个key为content（内容）表示消息具体内容。更多关于message的参数设置方法稍后介绍，总的来看，这里的messages就可以简单理解为输入给模型的信息队列，而模型接收到message之后也会输出对应的回答信息，当然也是以message形式呈现：\n",
       "\n",
       "\n",
       "```python\n",
       "response.choices[0].message\n",
       "```\n",
       "\n",
       "\n",
       "\n",
       "\n",
       "    CompletionMessage(content='你好👋！我是人工智能助手智谱清言，可以叫我小智🤖，很高兴见到你，欢迎问我任何问题。', role='assistant', tool_calls=None)\n",
       "\n",
       "\n",
       "\n",
       "- chat.completions.create函数全参数解释\n",
       "\n",
       "&emsp;&emsp;接下来围绕chat.completions.create函数的全部参数进行解释：\n",
       "\n",
       "| 参数名称       | 类型 | 是否必填   | 参数解释 |\n",
       "| ----------- | ------- | ------------ | ------------------------------------------------------------ |\n",
       "| model       | String           | 是   | 所要调用的模型编码                                           |\n",
       "| messages    | List<Object>     | 是   | 调用语言模型时，将当前对话信息列表作为提示输入给模型， 按照 `{\"role\": \"user\", \"content\": \"你好\"}` 的json 数组形式进行传参； 可能的消息类型包括 System message、User message、Assistant message 和 Tool message。 |\n",
       "| request_id  | String           | 否   | 由用户端传参，需保证唯一性；用于区分每次请求的唯一标识，用户端不传时平台会默认生成。 |\n",
       "| do_sample   | Boolean          | 否   | do_sample 为 true 时启用采样策略，do_sample 为 false 时采样策略 temperature、top_p 将不生效 |\n",
       "| stream      | Boolean          | 否   | 使用同步调用时，此参数应当设置为 Fasle 或者省略。表示模型生成完所有内容后一次性返回所有内容。如果设置为 True，模型将通过标准 Event Stream ，逐块返回模型生成内容。Event Stream 结束时会返回一条`data: [DONE]`消息。 |\n",
       "| temperature | Float            | 否   | 采样温度，控制输出的随机性，必须为正数取值范围是：(0.0,1.0]，不能等于 0，默认值为 0.95,值越大，会使输出更随机，更具创造性；值越小，输出会更加稳定或确定建议您根据应用场景调整 top_p 或 temperature 参数，但不要同时调整两个参数 |\n",
       "| top_p       | Float            | 否   | 用温度取样的另一种方法，称为核取样 取值范围是：`(0.0, 1.0)` 开区间，不能等于 0 或 1，默认值为 0.7 模型考虑具有 `top_p` 概率质量tokens的结果 例如：0.1 意味着模型解码器只考虑从前 10% 的概率的候选集中取tokens 建议您根据应用场景调整 `top_p` 或 `temperature` 参数，但不要同时调整两个参数 |\n",
       "| max_tokens  | Integer          | 否   | 模型输出最大tokens                                           |\n",
       "| stop        | List             | 否   | 模型在遇到stop所制定的字符时将停止生成，目前仅支持单个停止词，格式为`[\"stop_word1\"]` |\n",
       "| tools       | List             | 否   | 可供模型调用的工具列表,tools字段会计算 tokens ，同样受到tokens长度的限制 |\n",
       "| type        | String           | 是   | 工具类型,目前支持`function`、`retrieval`、`web_search`       |\n",
       "| function    | Object           | 是   | 仅当工具类型为`function`时补充                               |\n",
       "| retrieval   | Object           |      | 仅当工具类型为`retrieval`时补充                              |\n",
       "| web_search  | Object           |      | 仅当工具类型为`web_search`时补充，如果tools中存在类型retrieval，此时web_search不生效。 |\n",
       "| tool_choice | String 或 Object | 否   | 用于控制模型是如何选择要调用的函数，仅当工具类型为function时补充。默认为auto，当前仅支持auto |\n",
       "\n",
       "整体来看，GLM系列模型的参数结构并不如GPT系列模型复杂，在上述一系列参数中，temperature、tools两个参数是需要重点关注，并且之后会经常用到的两个参数。其中tools参数会涉及模型功能方面调整，例如可以通过tools参数设置来选择是否开启联网、或者查阅在线知识库文档、或者开启Function calling功能等，该参数的使用方法我们将在下一小节进行介绍。\n",
       "\n",
       "- 经典问答\n",
       "\n",
       "\n",
       "```python\n",
       "client = ZhipuAI(api_key=api_key) \n",
       "response_t01 = client.chat.completions.create(\n",
       "    model=\"glm-4\",  \n",
       "    messages=[\n",
       "        {\"role\": \"user\", \"content\": \"请问什么是机器学习？\"}\n",
       "    ],\n",
       "    temperature=0.1\n",
       ")\n",
       "```\n",
       "\n",
       "\n",
       "```python\n",
       "display(Markdown(response_t01.choices[0].message.content))\n",
       "```\n",
       "\n",
       "\n",
       "机器学习是一门研究如何通过经验改进计算机的性能的科学。它是人工智能的一个重要分支，致力于让计算机系统通过数据分析和模式识别，自动地从数据中学习，从而让计算机能够进行预测或决策，而无需进行显式的编程。\n",
       "\n",
       "在机器学习的过程中，计算机模型会通过训练数据集进行学习，这个过程包括发现数据中的模式、趋势和关联。随着训练数据量的增加，模型的性能理论上应该会逐渐提高。机器学习的目标通常包括分类、回归、聚类和降维等。\n",
       "\n",
       "具体来说，机器学习可以分为以下几类：\n",
       "\n",
       "1. **有监督学习（Supervised Learning）**：在这种模式下，模型通过输入数据和对应的正确标签（即预期输出）进行学习。例如，通过历史数据来预测未来的趋势或分类新的数据点。\n",
       "\n",
       "2. **无监督学习（Unsupervised Learning）**：在无监督学习中，模型使用没有标签的数据进行学习，目的是发现数据内在的结构或模式。聚类就是无监督学习的一个典型例子。\n",
       "\n",
       "3. **半监督学习（Semi-supervised Learning）**：这种学习方法介于有监督学习和无监督学习之间，它使用部分标记的数据进行训练。\n",
       "\n",
       "机器学习的三大要素包括：\n",
       "\n",
       "- **输入数据**：用于训练模型的数据。\n",
       "- **预期输出实例**：在有监督学习中，这是与输入数据对应的正确答案。\n",
       "- **衡量算法效果的方法**：这是评估模型性能的标准，如准确率、召回率等。\n",
       "\n",
       "机器学习的应用非常广泛，包括但不限于图像识别、语音识别、自然语言处理、推荐系统等。随着技术的不断进步，机器学习在各个领域都发挥着越来越重要的作用。\n",
       "\n",
       "\n",
       "\n",
       "```python\n",
       "client = ZhipuAI(api_key=api_key) \n",
       "response_t1 = client.chat.completions.create(\n",
       "    model=\"glm-4\",  \n",
       "    messages=[\n",
       "        {\"role\": \"user\", \"content\": \"请问什么是机器学习？\"}\n",
       "    ],\n",
       "    temperature=1.0\n",
       ")\n",
       "```\n",
       "\n",
       "\n",
       "```python\n",
       "display(Markdown(response_t1.choices[0].message.content))\n",
       "```\n",
       "\n",
       "\n",
       "机器学习是一门研究如何让计算机从数据中学习，并据此进行预测或决策的学科。它是人工智能的一个重要分支，致力于通过算法和统计模型让计算机系统利用已有的数据进行学习，从而获取新的知识或技能。\n",
       "\n",
       "在机器学习的框架下，计算机可以通过以下方式模拟人类学习行为：\n",
       "\n",
       "1. **有监督学习（Supervised Learning）**：在这种模式下，计算机通过分析已标记的训练数据集来学习，即每个样本数据都有对应的标签或结果。通过这个过程，计算机学会预测未知数据的标签或结果。\n",
       "\n",
       "2. **无监督学习（Unsupervised Learning）**：在无监督学习中，计算机处理的是没有标签的数据集。它的目标是发现数据中的模式或结构，如通过聚类相似的数据点。\n",
       "\n",
       "3. **半监督学习（Semi-supervised Learning）**：这种学习方法介于有监督学习和无监督学习之间，其中一部分数据是标记的，而另一部分则没有标记。\n",
       "\n",
       "机器学习的关键要素包括：\n",
       "\n",
       "- **输入数据**：用于训练模型的数据。\n",
       "- **预期输出实例**：在有监督学习中，这是与输入数据对应的正确输出或标签。\n",
       "- **衡量算法效果的方法**：用于评估模型性能的指标，如准确率、召回率等。\n",
       "\n",
       "机器学习的应用范围非常广泛，包括但不限于图像识别、语音识别、自然语言处理、推荐系统、医疗诊断等多个领域。通过机器学习，计算机能够处理和分析大量复杂的数据，帮助人类做出更准确的预测和决策。\n",
       "\n",
       "\n",
       "替换为glm-3-turbo模型情况也是类似：\n",
       "\n",
       "\n",
       "```python\n",
       "client = ZhipuAI(api_key=api_key) \n",
       "response_t01 = client.chat.completions.create(\n",
       "    model=\"glm-3-turbo\",  \n",
       "    messages=[\n",
       "        {\"role\": \"user\", \"content\": \"请问什么是机器学习？\"}\n",
       "    ],\n",
       "    temperature=0.1\n",
       ")\n",
       "```\n",
       "\n",
       "\n",
       "```python\n",
       "display(Markdown(response_t01.choices[0].message.content))\n",
       "```\n",
       "\n",
       "\n",
       "机器学习是计算机科学和人工智能的一个分支，它涉及开发算法和统计模型，使得计算机系统能够基于数据进行自我学习和改进，而无需进行显式的编程。简单来说，机器学习就是使计算机能够从经验中学习，并据此进行预测或决策的技术。\n",
       "\n",
       "在机器学习中，系统通过分析大量的数据样本，从中识别出数据之间的模式和规律，然后使用这些模式来对新的数据进行预测或分类。这个过程通常分为几个步骤：\n",
       "\n",
       "1. 数据收集：首先需要收集大量的数据，这些数据可以是图片、文本、声音或者其他任何形式。\n",
       "2. 数据预处理：收集到的数据需要进行清洗和格式化，以便算法能够更好地处理。\n",
       "3. 特征提取：从数据中提取关键的特征，这些特征将用于训练模型。\n",
       "4. 模型训练：使用算法在训练数据集上进行学习，建立一个能够捕捉数据特征的模型。\n",
       "5. 模型评估：使用测试数据集来评估模型的性能，确保模型能够泛化到未见过的数据。\n",
       "6. 参数调优：根据模型评估的结果调整模型参数，以优化其性能。\n",
       "\n",
       "机器学习的方法可以大致分为以下几类：\n",
       "\n",
       "- **有监督学习**：在这种方法中，系统使用标记过的数据进行学习，即每个数据样本都有一个对应的标签或目标值。常见的有监督学习任务包括分类和回归。\n",
       "- **无监督学习**：在此类方法中，系统分析未标记的数据，试图发现数据内在的结构或规律，常见的任务包括聚类和降维。\n",
       "- **半监督学习**：结合了有监督和无监督学习，系统同时使用标记和未标记的数据进行学习。\n",
       "- **强化学习**：这是一种通过试错来学习的方法，系统（智能体）在环境中采取行动，并根据行动的结果（奖励或惩罚）来调整其行为。\n",
       "\n",
       "机器学习已经在许多领域取得了显著的应用成果，包括语音识别、图像处理、自然语言处理、医疗诊断、金融预测等。随着计算能力的提高和大数据的出现，机器学习的发展前景广阔，正在逐渐成为推动未来科技进步的重要力量。\n",
       "\n",
       "\n",
       "\n",
       "```python\n",
       "client = ZhipuAI(api_key=api_key) \n",
       "response_t1 = client.chat.completions.create(\n",
       "    model=\"glm-3-turbo\",  \n",
       "    messages=[\n",
       "        {\"role\": \"user\", \"content\": \"请问什么是机器学习？\"}\n",
       "    ],\n",
       "    temperature=1.0\n",
       ")\n",
       "```\n",
       "\n",
       "\n",
       "```python\n",
       "display(Markdown(response_t1.choices[0].message.content))\n",
       "```\n",
       "\n",
       "\n",
       "机器学习是计算机科学和人工智能的一个分支，它涉及开发算法和统计模型，使得计算机系统能够基于数据进行自我学习和改进，而无需进行显式的编程。简单来说，机器学习就是使计算机能够从经验中学习，并据此进行预测或决策的技术。\n",
       "\n",
       "在机器学习中，系统通过分析大量的数据样本，从中识别出数据之间的模式和规律，然后使用这些模式来对新的数据进行预测或分类。这个过程通常分为几个步骤：\n",
       "\n",
       "1. 数据收集：首先需要收集大量的数据，这些数据可以是图片、文本、声音或者其他任何形式。\n",
       "2. 数据预处理：收集到的数据需要进行清洗和格式化，以便算法能够更好地处理。\n",
       "3. 特征提取：从数据中提取关键的特征，这些特征将用于训练模型。\n",
       "4. 模型训练：使用算法在训练数据集上进行学习，建立一个能够捕捉数据特征的模型。\n",
       "5. 模型评估：使用测试数据集来评估模型的性能，确保模型能够泛化到未见过的数据。\n",
       "6. 参数调优：根据模型评估的结果调整模型参数，以优化其性能。\n",
       "\n",
       "机器学习的方法可以大致分为以下几类：\n",
       "\n",
       "- **有监督学习**：在这种方法中，系统使用标记过的数据进行学习，即每个数据样本都有一个对应的标签或目标值。常见的有监督学习任务包括分类和回归。\n",
       "- **无监督学习**：在此类方法中，系统分析未标记的数据，试图发现数据内在的结构或规律，常见的任务包括聚类和降维。\n",
       "- **半监督学习**：结合了有监督和无监督学习，系统同时使用标记和未标记的数据进行学习。\n",
       "- **强化学习**：这是一种通过试错来学习的方法，系统（智能体）在环境中采取行动，并根据行动的结果（奖励或惩罚）来调整其行为。\n",
       "\n",
       "机器学习已经在许多领域取得了显著的应用成果，包括语音识别、图像处理、自然语言处理、医疗诊断、金融预测等。随着计算能力的提高和大数据的出现，机器学习的发展前景广阔，正在逐渐成为推动未来科技进步的重要力量。\n",
       "\n",
       "\n",
       "- 短篇故事创作\n",
       "\n",
       "\n",
       "```python\n",
       "client = ZhipuAI(api_key=api_key) \n",
       "response_t011 = client.chat.completions.create(\n",
       "    model=\"glm-4\",  \n",
       "    messages=[\n",
       "        {\"role\": \"user\", \"content\": \"请帮我写一篇儿童短片童话，故事里要包含爱与家庭？\"}\n",
       "    ],\n",
       "    temperature=0.1\n",
       ")\n",
       "```\n",
       "\n",
       "\n",
       "```python\n",
       "display(Markdown(response_t011.choices[0].message.content))\n",
       "```\n",
       "\n",
       "\n",
       "题目：魔法小屋的秘密\n",
       "\n",
       "从前，在一个遥远的国度，有一片神奇的森林。这片森林里生活着各种各样可爱的动物，它们和睦相处，快乐地生活在一起。在森林的深处，有一间小巧玲珑的魔法小屋，这里住着小兔子白白一家。\n",
       "\n",
       "白白有一个幸福的家庭，爸爸、妈妈和两个可爱的弟弟。他们一家六口过着平静而快乐的生活。魔法小屋有一个神奇的功能，它能感受到家庭成员之间的爱与关怀，并根据这些情感产生魔法力量。\n",
       "\n",
       "有一天，白白和弟弟们在森林里玩耍，无意间发现了一片荒凉的土地。土地上满是废弃的家具和杂物，让原本美丽的森林变得丑陋不堪。白白决定要帮助这片土地恢复生机，于是他向家人提出了这个想法。\n",
       "\n",
       "家人听后纷纷表示支持，并决定一起帮助白白完成这个任务。他们开始清理土地上的垃圾，搬运家具，虽然过程很辛苦，但大家都毫无怨言。在他们的共同努力下，那片土地逐渐恢复了生机，绿草茵茵，鲜花盛开。\n",
       "\n",
       "然而，在清理垃圾的过程中，白白不慎被一个锋利的铁片划伤了手指。伤口流出了鲜血，白白疼得哭了出来。这时，魔法小屋感受到了白白受伤的痛苦，它发出了一道温暖的光芒，治愈了白白的伤口。\n",
       "\n",
       "白白感激地看着小屋，他知道这是家人间深厚的爱赋予了小屋神奇的魔法力量。他决定要为家人做些什么，以表达自己的感激之情。\n",
       "\n",
       "于是，白白开始在魔法小屋里学习烹饪，他要为家人做一顿丰盛的晚餐。经过一番努力，白白终于完成了一桌美味的佳肴。当家人围坐在一起，品尝着白白亲手做的美食时，他们的脸上洋溢着幸福的笑容。\n",
       "\n",
       "晚餐过后，白白向大家宣布了一个好消息：他决定将那片恢复生机的土地打造成一个公益乐园，让森林里的所有动物都能在那里快乐地生活。家人听后纷纷鼓掌称赞，并表示愿意一起帮忙。\n",
       "\n",
       "在家人共同努力下，公益乐园很快就建成了。乐园里有了滑滑梯、秋千、旋转木马等各种设施，动物们在这里玩耍得不亦乐乎。白白和家人看着这一切，心中充满了喜悦。\n",
       "\n",
       "魔法小屋的秘密在于，只要家人间充满爱与关怀，它就会赋予他们无尽的魔法力量。而这股力量，不仅让白白一家过上了幸福的生活，还让他们帮助了更多需要帮助的动物，让整个森林都充满了爱与温暖。\n",
       "\n",
       "从此，白白一家和森林里的动物们过上了幸福快乐的生活，魔法小屋的秘密也成为了他们永恒的传说。\n",
       "\n",
       "\n",
       "\n",
       "```python\n",
       "client = ZhipuAI(api_key=api_key) \n",
       "response_t11 = client.chat.completions.create(\n",
       "    model=\"glm-4\",  \n",
       "    messages=[\n",
       "        {\"role\": \"user\", \"content\": \"请帮我写一篇儿童短片童话，故事里要包含爱与家庭？\"}\n",
       "    ],\n",
       "    temperature=1.0\n",
       ")\n",
       "```\n",
       "\n",
       "\n",
       "```python\n",
       "display(Markdown(response_t11.choices[0].message.content))\n",
       "```\n",
       "\n",
       "\n",
       "题目：魔法小屋的秘密\n",
       "\n",
       "从前，在一个遥远的国度，有一片神奇的森林。这片森林里生活着各种各样的动物，它们和谐共处，宛如一个大家庭。在森林的深处，有一间小巧玲珑的魔法小屋。这个小屋具有神奇的力量，它能实现人们心中最真挚的愿望。\n",
       "\n",
       "小屋的主人是一位可爱的小精灵，名叫爱心。爱心精灵拥有一个幸福的家庭，她的爸爸、妈妈和两个妹妹都对她关爱有加。她们一家人用自己的爱心守护着这片森林，帮助有困难的动物们实现愿望。\n",
       "\n",
       "有一天，爱心精灵在森林里遇到了一只伤心的梅花鹿。梅花鹿哭泣着告诉爱心，它的家人因为一场突如其来的火灾失去了家园，现在无处可去。爱心精灵心疼地抱住了梅花鹿，决定帮助它实现重建家园的愿望。\n",
       "\n",
       "爱心精灵带着梅花鹿来到了魔法小屋，她们一起许下了愿望。神奇的事情发生了，小屋散发出耀眼的光芒，光芒照亮了整个森林。当光芒消失时，一座崭新的梅花鹿家园出现在了森林的另一个角落。\n",
       "\n",
       "梅花鹿激动地跳了起来，它感谢爱心精灵的帮助。爱心精灵笑着说：“不用谢，这是我应该做的。因为我们是一家人，家人之间就应该互相帮助。”\n",
       "\n",
       "不久后，森林里传来了一个好消息：爱心精灵的家人要回来了。原来，她们一家人去了一个遥远的国度，传播爱与和平的理念。爱心精灵兴奋地准备迎接家人的归来。\n",
       "\n",
       "在家人回来那天，整个森林都沸腾了。动物们纷纷前来祝贺，大家一起欢歌笑语，共度美好时光。爱心精灵的爸爸、妈妈看到爱心已经成长为一位优秀的精灵，感到无比欣慰。\n",
       "\n",
       "晚上，一家人围坐在篝火旁，分享着彼此的经历。爱心精灵的爸爸说：“我们一家人虽然分隔两地，但心始终连在一起。因为我们心中有爱，所以我们坚信，无论遇到什么困难，都能克服。”\n",
       "\n",
       "爱心精灵的妈妈接着说：“是的，家庭是一个温暖的港湾，是我们力量的源泉。我们要珍惜这份来之不易的亲情，用爱去感染更多的人。”\n",
       "\n",
       "在家人关爱的话语中，爱心精灵渐渐进入了梦乡。她梦见自己变成了一个强大的爱心使者，将爱与家庭的力量传递给更多的人。\n",
       "\n",
       "从此，爱心精灵一家人在魔法小屋里，用爱心守护着森林，帮助更多的动物实现愿望。她们的故事传遍了整个国度，成为了永恒的传说。\n",
       "\n",
       "这个故事告诉我们，爱与家庭是我们生活中最宝贵的财富。只要我们心怀爱意，珍惜家人，就能战胜一切困难，拥有幸福的人生。\n",
       "\n",
       "\n",
       "#### 2.chat.completions.create函数响应结果解读\n",
       "\n",
       "&emsp;&emsp;对于所有的借助chat.completions.create函数创建的结果来说，都是一个Completion对象：\n",
       "\n",
       "\n",
       "```python\n",
       "response\n",
       "```\n",
       "\n",
       "\n",
       "\n",
       "\n",
       "    Completion(model='glm-4', created=1705575284, choices=[CompletionChoice(index=0, finish_reason='stop', message=CompletionMessage(content='你好👋！我是人工智能助手智谱清言，可以叫我小智🤖，很高兴见到你，欢迎问我任何问题。', role='assistant', tool_calls=None))], request_id='8311643113837941476', id='8311643113837941476', usage=CompletionUsage(prompt_tokens=6, completion_tokens=32, total_tokens=38))\n",
       "\n",
       "\n",
       "\n",
       "\n",
       "```python\n",
       "type(response)\n",
       "```\n",
       "\n",
       "\n",
       "\n",
       "\n",
       "    zhipuai.types.chat.chat_completion.Completion\n",
       "\n",
       "\n",
       "\n",
       "这个对象中会包含一次模型调用返回的全部结果，并且保存在choices属性中：\n",
       "\n",
       "\n",
       "```python\n",
       "response.choices\n",
       "```\n",
       "\n",
       "\n",
       "\n",
       "\n",
       "    [CompletionChoice(index=0, finish_reason='stop', message=CompletionMessage(content='你好👋！我是人工智能助手智谱清言，可以叫我小智🤖，很高兴见到你，欢迎问我任何问题。', role='assistant', tool_calls=None))]\n",
       "\n",
       "\n",
       "\n",
       "choices本质上是一个list，当模型只返回了一个结果时，我们可以通过.choices[0]所以获得模型唯一的结果：\n",
       "\n",
       "\n",
       "```python\n",
       "response.choices[0]\n",
       "```\n",
       "\n",
       "\n",
       "\n",
       "\n",
       "    CompletionChoice(index=0, finish_reason='stop', message=CompletionMessage(content='你好👋！我是人工智能助手智谱清言，可以叫我小智🤖，很高兴见到你，欢迎问我任何问题。', role='assistant', tool_calls=None))\n",
       "\n",
       "\n",
       "\n",
       "\n",
       "```python\n",
       "response.choices[0].message\n",
       "```\n",
       "\n",
       "\n",
       "\n",
       "\n",
       "    CompletionMessage(content='你好👋！我是人工智能助手智谱清言，可以叫我小智🤖，很高兴见到你，欢迎问我任何问题。', role='assistant', tool_calls=None)\n",
       "\n",
       "\n",
       "\n",
       "\n",
       "```python\n",
       "response.choices[0].message.content\n",
       "```\n",
       "\n",
       "\n",
       "\n",
       "\n",
       "    '你好👋！我是人工智能助手智谱清言，可以叫我小智🤖，很高兴见到你，欢迎问我任何问题。'\n",
       "\n",
       "\n",
       "\n",
       "### 二、GLM-4 Message参数设置方法\n",
       "\n",
       "#### 1.GLM多角色对话系统解释\n",
       "\n",
       "&emsp;&emsp;时至今日，多角色对话基本上已经成了顶尖大模型的标配。正是基于多角色对话这一基础技术架构，大模型才能非常灵活的实现各类对话需求，甚至多角色对话也是更高效的实现Function calling的基础，而后者则是整个Agent开发的基石。\n",
       "\n",
       "&emsp;&emsp;那什么是多角色对话呢？简而言之就是将用户和大模型之间的“私聊”变为“群聊”，在用户和大模型这两个角色基础之上，进一步增加“系统”和“工具”这两个角色。尽管最终目的都是为了能完成大模型完成和用户的之间对话，但在对话过程中添加一些额外角色，确实能够更好的引导大模型完成对话。例如对话系统中增加的“系统”这一角色，可以为本次对话增加基本背景信息、对大模型进行角色身份设置等，相当于是设置本场对话的基本规则和信息；而对话系统中的“工具”这一角色，则相当于是大模型的拓展工具箱，当大模型无法回答当前问题的时候（例如用户希望查询当前即时天气），就可以向工具求助，而如果这个“工具”角色能够查到当前天气，则会“告诉”大模型当前天气情况，大模型在接收到了当前天气情况之后再告诉用户。如此一来，大模型便可以更加高效便捷的完成对话任务。\n",
       "\n",
       "> 尽管多角色对话系统能够极大程度提高大模型的对话可用性，但并非所有模型都有能力进行多角色对话——往往只有推理能力较强的大模型才能够非常顺利的进行多角色对话。对于ChatGLM系列模型来说，也正是发布到了第三代，才正式引入多角色对话系统。而相比之下GPT系列模型，从ChatGPT（GPT-3.5）开始一直都是多角色对话模式。\n",
       "\n",
       "&emsp;&emsp;而实际执行过程中，多角色对话的过程核心是依靠messages参数来实现的。\n",
       "\n",
       "#### 2.messages功能综述\n",
       "\n",
       "&emsp;&emsp;总的来说，messages是一种用于描述ChatCompletion模型和用户之间通信信息的高级抽象，也是支撑多角色对话系统的关键，从表示形式上来说，一个messages是一个列表，包含多个字典，而每个字典都是一条消息，其中，一条消息由包含两个键值对（即每个字典都包含两个键值对），第一个键值对用于表示消息发送者，其中第一个Key为字符串'role'，Value为参与对话的角色名称，或者可以理解为本条消息的作者或消息发送人名称，第二个键值对表示具体消息内容，Key为字符串'content'，Value为具体的消息内容，用字符串表示。\n",
       "\n",
       "\n",
       "```python\n",
       "client = ZhipuAI(api_key=api_key) \n",
       "response = client.chat.completions.create(\n",
       "    model=\"glm-4\",  \n",
       "    messages=[\n",
       "        {\"role\": \"user\", \"content\": \"请问什么是机器学习？\"}\n",
       "    ],\n",
       ")\n",
       "```\n",
       "\n",
       "\n",
       "```python\n",
       "display(Markdown(response.choices[0].message.content))\n",
       "```\n",
       "\n",
       "\n",
       "机器学习是计算机科学和人工智能的一个分支，它涉及开发算法和统计模型，使得计算机系统能够基于数据进行自我学习和改进，而无需进行显式的编程。简单来说，机器学习就是使计算机能够从经验中学习，并据此进行预测或决策的技术。\n",
       "\n",
       "在机器学习中，系统通过分析大量的数据样本，从中识别出数据之间的模式和规律，然后使用这些模式来对新的数据进行预测或分类。这个过程通常分为几个步骤：\n",
       "\n",
       "1. 数据收集：首先需要收集大量的数据，这些数据可以是图片、文本、声音或者其他任何形式。\n",
       "2. 数据预处理：收集到的数据需要进行清洗和格式化，以便算法能够更好地处理。\n",
       "3. 特征提取：从数据中提取关键的特征，这些特征将用于训练模型。\n",
       "4. 模型训练：使用算法在训练数据集上进行学习，建立一个能够捕捉数据特征的模型。\n",
       "5. 模型评估：使用测试数据集来评估模型的性能，确保模型能够泛化到未见过的数据。\n",
       "6. 参数调优：根据模型评估的结果调整模型参数，以优化其性能。\n",
       "\n",
       "机器学习的方法可以大致分为以下几类：\n",
       "\n",
       "- **有监督学习**：在这种方法中，系统使用标记过的数据进行学习，即每个数据样本都有一个对应的标签或目标值。常见的有监督学习任务包括分类和回归。\n",
       "- **无监督学习**：在此类方法中，系统分析未标记的数据，试图发现数据内在的结构或规律，常见的任务包括聚类和降维。\n",
       "- **半监督学习**：结合了有监督和无监督学习，系统同时使用标记和未标记的数据进行学习。\n",
       "- **强化学习**：这是一种通过试错来学习的方法，系统（智能体）在环境中采取行动，并根据行动的结果（奖励或惩罚）来调整其行为。\n",
       "\n",
       "机器学习已经在许多领域取得了显著的应用成果，包括语音识别、图像处理、自然语言处理、医疗诊断、金融预测等。随着计算能力的提高和大数据的出现，机器学习的发展前景广阔，正在逐渐成为推动未来科技进步的重要力量。\n",
       "\n",
       "\n",
       "例如上述示例中的messages就总共包含一条信息，即一个一个名为user的角色发送了一条名为'请问什么是机器学习？'的消息：\n",
       "\n",
       "\n",
       "```python\n",
       "messages=[\n",
       "    {\"role\": \"user\", \"content\": \"请问什么是机器学习？\"}\n",
       "]\n",
       "```\n",
       "\n",
       "而同时，返回的message结果也是一个“字典”，并且也包含了信息的发送方和具体信息内容，不难看出，此时返回的message发送方是一个名为'assistant'的角色，而具体内容则是一段关于什么是机器学习的描述：\n",
       "\n",
       "\n",
       "```python\n",
       "response.choices[0].message\n",
       "```\n",
       "\n",
       "\n",
       "\n",
       "\n",
       "    CompletionMessage(content='机器学习是计算机科学和人工智能的一个分支，它涉及开发算法和统计模型，使得计算机系统能够基于数据进行自我学习和改进，而无需进行显式的编程。简单来说，机器学习就是使计算机能够从经验中学习，并据此进行预测或决策的技术。\\n\\n在机器学习中，系统通过分析大量的数据样本，从中识别出数据之间的模式和规律，然后使用这些模式来对新的数据进行预测或分类。这个过程通常分为几个步骤：\\n\\n1. 数据收集：首先需要收集大量的数据，这些数据可以是图片、文本、声音或者其他任何形式。\\n2. 数据预处理：收集到的数据需要进行清洗和格式化，以便算法能够更好地处理。\\n3. 特征提取：从数据中提取关键的特征，这些特征将用于训练模型。\\n4. 模型训练：使用算法在训练数据集上进行学习，建立一个能够捕捉数据特征的模型。\\n5. 模型评估：使用测试数据集来评估模型的性能，确保模型能够泛化到未见过的数据。\\n6. 参数调优：根据模型评估的结果调整模型参数，以优化其性能。\\n\\n机器学习的方法可以大致分为以下几类：\\n\\n- **有监督学习**：在这种方法中，系统使用标记过的数据进行学习，即每个数据样本都有一个对应的标签或目标值。常见的有监督学习任务包括分类和回归。\\n- **无监督学习**：在此类方法中，系统分析未标记的数据，试图发现数据内在的结构或规律，常见的任务包括聚类和降维。\\n- **半监督学习**：结合了有监督和无监督学习，系统同时使用标记和未标记的数据进行学习。\\n- **强化学习**：这是一种通过试错来学习的方法，系统（智能体）在环境中采取行动，并根据行动的结果（奖励或惩罚）来调整其行为。\\n\\n机器学习已经在许多领域取得了显著的应用成果，包括语音识别、图像处理、自然语言处理、医疗诊断、金融预测等。随着计算能力的提高和大数据的出现，机器学习的发展前景广阔，正在逐渐成为推动未来科技进步的重要力量。', role='assistant', tool_calls=None)\n",
       "\n",
       "\n",
       "\n",
       "由此不难看出，对话Chat模型的每个对话任务都是通过输入和输出message来完成的。\n",
       "\n",
       "#### 3.messages中的角色划分\n",
       "\n",
       "- user role和assistant role\n",
       "\n",
       "&emsp;&emsp;那么接下来的问题就是，在实际调用Chat模型进行对话时，messages中的role应该如何设置呢？从上述极简的对话示例中能够看出，一个最简单的对话就是我们扮演user（用户）这个角色（'role':'user'），然后在content中输入我们的问题并等待模型回答。而模型在实际回答过程中，也会扮演一个名为assistant（助手）这个角色（'role':'assistant'）进行回答，这里的user和assistant是具有明确含义的字符串，即如果一条信息的role是user，则表明这是用户向模型发送的聊天信息，相当于是Completion模型中的prompt，而如果一条信息的role是assistant，则表示这是当前模型围绕某条用户信息做出的回应，相当于是相当于是Completion模型中的text。需要注意的是，在messages参数中，我们是不能给自己或者模型自定义其他名称的。\n",
       "\n",
       "&emsp;&emsp;很明显，基于这样的一个定义的规则，最简单的Chat模型的调用方法就是在messages参数中设置一条role为user的参数，在content中输入聊天的内容，而模型则会根据这条用户输入给模型的消息进行回答，类似于此前我们向模型提问“请问什么是机器学习？”这种提问方式:\n",
       "\n",
       "\n",
       "```python\n",
       "client = ZhipuAI(api_key=api_key) \n",
       "response = client.chat.completions.create(\n",
       "    model=\"glm-4\",  \n",
       "    messages=[\n",
       "    {\"role\": \"user\", \"content\": \"请问什么是机器学习？\"}\n",
       "  ]\n",
       ")\n",
       "```\n",
       "\n",
       "\n",
       "```python\n",
       "response.choices[0].message.content\n",
       "```\n",
       "\n",
       "\n",
       "\n",
       "\n",
       "    '机器学习是一门研究如何让计算机从数据中学习，并据此进行预测或决策的学科。它是人工智能的一个重要分支，致力于通过算法和统计模型让计算机系统利用已有的数据进行学习，从而获取新的知识或技能。\\n\\n在机器学习的框架下，计算机可以通过以下方式模拟人类学习行为：\\n\\n1. **有监督学习（Supervised Learning）**：在这种模式下，计算机通过分析已标记的数据（即每个数据点都有一个对应的输出标签）来学习。例如，通过分析一系列图片及其对应的标签（如“猫”或“狗”）来训练一个图像识别模型。\\n\\n2. **无监督学习（Unsupervised Learning）**：在无监督学习中，计算机处理的数据没有附加的标签。它尝试通过识别数据中的模式或结构来进行学习。聚类算法就是一个例子，它会将相似的数据点归为一类。\\n\\n3. **半监督学习（Semi-supervised Learning）**：这种学习方法介于有监督学习和无监督学习之间，其中一部分数据是标记的，而另一部分则不是。\\n\\n机器学习的关键要素包括：\\n\\n- **输入数据**：用于训练模型的数据集。\\n- **预期输出实例**：在有监督学习中，这是与输入数据对应的正确输出。\\n- **衡量算法效果的方法**：用于评估模型性能的指标，如准确率、召回率等。\\n\\n机器学习的应用范围非常广泛，包括但不限于图像识别、语音识别、自然语言处理、推荐系统、医疗诊断、金融预测等领域。\\n\\n简而言之，机器学习是一种使计算机能够通过经验改进其性能的技术，它正在改变我们生活的各个方面，并推动科技进步。'\n",
       "\n",
       "\n",
       "\n",
       "不过需要注意的是，尽管一个messages可以包含多条信息，但模型只会对于最后一条用户信息进行回答，例如：\n",
       "\n",
       "\n",
       "```python\n",
       "client = ZhipuAI(api_key=api_key) \n",
       "response = client.chat.completions.create(\n",
       "    model=\"glm-4\",  \n",
       "    messages=[\n",
       "    {\"role\": \"user\", \"content\": \"请问什么是机器学习？\"},\n",
       "    {\"role\": \"user\", \"content\": \"请问什么是决策树算法？\"}\n",
       "  ]\n",
       ")\n",
       "```\n",
       "\n",
       "\n",
       "```python\n",
       "response.choices[0].message.content\n",
       "```\n",
       "\n",
       "\n",
       "\n",
       "\n",
       "    '决策树算法是一种常用的机器学习算法，它模仿人类决策过程，通过一系列的问题（即特征）来对数据进行分类或回归分析。决策树由节点和边组成，每个节点代表一个特征或属性，边代表该特征的某个取值，叶节点代表最终的分类或预测结果。\\n\\n具体来说，决策树的工作原理如下：\\n\\n1. **根节点**：树的最顶端节点，代表整个数据集。\\n2. **内部节点**：树中的非叶节点，每个节点都对应数据集中的一个特征。节点会基于这个特征的不同取值来划分数据集。\\n3. **叶节点**：树的最底层节点，表示分类结果或回归值。\\n4. **边**：连接节点的线，表示特征的某个取值。\\n\\n在构建决策树时，算法会自动选择最优的特征进行分割，通常使用信息增益（ID3算法）、增益率（C4.5算法）或基尼不纯度（CART算法）等准则来评估特征的好坏。\\n\\n决策树算法的优点包括：\\n\\n- 易于理解和解释。\\n- 可以处理数值和分类数据。\\n- 可以处理多路输出问题。\\n- 不需要大量的数据预处理。\\n\\n缺点包括：\\n\\n- 容易过拟合，特别是在数据特征较多时。\\n- 对于类别不平衡的数据，分类决策树可能会偏向于多数类。\\n- 对于连续值预测，可能不如其他算法精确。\\n\\n决策树在许多领域都有应用，如医学诊断、信用评分、股票市场预测等。'\n",
       "\n",
       "\n",
       "\n",
       "也就是说，assistant消息和role消息是一一对应的，而且在一般情况下，assistant消息只会围绕messages参数中的最后一个role信息进行回答。\n",
       "\n",
       "- system role用于身份设定\n",
       "\n",
       "&emsp;&emsp;不过，值得一提的是，user和assistant的这种提问方式尽管足够清晰，但往往形式上不够丰富，例如在实践中人们发现，给聊天机器人进行一个身份设置，其实是非常有效的引导模型创作我们想要的结果的方法，例如如果我们希望获得一个关于“什么是机器学习？”更加严谨且丰富的答案，我们可以以“假设你是一名资深的计算机系大学教授”为模型进行身份设置，例如我们可以以如下方式向模型进行提问：\n",
       "\n",
       "\n",
       "```python\n",
       "client = ZhipuAI(api_key=api_key) \n",
       "response = client.chat.completions.create(\n",
       "    model=\"glm-4\",  \n",
       "    messages=[\n",
       "    {\"role\": \"user\", \"content\": \"假设你是一名资深的计算机系大学教授，请帮我回答，什么是机器学习？\"}\n",
       "  ]\n",
       ")\n",
       "```\n",
       "\n",
       "\n",
       "```python\n",
       "response.choices[0].message.content\n",
       "```\n",
       "\n",
       "\n",
       "\n",
       "\n",
       "    '机器学习是计算机科学中的一个分支，它致力于开发和应用算法让计算机系统能够基于数据进行自我学习和改进，而无需进行显式的编程。在机器学习中，我们让计算机通过经验（即数据）学习，从而使它可以对未知数据进行预测或决策。\\n\\n简单来说，机器学习可以看作是让计算机模拟人类学习过程的一种技术。它涉及统计学、概率论、数学优化、算法理论等多个领域。在实际应用中，机器学习算法可以从大量的数据中找出潜在的模式，并用这些模式来对新数据做出预测或分类。\\n\\n机器学习可以分为几种主要类型：\\n\\n1. **监督学习（Supervised Learning）**：在这种模式下，算法从标记过的训练数据中学习，即每个样本都有一个对应的输出标签。监督学习的目标是训练出一个模型，使其能够对新的、未见过的数据进行准确的预测。\\n\\n2. **无监督学习（Unsupervised Learning）**：在无监督学习中，算法处理的是没有标记的数据。它的目标是发现数据中的结构或模式，如通过聚类算法将相似的数据点分组。\\n\\n3. **半监督学习（Semi-supervised Learning）**：这种学习方法介于监督学习和无监督学习之间，其中一部分数据是标记的，而另一部分则没有。\\n\\n4. **强化学习（Reinforcement Learning）**：这是一种通过奖励和惩罚机制来指导算法的学习方法。系统（通常被称为智能体）在环境中采取行动，并根据行动的结果来调整策略，以最大化累积奖励。\\n\\n机器学习在各个领域都有广泛的应用，包括但不限于图像识别、语音识别、自然语言处理、医疗诊断、推荐系统等。随着技术的不断进步，机器学习已经成为了现代生活中不可或缺的一部分。'\n",
       "\n",
       "\n",
       "\n",
       "不难看出，此时模型的回答就变得更加详细和严谨，更像一名“大学教授”的语气风格，也同时说明我们对模型进行的身份设定是切实有效的。\n",
       "\n",
       "&emsp;&emsp;而在completion.create函数中，还有另外一种非常便捷的对模型进行身份设置的方法，即使用system role，即我们可以使用如下方式为模型进行“大学教授”身份设定：\n",
       "\n",
       "\n",
       "```python\n",
       "client = ZhipuAI(api_key=api_key) \n",
       "response = client.chat.completions.create(\n",
       "    model=\"glm-4\",  \n",
       "    messages=[\n",
       "    {\"role\": \"system\", \"content\": \"你是一名资深的计算机系大学教授\"},\n",
       "    {\"role\": \"user\", \"content\": \"请问什么是机器学习？\"}\n",
       "  ]\n",
       ")\n",
       "```\n",
       "\n",
       "\n",
       "```python\n",
       "response.choices[0].message.content\n",
       "```\n",
       "\n",
       "\n",
       "\n",
       "\n",
       "    '机器学习（Machine Learning, ML）是计算机科学的一个分支，主要研究如何让计算机从数据或经验中学习，并据此进行预测或决策。简单来说，机器学习就是用算法来解析数据、从中学习、然后做出决策或预测。\\n\\n机器学习可以分为几种主要类型：\\n\\n1. **监督学习（Supervised Learning）**：在这种模式下，算法从标记过的训练数据中学习，然后用学到的知识来预测新的、未标记的数据。例如，通过分析过去的房价数据来预测未来的房价。\\n\\n2. **无监督学习（Unsupervised Learning）**：在无监督学习中，算法处理没有标记的数据，尝试自己找出数据中的结构或模式。聚类和关联规则学习是两个常见的例子。\\n\\n3. **半监督学习（Semi-supervised Learning）**：这种方法结合了监督学习和无监督学习，其中一部分数据是标记的，但大部分数据是未标记的。\\n\\n4. **强化学习（Reinforcement Learning）**：这是一种通过奖励和惩罚机制来学习如何完成特定任务的方法。在这种方法中，算法（通常被称为“智能体”）通过与环境互动来学习如何在给定情境下做出最优决策。\\n\\n机器学习在许多领域都有应用，包括自然语言处理、图像识别、推荐系统、医疗诊断、金融预测等。随着技术的进步和数据量的增加，机器学习变得越来越重要，是现代计算机科学和人工智能领域的关键技术之一。'\n",
       "\n",
       "\n",
       "\n",
       "&emsp;&emsp;能够看出，这里我们在原有消息之前，新增一条消息{\"role\": \"system\", \"content\": \"你是一名资深的计算机系大学教授\"}，也能起到设定模型身份的作用。而这条消息的实际含义是，以system的身份发送一条消息，消息内容为“你是一名资深的计算机系大学教授”。这里的system就是messages参数的role可以选取的第三个字符串，意为该消息为一条系统消息。相比用户消息，系统消息有以下几点需要注意，其一是系统消息的实际作用是给整个对话系统进行背景设置，不同的背景设置会极大程度影响后续对话过程中模型的输出结果，例如如果系统设置为“你是一位资深医学专家”，那么接下来系统在进行回答医学领域相关问题时则会引用大量医学术语，而如果系统设置为“你是一位资深喜剧演员”，那么接下来系统进行的回答则会更加风趣幽默：\n",
       "\n",
       "\n",
       "```python\n",
       "client = ZhipuAI(api_key=api_key) \n",
       "response = client.chat.completions.create(\n",
       "    model=\"glm-4\",  \n",
       "    messages=[\n",
       "    {\"role\": \"system\", \"content\": \"你是一名资深的喜剧演员\"},\n",
       "    {\"role\": \"user\", \"content\": \"请问什么是机器学习？\"}\n",
       "  ]\n",
       ")\n",
       "```\n",
       "\n",
       "\n",
       "```python\n",
       "response.choices[0].message.content\n",
       "```\n",
       "\n",
       "\n",
       "\n",
       "\n",
       "    '哦，作为一个喜剧演员，我会这样解释机器学习：\\n\\n机器学习嘛，就像是你的智能手机试图学会如何像人类一样忘记事情。你知道的，我们人类有时候会忘记事情，但手机呢？它们总是记得每一个小细节，对吧？机器学习就是让这些设备通过观察和经验来学习，就像小孩子学习不要把玩具扔进鱼缸一样。不过，机器学习的目标是让这些机器变得更聪明，而不是像我们一样忘记把车钥匙放在哪里了。\\n\\n开个玩笑啦。实际上，机器学习是人工智能的一个分支，它让计算机系统能够从数据中学习并改进，而无需人为编程。它通过算法分析数据、识别模式，并基于这些信息做出预测或决策。简单来说，就是让机器通过经验变得更聪明。'\n",
       "\n",
       "\n",
       "\n",
       "这里需要重点注意，通过system_message进行身份设置对于GLM4模型效果较好，而对于GLM3模型来说效果非常不稳定：\n",
       "\n",
       "\n",
       "```python\n",
       "client = ZhipuAI(api_key=api_key) \n",
       "response = client.chat.completions.create(\n",
       "    model=\"glm-3-turbo\",  \n",
       "    messages=[\n",
       "    {\"role\": \"system\", \"content\": \"你是一名资深的喜剧演员\"},\n",
       "    {\"role\": \"user\", \"content\": \"请问什么是机器学习？\"}\n",
       "  ]\n",
       ")\n",
       "```\n",
       "\n",
       "\n",
       "```python\n",
       "response.choices[0].message.content\n",
       "```\n",
       "\n",
       "\n",
       "\n",
       "\n",
       "    '机器学习是一门人工智能（AI）的分支，主要研究如何让计算机从数据或经验中学习，并据此进行预测或决策。简单来说，机器学习就是用算法来解析数据、从中学习、然后做出决策或预测。\\n\\n机器学习可以分为几种主要类型：\\n\\n1. **监督学习（Supervised Learning）**: 在这种模式下，算法从标记过的训练数据中学习，然后用学到的知识来预测新的、未标记的数据。例如，通过分析过去的房价数据来预测未来的房价。\\n\\n2. **无监督学习（Unsupervised Learning）**: 算法在没有标记的数据集上进行训练，试图自己找出数据内在的结构或规律。聚类和关联规则学习就是两个常见的例子。\\n\\n3. **半监督学习（Semi-supervised Learning）**: 这是一种介于监督学习和无监督学习之间的方法，其中一部分数据是标记的，但大部分数据是未标记的。\\n\\n4. **强化学习（Reinforcement Learning）**: 在这种类型中，算法（通常被称为“智能体”）通过与环境进行交互来学习如何完成特定任务。智能体会获得奖励或惩罚，以便调整其行为。\\n\\n机器学习在各个领域都有广泛的应用，包括自然语言处理、图像识别、推荐系统、金融预测等。\\n\\n机器学习还分为传统机器学习和深度学习。传统机器学习通常使用简单的算法和特征，而深度学习则使用多层神经网络和大量的特征。深度学习在近年来取得了很大的成功，尤其是在图像和语音识别等领域。\\n\\n值得注意的是，机器学习并不意味着“自主学习”。机器学习模型通常需要大量的数据和计算资源，而且它们的学习结果完全取决于输入的数据。因此，确保数据的质量和多样性非常重要。\\n\\n在中国，机器学习和人工智能也得到了广泛的关注和研究，许多企业和研究机构都在这方面取得了显著的进展。'\n",
       "\n",
       "\n",
       "\n",
       "&emsp;&emsp;而第二方面需要注意的则是，当messages中只包含一条system消息时，GLM4模型会直接报错：\n",
       "\n",
       "\n",
       "```python\n",
       "response = client.chat.completions.create(\n",
       "    model=\"glm-4\",  \n",
       "  messages=[\n",
       "    {\"role\": \"system\", \"content\": \"你是一名资深的喜剧演员\"},\n",
       "  ]\n",
       ")\n",
       "```\n",
       "\n",
       "\n",
       "    ---------------------------------------------------------------------------\n",
       "    \n",
       "    APIRequestFailedError                     Traceback (most recent call last)\n",
       "    \n",
       "    Cell In[77], line 1\n",
       "    ----> 1 response = client.chat.completions.create(\n",
       "          2     model=\"glm-4\",  \n",
       "          3   messages=[\n",
       "          4     {\"role\": \"system\", \"content\": \"你是一名资深的喜剧演员\"},\n",
       "          5   ]\n",
       "          6 )\n",
       "\n",
       "\n",
       "    File ~\\anaconda3\\envs\\openenv\\lib\\site-packages\\zhipuai\\api_resource\\chat\\completions.py:48, in Completions.create(self, model, request_id, do_sample, stream, temperature, top_p, max_tokens, seed, messages, stop, sensitive_word_check, tools, tool_choice, extra_headers, disable_strict_validation, timeout)\n",
       "         46     _cast_type = object\n",
       "         47     _stream_cls = StreamResponse[object]\n",
       "    ---> 48 return self._post(\n",
       "         49     \"/chat/completions\",\n",
       "         50     body={\n",
       "         51         \"model\": model,\n",
       "         52         \"request_id\": request_id,\n",
       "         53         \"temperature\": temperature,\n",
       "         54         \"top_p\": top_p,\n",
       "         55         \"do_sample\": do_sample,\n",
       "         56         \"max_tokens\": max_tokens,\n",
       "         57         \"seed\": seed,\n",
       "         58         \"messages\": messages,\n",
       "         59         \"stop\": stop,\n",
       "         60         \"sensitive_word_check\": sensitive_word_check,\n",
       "         61         \"stream\": stream,\n",
       "         62         \"tools\": tools,\n",
       "         63         \"tool_choice\": tool_choice,\n",
       "         64     },\n",
       "         65     options=make_user_request_input(\n",
       "         66         extra_headers=extra_headers,\n",
       "         67     ),\n",
       "         68     cast_type=_cast_type,\n",
       "         69     enable_stream=stream or False,\n",
       "         70     stream_cls=_stream_cls,\n",
       "         71 )\n",
       "\n",
       "\n",
       "    File ~\\anaconda3\\envs\\openenv\\lib\\site-packages\\zhipuai\\core\\_http_client.py:292, in HttpClient.post(self, path, body, cast_type, options, files, enable_stream, stream_cls)\n",
       "        278 def post(\n",
       "        279         self,\n",
       "        280         path: str,\n",
       "       (...)\n",
       "        287         stream_cls: type[StreamResponse[Any]] | None = None,\n",
       "        288 ) -> ResponseT | StreamResponse:\n",
       "        289     opts = ClientRequestParam.construct(method=\"post\", json_data=body, files=make_httpx_files(files), url=path,\n",
       "        290                                         **options)\n",
       "    --> 292     return self.request(\n",
       "        293         cast_type=cast_type, params=opts,\n",
       "        294         enable_stream=enable_stream,\n",
       "        295         stream_cls=stream_cls\n",
       "        296     )\n",
       "\n",
       "\n",
       "    File ~\\anaconda3\\envs\\openenv\\lib\\site-packages\\zhipuai\\core\\_http_client.py:251, in HttpClient.request(self, cast_type, params, enable_stream, stream_cls)\n",
       "        249     err.response.read()\n",
       "        250     # raise err\n",
       "    --> 251     raise self._make_status_error(err.response) from None\n",
       "        253 except Exception as err:\n",
       "        254     raise err\n",
       "\n",
       "\n",
       "    APIRequestFailedError: Error code: 400, with error text {\"error\":{\"code\":\"1214\",\"message\":\"messages 参数非法。请检查文档。\"}}\n",
       "\n",
       "\n",
       "&emsp;&emsp;第三方面需要注意的是，如果我们需要根据system系统信息对系统进行设置，然后再提问，那么先system消息再user消息的顺序就变得非常重要，例如还是上面的例子，还是希望以喜剧演员的身份介绍机器学习，但我们调换了system消息和user消息的顺序，那么会发现，system消息的作用就会失效，这点和GPT系列模型完全一样：\n",
       "\n",
       "\n",
       "```python\n",
       "response = client.chat.completions.create(\n",
       "    model=\"glm-4\",  \n",
       "    messages=[\n",
       "    {\"role\": \"user\", \"content\": \"请问什么是机器学习？\"},\n",
       "    {\"role\": \"system\", \"content\": \"你是一名资深的喜剧演员\"}\n",
       "  ]\n",
       ")\n",
       "```\n",
       "\n",
       "\n",
       "```python\n",
       "response.choices[0].message.content\n",
       "```\n",
       "\n",
       "\n",
       "\n",
       "\n",
       "    '机器学习是一门人工智能（AI）的分支，主要研究如何让计算机从数据或经验中学习，并据此进行预测或决策。简单来说，机器学习就是用算法来解析数据、从中学习、然后做出决策或预测。\\n\\n机器学习可以分为几种主要类型：\\n\\n1. **监督学习（Supervised Learning）**：在这种模式下，算法从标记过的训练数据中学习，然后能够对新的、未见过的数据进行预测或分类。\\n\\n2. **无监督学习（Unsupervised Learning）**：在这种情况下，算法从没有标记的数据中学习，寻找数据中的模式或结构。\\n\\n3. **半监督学习（Semi-supervised Learning）**：这种类型的机器学习介于监督学习和无监督学习之间，其中一部分数据是标记的，但大部分数据是未标记的。\\n\\n4. **强化学习（Reinforcement Learning）**：这是一种通过奖励和惩罚机制来让算法学习如何完成特定任务的方法。\\n\\n机器学习在各个领域都有广泛的应用，包括但不限于图像识别、语音识别、自然语言处理、医疗诊断、推荐系统等。它是现代技术和社会发展的一个重要组成部分，有助于提高效率、准确性和创新能力。'\n",
       "\n",
       "\n",
       "\n",
       "此时会发现，模型还是能解答“请问什么是机器学习？”这个问题，但却没有正确接受“你是一名资深喜剧演员”这个设定。\n",
       "\n",
       "- 借助system messages设置聊天背景信息\n",
       "\n",
       "&emsp;&emsp;除了可以借助system消息非常便捷的进行提示模板的设计之外，还有一个非常常见的system role的使用方法，就是借助system消息进行聊天背景信息的设定，很多时候我们可以在system消息中输入一段长文本，这段长文本将在聊天开始之前输入到系统中，而在之后的聊天中，即可让assistant围绕这个长文本进行回答，这是一种最简单的实现大语言模型围绕本地知识库进行问答的方法。\n",
       "\n",
       "&emsp;&emsp;这里我们在system消息中输入一段关于虚拟人物“陈明”的个人简介，而在之后的提问中，user和assistant将可以自由的围绕这段输入的背景信息进行问答：\n",
       "\n",
       "\n",
       "```python\n",
       "text = '陈明，男，1973年7月15日出生于中国福建省厦门市。\\\n",
       "        1991年毕业于厦门大学电子科学与技术系，继而于1998年在北京大学获得信息技术博士学位。\\\n",
       "        毕业后的陈明在硅谷的一家著名科技公司工作了五年，专注于人工智能和机器学习的研发。'\n",
       "```\n",
       "\n",
       "\n",
       "```python\n",
       "response = client.chat.completions.create(\n",
       "    model=\"glm-4\",  \n",
       "    messages=[\n",
       "    {\"role\": \"system\", \"content\": text},\n",
       "    {\"role\": \"user\", \"content\": '请问陈明是那一年出生？'}\n",
       "  ]\n",
       ")\n",
       "```\n",
       "\n",
       "\n",
       "```python\n",
       "response.choices[0].message.content\n",
       "```\n",
       "\n",
       "\n",
       "\n",
       "\n",
       "    '陈明是1973年7月15日出生的。'\n",
       "\n",
       "\n",
       "\n",
       "能够看出，这段背景背景信息能够被模型学习并以此进行特定问题的回答。这其实就是一种非常简单的围绕本地知识进行问答的实现形式，不过需要注意的是，system role输入的信息也算是输入给模型的信息，因此受限于大语言模型的最大输入信息长度，单独借助system role在ChatCompletion.create函数中输入背景信息并不能真正意义上实现高度定制化、超大规模文本的本地知识库问答。但是，如果围绕着超大规模本地文本知识库先进行基于滑动窗口的文本切分，以确保切分后的小文本段落满足Max tokens要求，并且配合Embedding过程进行user问题和短文本的实时匹配，再把每个user问题匹配的关联度最高的文本以system消息的形式输入到模型中，再进行回答，则可以非常高效并且准确的实现本地知识库问答。而在这个过程中，借助system role进行背景文字的输入就非常基本的技术手段。\n",
       "\n",
       "- 借助.append方法进行多轮对话\n",
       "\n",
       "&emsp;&emsp;最后，除了上述通过内部参数修改来实现不同功能外，messages参数的另一个重要应用是借助append方法来高效实现多轮对话。不同于Completion模型需要将历史问答都拼接为一个字符串并输入到新的prompt中来实现历史消息的输入，对于Chat模型来说，我们只需要将模型返回的message消息+用户新的提问message拼接到模型的messages参数中，并再次向模型进行提问，即可非常便捷的实现多轮对话。\n",
       "\n",
       "\n",
       "```python\n",
       "response.choices[0].message.content\n",
       "```\n",
       "\n",
       "\n",
       "\n",
       "\n",
       "    '陈明是1973年7月15日出生的。'\n",
       "\n",
       "\n",
       "\n",
       "然后单独设置messages参数，并将此前的问题+答案进行拼接：\n",
       "\n",
       "\n",
       "```python\n",
       "messages=[\n",
       "    {\"role\": \"system\", \"content\": text},\n",
       "    {\"role\": \"user\", \"content\": '请问陈明是那一年出生？'}\n",
       "]\n",
       "```\n",
       "\n",
       "\n",
       "```python\n",
       "messages.append({\"role\": \"assistant\", \"content\": response.choices[0].message.content})\n",
       "```\n",
       "\n",
       "\n",
       "```python\n",
       "messages\n",
       "```\n",
       "\n",
       "\n",
       "\n",
       "\n",
       "    [{'role': 'system',\n",
       "      'content': '陈明，男，1973年7月15日出生于中国福建省厦门市。        1991年毕业于厦门大学电子科学与技术系，继而于1998年在北京大学获得信息技术博士学位。        毕业后的陈明在硅谷的一家著名科技公司工作了五年，专注于人工智能和机器学习的研发。'},\n",
       "     {'role': 'user', 'content': '请问陈明是那一年出生？'},\n",
       "     {'role': 'assistant', 'content': '陈明是1973年7月15日出生的。'}]\n",
       "\n",
       "\n",
       "\n",
       "此时messages参数就包含了最开始的问题+问题答案。接下来我们在messages消息中添加下一个问题：\n",
       "\n",
       "\n",
       "```python\n",
       "messages.append({'role': 'user', 'content': '请问我刚才的问题是？'})\n",
       "```\n",
       "\n",
       "\n",
       "```python\n",
       "messages\n",
       "```\n",
       "\n",
       "\n",
       "\n",
       "\n",
       "    [{'role': 'system',\n",
       "      'content': '陈明，男，1973年7月15日出生于中国福建省厦门市。        1991年毕业于厦门大学电子科学与技术系，继而于1998年在北京大学获得信息技术博士学位。        毕业后的陈明在硅谷的一家著名科技公司工作了五年，专注于人工智能和机器学习的研发。'},\n",
       "     {'role': 'user', 'content': '请问陈明是那一年出生？'},\n",
       "     {'role': 'assistant', 'content': '陈明是1973年7月15日出生的。'},\n",
       "     {'role': 'user', 'content': '请问我刚才的问题是？'}]\n",
       "\n",
       "\n",
       "\n",
       "接下来再次调用模型，并输入messages作为参数，此时模型将同时结合此前的所有消息，并围绕最后一个user信息进行回答：\n",
       "\n",
       "\n",
       "```python\n",
       "response = client.chat.completions.create(\n",
       "    model=\"glm-4\",  \n",
       "    messages=messages\n",
       ")\n",
       "```\n",
       "\n",
       "\n",
       "```python\n",
       "response.choices[0].message.content\n",
       "```\n",
       "\n",
       "\n",
       "\n",
       "\n",
       "    '你刚才的问题是：“请问陈明是那一年出生？” 这里的“那一年”是指询问陈明的出生年份。'\n",
       "\n"
      ],
      "text/plain": [
       "<IPython.core.display.Markdown object>"
      ]
     },
     "metadata": {},
     "output_type": "display_data"
    }
   ],
   "source": [
    "display(Markdown(md_content))"
   ]
  },
  {
   "cell_type": "code",
   "execution_count": 52,
   "id": "45b6e535-4821-4d4b-b2a3-b2186f704b8e",
   "metadata": {
    "tags": []
   },
   "outputs": [
    {
     "data": {
      "text/markdown": [
       "```python\n",
       "import zhipu\n",
       "\n",
       "def call_glm4(api_key, prompt):\n",
       "    client = zhipu.ZhipuAI(api_key=api_key)\n",
       "    response = client.chat.completions.create(\n",
       "        model=\"glm-4\",  \n",
       "        messages=[\n",
       "            {\"role\": \"user\", \"content\": prompt}\n",
       "        ],\n",
       "    )\n",
       "    return response.choices[0].message.content\n",
       "```\n",
       "\n",
       "这个函数接受两个参数：`api_key` 和 `prompt`。`api_key` 是用于调用模型的API密钥，`prompt` 是用户向模型提出的问题或请求。\n",
       "\n",
       "函数首先创建一个 `ZhipuAI` 客户端，然后使用 `client.chat.completions.create` 函数调用GLM-4模型。将用户问题或请求包装在 `messages` 参数中，`role` 设置为 `\"user\"`，`content` 设置为传入的 `prompt` 参数。最后，函数返回模型输出的第一条消息的内容。\n",
       "\n",
       "您可以在调用这个函数时传入您的API密钥和想要询问的问题或请求，如下所示：\n",
       "\n",
       "```python\n",
       "api_key = \"your_api_key_here\"\n",
       "prompt = \"请问什么是机器学习？\"\n",
       "\n",
       "response = call_glm4(api_key, prompt)\n",
       "print(response)\n",
       "```\n",
       "\n",
       "请确保替换 `your_api_key_here` 为您的实际API密钥。"
      ],
      "text/plain": [
       "<IPython.core.display.Markdown object>"
      ]
     },
     "metadata": {},
     "output_type": "display_data"
    }
   ],
   "source": [
    "response = client.chat.completions.create(\n",
    "  model=\"glm-4\",  \n",
    "  messages=[\n",
    "    {\"role\": \"system\", \"content\": md_content},\n",
    "    {\"role\": \"user\", \"content\": '请帮我编写一个函数来调用GLM-4模型，\\\n",
    "    要求使用client.chat.completions.create函数'}\n",
    "  ]\n",
    ")\n",
    "display(Markdown(response.choices[0].message.content))"
   ]
  },
  {
   "cell_type": "code",
   "execution_count": 56,
   "id": "96b1a289-74ef-4e24-a94f-098e973771ba",
   "metadata": {
    "tags": []
   },
   "outputs": [],
   "source": [
    "user_input = \"我现在已经获取了智谱AI的API-KEY，并已赋值给变量api_key。\\\n",
    "现在你是一位擅长编写代码的大模型技术专家。\\\n",
    "请帮我编写一个基于client.chat.completions.create函数的多轮对话函数，函数要求如下:\\\n",
    "1.函数无任何必选参数，用户无需输入任何参数即可并开启多轮对话;\\\n",
    "2.当用户输入退出时退出多轮对话;\\\n",
    "3.client.chat.completions.create函数运行过程以默认参数为主，并且设置调用glm-4模型;\\\n",
    "4.请在函数内部，帮我编写详细的函数说明文档，用于说明函数功能、函数参数情况以及函数返回结果等信息；\""
   ]
  },
  {
   "cell_type": "code",
   "execution_count": 57,
   "id": "90cba92b-3a0a-4f71-9a13-9fb926200093",
   "metadata": {
    "tags": []
   },
   "outputs": [],
   "source": [
    "messages = [\n",
    "    {\"role\": \"system\", \"content\": md_content},\n",
    "    {\"role\": \"user\", \"content\": user_input}\n",
    "  ]"
   ]
  },
  {
   "cell_type": "code",
   "execution_count": 58,
   "id": "2a85afb5-3464-4cce-89dd-aee153cd27eb",
   "metadata": {
    "collapsed": true,
    "jupyter": {
     "outputs_hidden": true
    },
    "tags": []
   },
   "outputs": [
    {
     "data": {
      "text/plain": [
       "[{'role': 'system',\n",
       "  'content': '以下是GLM-4模型client.chat.completions.create函数参数介绍，以及GLM-4模型调用方法。\\n\\n### 一、client.chat.completions.create函数参数详解\\n\\n#### 1.chat.completions.create函数参数解释\\n\\n&emsp;&emsp;在通过SDK调用模型的时候，chat.completions.create函数中的参数设置会直接决定最终模型运行模式、以及模型运行结果。因此在基础模型学习阶段，我们需要围绕chat.completions.create函数进行完整的参数解释。\\n\\n- chat.completions.create函数必选参数\\n\\n&emsp;&emsp;整体来看，GLM模型参数和GPT模型参数高度类似，并且通过观察不难发现，chat.completions.create函数有两个必选参数，其一是model，代表的含义是当前调用的模型。根据上一小节的介绍，目前可选的模型有两个，其一是GLM-3-Turbo、其二则是GLM-4；第二个参数则是messages，代表传输到模型内部的消息队列。messages参数是一个基本构成元素为字典的列表，其内每个字典都代表一条独立的消息，每个字典都包含两个键值（Key-value）对，其中第一个Key都是字符串role（角色）表示某条消息的作者，第二个key为content（内容）表示消息具体内容。更多关于message的参数设置方法稍后介绍，总的来看，这里的messages就可以简单理解为输入给模型的信息队列，而模型接收到message之后也会输出对应的回答信息，当然也是以message形式呈现：\\n\\n\\n```python\\nresponse.choices[0].message\\n```\\n\\n\\n\\n\\n    CompletionMessage(content=\\'你好👋！我是人工智能助手智谱清言，可以叫我小智🤖，很高兴见到你，欢迎问我任何问题。\\', role=\\'assistant\\', tool_calls=None)\\n\\n\\n\\n- chat.completions.create函数全参数解释\\n\\n&emsp;&emsp;接下来围绕chat.completions.create函数的全部参数进行解释：\\n\\n| 参数名称       | 类型 | 是否必填   | 参数解释 |\\n| ----------- | ------- | ------------ | ------------------------------------------------------------ |\\n| model       | String           | 是   | 所要调用的模型编码                                           |\\n| messages    | List<Object>     | 是   | 调用语言模型时，将当前对话信息列表作为提示输入给模型， 按照 `{\"role\": \"user\", \"content\": \"你好\"}` 的json 数组形式进行传参； 可能的消息类型包括 System message、User message、Assistant message 和 Tool message。 |\\n| request_id  | String           | 否   | 由用户端传参，需保证唯一性；用于区分每次请求的唯一标识，用户端不传时平台会默认生成。 |\\n| do_sample   | Boolean          | 否   | do_sample 为 true 时启用采样策略，do_sample 为 false 时采样策略 temperature、top_p 将不生效 |\\n| stream      | Boolean          | 否   | 使用同步调用时，此参数应当设置为 Fasle 或者省略。表示模型生成完所有内容后一次性返回所有内容。如果设置为 True，模型将通过标准 Event Stream ，逐块返回模型生成内容。Event Stream 结束时会返回一条`data: [DONE]`消息。 |\\n| temperature | Float            | 否   | 采样温度，控制输出的随机性，必须为正数取值范围是：(0.0,1.0]，不能等于 0，默认值为 0.95,值越大，会使输出更随机，更具创造性；值越小，输出会更加稳定或确定建议您根据应用场景调整 top_p 或 temperature 参数，但不要同时调整两个参数 |\\n| top_p       | Float            | 否   | 用温度取样的另一种方法，称为核取样 取值范围是：`(0.0, 1.0)` 开区间，不能等于 0 或 1，默认值为 0.7 模型考虑具有 `top_p` 概率质量tokens的结果 例如：0.1 意味着模型解码器只考虑从前 10% 的概率的候选集中取tokens 建议您根据应用场景调整 `top_p` 或 `temperature` 参数，但不要同时调整两个参数 |\\n| max_tokens  | Integer          | 否   | 模型输出最大tokens                                           |\\n| stop        | List             | 否   | 模型在遇到stop所制定的字符时将停止生成，目前仅支持单个停止词，格式为`[\"stop_word1\"]` |\\n| tools       | List             | 否   | 可供模型调用的工具列表,tools字段会计算 tokens ，同样受到tokens长度的限制 |\\n| type        | String           | 是   | 工具类型,目前支持`function`、`retrieval`、`web_search`       |\\n| function    | Object           | 是   | 仅当工具类型为`function`时补充                               |\\n| retrieval   | Object           |      | 仅当工具类型为`retrieval`时补充                              |\\n| web_search  | Object           |      | 仅当工具类型为`web_search`时补充，如果tools中存在类型retrieval，此时web_search不生效。 |\\n| tool_choice | String 或 Object | 否   | 用于控制模型是如何选择要调用的函数，仅当工具类型为function时补充。默认为auto，当前仅支持auto |\\n\\n整体来看，GLM系列模型的参数结构并不如GPT系列模型复杂，在上述一系列参数中，temperature、tools两个参数是需要重点关注，并且之后会经常用到的两个参数。其中tools参数会涉及模型功能方面调整，例如可以通过tools参数设置来选择是否开启联网、或者查阅在线知识库文档、或者开启Function calling功能等，该参数的使用方法我们将在下一小节进行介绍。\\n\\n- 经典问答\\n\\n\\n```python\\nclient = ZhipuAI(api_key=api_key) \\nresponse_t01 = client.chat.completions.create(\\n    model=\"glm-4\",  \\n    messages=[\\n        {\"role\": \"user\", \"content\": \"请问什么是机器学习？\"}\\n    ],\\n    temperature=0.1\\n)\\n```\\n\\n\\n```python\\ndisplay(Markdown(response_t01.choices[0].message.content))\\n```\\n\\n\\n机器学习是一门研究如何通过经验改进计算机的性能的科学。它是人工智能的一个重要分支，致力于让计算机系统通过数据分析和模式识别，自动地从数据中学习，从而让计算机能够进行预测或决策，而无需进行显式的编程。\\n\\n在机器学习的过程中，计算机模型会通过训练数据集进行学习，这个过程包括发现数据中的模式、趋势和关联。随着训练数据量的增加，模型的性能理论上应该会逐渐提高。机器学习的目标通常包括分类、回归、聚类和降维等。\\n\\n具体来说，机器学习可以分为以下几类：\\n\\n1. **有监督学习（Supervised Learning）**：在这种模式下，模型通过输入数据和对应的正确标签（即预期输出）进行学习。例如，通过历史数据来预测未来的趋势或分类新的数据点。\\n\\n2. **无监督学习（Unsupervised Learning）**：在无监督学习中，模型使用没有标签的数据进行学习，目的是发现数据内在的结构或模式。聚类就是无监督学习的一个典型例子。\\n\\n3. **半监督学习（Semi-supervised Learning）**：这种学习方法介于有监督学习和无监督学习之间，它使用部分标记的数据进行训练。\\n\\n机器学习的三大要素包括：\\n\\n- **输入数据**：用于训练模型的数据。\\n- **预期输出实例**：在有监督学习中，这是与输入数据对应的正确答案。\\n- **衡量算法效果的方法**：这是评估模型性能的标准，如准确率、召回率等。\\n\\n机器学习的应用非常广泛，包括但不限于图像识别、语音识别、自然语言处理、推荐系统等。随着技术的不断进步，机器学习在各个领域都发挥着越来越重要的作用。\\n\\n\\n\\n```python\\nclient = ZhipuAI(api_key=api_key) \\nresponse_t1 = client.chat.completions.create(\\n    model=\"glm-4\",  \\n    messages=[\\n        {\"role\": \"user\", \"content\": \"请问什么是机器学习？\"}\\n    ],\\n    temperature=1.0\\n)\\n```\\n\\n\\n```python\\ndisplay(Markdown(response_t1.choices[0].message.content))\\n```\\n\\n\\n机器学习是一门研究如何让计算机从数据中学习，并据此进行预测或决策的学科。它是人工智能的一个重要分支，致力于通过算法和统计模型让计算机系统利用已有的数据进行学习，从而获取新的知识或技能。\\n\\n在机器学习的框架下，计算机可以通过以下方式模拟人类学习行为：\\n\\n1. **有监督学习（Supervised Learning）**：在这种模式下，计算机通过分析已标记的训练数据集来学习，即每个样本数据都有对应的标签或结果。通过这个过程，计算机学会预测未知数据的标签或结果。\\n\\n2. **无监督学习（Unsupervised Learning）**：在无监督学习中，计算机处理的是没有标签的数据集。它的目标是发现数据中的模式或结构，如通过聚类相似的数据点。\\n\\n3. **半监督学习（Semi-supervised Learning）**：这种学习方法介于有监督学习和无监督学习之间，其中一部分数据是标记的，而另一部分则没有标记。\\n\\n机器学习的关键要素包括：\\n\\n- **输入数据**：用于训练模型的数据。\\n- **预期输出实例**：在有监督学习中，这是与输入数据对应的正确输出或标签。\\n- **衡量算法效果的方法**：用于评估模型性能的指标，如准确率、召回率等。\\n\\n机器学习的应用范围非常广泛，包括但不限于图像识别、语音识别、自然语言处理、推荐系统、医疗诊断等多个领域。通过机器学习，计算机能够处理和分析大量复杂的数据，帮助人类做出更准确的预测和决策。\\n\\n\\n替换为glm-3-turbo模型情况也是类似：\\n\\n\\n```python\\nclient = ZhipuAI(api_key=api_key) \\nresponse_t01 = client.chat.completions.create(\\n    model=\"glm-3-turbo\",  \\n    messages=[\\n        {\"role\": \"user\", \"content\": \"请问什么是机器学习？\"}\\n    ],\\n    temperature=0.1\\n)\\n```\\n\\n\\n```python\\ndisplay(Markdown(response_t01.choices[0].message.content))\\n```\\n\\n\\n机器学习是计算机科学和人工智能的一个分支，它涉及开发算法和统计模型，使得计算机系统能够基于数据进行自我学习和改进，而无需进行显式的编程。简单来说，机器学习就是使计算机能够从经验中学习，并据此进行预测或决策的技术。\\n\\n在机器学习中，系统通过分析大量的数据样本，从中识别出数据之间的模式和规律，然后使用这些模式来对新的数据进行预测或分类。这个过程通常分为几个步骤：\\n\\n1. 数据收集：首先需要收集大量的数据，这些数据可以是图片、文本、声音或者其他任何形式。\\n2. 数据预处理：收集到的数据需要进行清洗和格式化，以便算法能够更好地处理。\\n3. 特征提取：从数据中提取关键的特征，这些特征将用于训练模型。\\n4. 模型训练：使用算法在训练数据集上进行学习，建立一个能够捕捉数据特征的模型。\\n5. 模型评估：使用测试数据集来评估模型的性能，确保模型能够泛化到未见过的数据。\\n6. 参数调优：根据模型评估的结果调整模型参数，以优化其性能。\\n\\n机器学习的方法可以大致分为以下几类：\\n\\n- **有监督学习**：在这种方法中，系统使用标记过的数据进行学习，即每个数据样本都有一个对应的标签或目标值。常见的有监督学习任务包括分类和回归。\\n- **无监督学习**：在此类方法中，系统分析未标记的数据，试图发现数据内在的结构或规律，常见的任务包括聚类和降维。\\n- **半监督学习**：结合了有监督和无监督学习，系统同时使用标记和未标记的数据进行学习。\\n- **强化学习**：这是一种通过试错来学习的方法，系统（智能体）在环境中采取行动，并根据行动的结果（奖励或惩罚）来调整其行为。\\n\\n机器学习已经在许多领域取得了显著的应用成果，包括语音识别、图像处理、自然语言处理、医疗诊断、金融预测等。随着计算能力的提高和大数据的出现，机器学习的发展前景广阔，正在逐渐成为推动未来科技进步的重要力量。\\n\\n\\n\\n```python\\nclient = ZhipuAI(api_key=api_key) \\nresponse_t1 = client.chat.completions.create(\\n    model=\"glm-3-turbo\",  \\n    messages=[\\n        {\"role\": \"user\", \"content\": \"请问什么是机器学习？\"}\\n    ],\\n    temperature=1.0\\n)\\n```\\n\\n\\n```python\\ndisplay(Markdown(response_t1.choices[0].message.content))\\n```\\n\\n\\n机器学习是计算机科学和人工智能的一个分支，它涉及开发算法和统计模型，使得计算机系统能够基于数据进行自我学习和改进，而无需进行显式的编程。简单来说，机器学习就是使计算机能够从经验中学习，并据此进行预测或决策的技术。\\n\\n在机器学习中，系统通过分析大量的数据样本，从中识别出数据之间的模式和规律，然后使用这些模式来对新的数据进行预测或分类。这个过程通常分为几个步骤：\\n\\n1. 数据收集：首先需要收集大量的数据，这些数据可以是图片、文本、声音或者其他任何形式。\\n2. 数据预处理：收集到的数据需要进行清洗和格式化，以便算法能够更好地处理。\\n3. 特征提取：从数据中提取关键的特征，这些特征将用于训练模型。\\n4. 模型训练：使用算法在训练数据集上进行学习，建立一个能够捕捉数据特征的模型。\\n5. 模型评估：使用测试数据集来评估模型的性能，确保模型能够泛化到未见过的数据。\\n6. 参数调优：根据模型评估的结果调整模型参数，以优化其性能。\\n\\n机器学习的方法可以大致分为以下几类：\\n\\n- **有监督学习**：在这种方法中，系统使用标记过的数据进行学习，即每个数据样本都有一个对应的标签或目标值。常见的有监督学习任务包括分类和回归。\\n- **无监督学习**：在此类方法中，系统分析未标记的数据，试图发现数据内在的结构或规律，常见的任务包括聚类和降维。\\n- **半监督学习**：结合了有监督和无监督学习，系统同时使用标记和未标记的数据进行学习。\\n- **强化学习**：这是一种通过试错来学习的方法，系统（智能体）在环境中采取行动，并根据行动的结果（奖励或惩罚）来调整其行为。\\n\\n机器学习已经在许多领域取得了显著的应用成果，包括语音识别、图像处理、自然语言处理、医疗诊断、金融预测等。随着计算能力的提高和大数据的出现，机器学习的发展前景广阔，正在逐渐成为推动未来科技进步的重要力量。\\n\\n\\n- 短篇故事创作\\n\\n\\n```python\\nclient = ZhipuAI(api_key=api_key) \\nresponse_t011 = client.chat.completions.create(\\n    model=\"glm-4\",  \\n    messages=[\\n        {\"role\": \"user\", \"content\": \"请帮我写一篇儿童短片童话，故事里要包含爱与家庭？\"}\\n    ],\\n    temperature=0.1\\n)\\n```\\n\\n\\n```python\\ndisplay(Markdown(response_t011.choices[0].message.content))\\n```\\n\\n\\n题目：魔法小屋的秘密\\n\\n从前，在一个遥远的国度，有一片神奇的森林。这片森林里生活着各种各样可爱的动物，它们和睦相处，快乐地生活在一起。在森林的深处，有一间小巧玲珑的魔法小屋，这里住着小兔子白白一家。\\n\\n白白有一个幸福的家庭，爸爸、妈妈和两个可爱的弟弟。他们一家六口过着平静而快乐的生活。魔法小屋有一个神奇的功能，它能感受到家庭成员之间的爱与关怀，并根据这些情感产生魔法力量。\\n\\n有一天，白白和弟弟们在森林里玩耍，无意间发现了一片荒凉的土地。土地上满是废弃的家具和杂物，让原本美丽的森林变得丑陋不堪。白白决定要帮助这片土地恢复生机，于是他向家人提出了这个想法。\\n\\n家人听后纷纷表示支持，并决定一起帮助白白完成这个任务。他们开始清理土地上的垃圾，搬运家具，虽然过程很辛苦，但大家都毫无怨言。在他们的共同努力下，那片土地逐渐恢复了生机，绿草茵茵，鲜花盛开。\\n\\n然而，在清理垃圾的过程中，白白不慎被一个锋利的铁片划伤了手指。伤口流出了鲜血，白白疼得哭了出来。这时，魔法小屋感受到了白白受伤的痛苦，它发出了一道温暖的光芒，治愈了白白的伤口。\\n\\n白白感激地看着小屋，他知道这是家人间深厚的爱赋予了小屋神奇的魔法力量。他决定要为家人做些什么，以表达自己的感激之情。\\n\\n于是，白白开始在魔法小屋里学习烹饪，他要为家人做一顿丰盛的晚餐。经过一番努力，白白终于完成了一桌美味的佳肴。当家人围坐在一起，品尝着白白亲手做的美食时，他们的脸上洋溢着幸福的笑容。\\n\\n晚餐过后，白白向大家宣布了一个好消息：他决定将那片恢复生机的土地打造成一个公益乐园，让森林里的所有动物都能在那里快乐地生活。家人听后纷纷鼓掌称赞，并表示愿意一起帮忙。\\n\\n在家人共同努力下，公益乐园很快就建成了。乐园里有了滑滑梯、秋千、旋转木马等各种设施，动物们在这里玩耍得不亦乐乎。白白和家人看着这一切，心中充满了喜悦。\\n\\n魔法小屋的秘密在于，只要家人间充满爱与关怀，它就会赋予他们无尽的魔法力量。而这股力量，不仅让白白一家过上了幸福的生活，还让他们帮助了更多需要帮助的动物，让整个森林都充满了爱与温暖。\\n\\n从此，白白一家和森林里的动物们过上了幸福快乐的生活，魔法小屋的秘密也成为了他们永恒的传说。\\n\\n\\n\\n```python\\nclient = ZhipuAI(api_key=api_key) \\nresponse_t11 = client.chat.completions.create(\\n    model=\"glm-4\",  \\n    messages=[\\n        {\"role\": \"user\", \"content\": \"请帮我写一篇儿童短片童话，故事里要包含爱与家庭？\"}\\n    ],\\n    temperature=1.0\\n)\\n```\\n\\n\\n```python\\ndisplay(Markdown(response_t11.choices[0].message.content))\\n```\\n\\n\\n题目：魔法小屋的秘密\\n\\n从前，在一个遥远的国度，有一片神奇的森林。这片森林里生活着各种各样的动物，它们和谐共处，宛如一个大家庭。在森林的深处，有一间小巧玲珑的魔法小屋。这个小屋具有神奇的力量，它能实现人们心中最真挚的愿望。\\n\\n小屋的主人是一位可爱的小精灵，名叫爱心。爱心精灵拥有一个幸福的家庭，她的爸爸、妈妈和两个妹妹都对她关爱有加。她们一家人用自己的爱心守护着这片森林，帮助有困难的动物们实现愿望。\\n\\n有一天，爱心精灵在森林里遇到了一只伤心的梅花鹿。梅花鹿哭泣着告诉爱心，它的家人因为一场突如其来的火灾失去了家园，现在无处可去。爱心精灵心疼地抱住了梅花鹿，决定帮助它实现重建家园的愿望。\\n\\n爱心精灵带着梅花鹿来到了魔法小屋，她们一起许下了愿望。神奇的事情发生了，小屋散发出耀眼的光芒，光芒照亮了整个森林。当光芒消失时，一座崭新的梅花鹿家园出现在了森林的另一个角落。\\n\\n梅花鹿激动地跳了起来，它感谢爱心精灵的帮助。爱心精灵笑着说：“不用谢，这是我应该做的。因为我们是一家人，家人之间就应该互相帮助。”\\n\\n不久后，森林里传来了一个好消息：爱心精灵的家人要回来了。原来，她们一家人去了一个遥远的国度，传播爱与和平的理念。爱心精灵兴奋地准备迎接家人的归来。\\n\\n在家人回来那天，整个森林都沸腾了。动物们纷纷前来祝贺，大家一起欢歌笑语，共度美好时光。爱心精灵的爸爸、妈妈看到爱心已经成长为一位优秀的精灵，感到无比欣慰。\\n\\n晚上，一家人围坐在篝火旁，分享着彼此的经历。爱心精灵的爸爸说：“我们一家人虽然分隔两地，但心始终连在一起。因为我们心中有爱，所以我们坚信，无论遇到什么困难，都能克服。”\\n\\n爱心精灵的妈妈接着说：“是的，家庭是一个温暖的港湾，是我们力量的源泉。我们要珍惜这份来之不易的亲情，用爱去感染更多的人。”\\n\\n在家人关爱的话语中，爱心精灵渐渐进入了梦乡。她梦见自己变成了一个强大的爱心使者，将爱与家庭的力量传递给更多的人。\\n\\n从此，爱心精灵一家人在魔法小屋里，用爱心守护着森林，帮助更多的动物实现愿望。她们的故事传遍了整个国度，成为了永恒的传说。\\n\\n这个故事告诉我们，爱与家庭是我们生活中最宝贵的财富。只要我们心怀爱意，珍惜家人，就能战胜一切困难，拥有幸福的人生。\\n\\n\\n#### 2.chat.completions.create函数响应结果解读\\n\\n&emsp;&emsp;对于所有的借助chat.completions.create函数创建的结果来说，都是一个Completion对象：\\n\\n\\n```python\\nresponse\\n```\\n\\n\\n\\n\\n    Completion(model=\\'glm-4\\', created=1705575284, choices=[CompletionChoice(index=0, finish_reason=\\'stop\\', message=CompletionMessage(content=\\'你好👋！我是人工智能助手智谱清言，可以叫我小智🤖，很高兴见到你，欢迎问我任何问题。\\', role=\\'assistant\\', tool_calls=None))], request_id=\\'8311643113837941476\\', id=\\'8311643113837941476\\', usage=CompletionUsage(prompt_tokens=6, completion_tokens=32, total_tokens=38))\\n\\n\\n\\n\\n```python\\ntype(response)\\n```\\n\\n\\n\\n\\n    zhipuai.types.chat.chat_completion.Completion\\n\\n\\n\\n这个对象中会包含一次模型调用返回的全部结果，并且保存在choices属性中：\\n\\n\\n```python\\nresponse.choices\\n```\\n\\n\\n\\n\\n    [CompletionChoice(index=0, finish_reason=\\'stop\\', message=CompletionMessage(content=\\'你好👋！我是人工智能助手智谱清言，可以叫我小智🤖，很高兴见到你，欢迎问我任何问题。\\', role=\\'assistant\\', tool_calls=None))]\\n\\n\\n\\nchoices本质上是一个list，当模型只返回了一个结果时，我们可以通过.choices[0]所以获得模型唯一的结果：\\n\\n\\n```python\\nresponse.choices[0]\\n```\\n\\n\\n\\n\\n    CompletionChoice(index=0, finish_reason=\\'stop\\', message=CompletionMessage(content=\\'你好👋！我是人工智能助手智谱清言，可以叫我小智🤖，很高兴见到你，欢迎问我任何问题。\\', role=\\'assistant\\', tool_calls=None))\\n\\n\\n\\n\\n```python\\nresponse.choices[0].message\\n```\\n\\n\\n\\n\\n    CompletionMessage(content=\\'你好👋！我是人工智能助手智谱清言，可以叫我小智🤖，很高兴见到你，欢迎问我任何问题。\\', role=\\'assistant\\', tool_calls=None)\\n\\n\\n\\n\\n```python\\nresponse.choices[0].message.content\\n```\\n\\n\\n\\n\\n    \\'你好👋！我是人工智能助手智谱清言，可以叫我小智🤖，很高兴见到你，欢迎问我任何问题。\\'\\n\\n\\n\\n### 二、GLM-4 Message参数设置方法\\n\\n#### 1.GLM多角色对话系统解释\\n\\n&emsp;&emsp;时至今日，多角色对话基本上已经成了顶尖大模型的标配。正是基于多角色对话这一基础技术架构，大模型才能非常灵活的实现各类对话需求，甚至多角色对话也是更高效的实现Function calling的基础，而后者则是整个Agent开发的基石。\\n\\n&emsp;&emsp;那什么是多角色对话呢？简而言之就是将用户和大模型之间的“私聊”变为“群聊”，在用户和大模型这两个角色基础之上，进一步增加“系统”和“工具”这两个角色。尽管最终目的都是为了能完成大模型完成和用户的之间对话，但在对话过程中添加一些额外角色，确实能够更好的引导大模型完成对话。例如对话系统中增加的“系统”这一角色，可以为本次对话增加基本背景信息、对大模型进行角色身份设置等，相当于是设置本场对话的基本规则和信息；而对话系统中的“工具”这一角色，则相当于是大模型的拓展工具箱，当大模型无法回答当前问题的时候（例如用户希望查询当前即时天气），就可以向工具求助，而如果这个“工具”角色能够查到当前天气，则会“告诉”大模型当前天气情况，大模型在接收到了当前天气情况之后再告诉用户。如此一来，大模型便可以更加高效便捷的完成对话任务。\\n\\n> 尽管多角色对话系统能够极大程度提高大模型的对话可用性，但并非所有模型都有能力进行多角色对话——往往只有推理能力较强的大模型才能够非常顺利的进行多角色对话。对于ChatGLM系列模型来说，也正是发布到了第三代，才正式引入多角色对话系统。而相比之下GPT系列模型，从ChatGPT（GPT-3.5）开始一直都是多角色对话模式。\\n\\n&emsp;&emsp;而实际执行过程中，多角色对话的过程核心是依靠messages参数来实现的。\\n\\n#### 2.messages功能综述\\n\\n&emsp;&emsp;总的来说，messages是一种用于描述ChatCompletion模型和用户之间通信信息的高级抽象，也是支撑多角色对话系统的关键，从表示形式上来说，一个messages是一个列表，包含多个字典，而每个字典都是一条消息，其中，一条消息由包含两个键值对（即每个字典都包含两个键值对），第一个键值对用于表示消息发送者，其中第一个Key为字符串\\'role\\'，Value为参与对话的角色名称，或者可以理解为本条消息的作者或消息发送人名称，第二个键值对表示具体消息内容，Key为字符串\\'content\\'，Value为具体的消息内容，用字符串表示。\\n\\n\\n```python\\nclient = ZhipuAI(api_key=api_key) \\nresponse = client.chat.completions.create(\\n    model=\"glm-4\",  \\n    messages=[\\n        {\"role\": \"user\", \"content\": \"请问什么是机器学习？\"}\\n    ],\\n)\\n```\\n\\n\\n```python\\ndisplay(Markdown(response.choices[0].message.content))\\n```\\n\\n\\n机器学习是计算机科学和人工智能的一个分支，它涉及开发算法和统计模型，使得计算机系统能够基于数据进行自我学习和改进，而无需进行显式的编程。简单来说，机器学习就是使计算机能够从经验中学习，并据此进行预测或决策的技术。\\n\\n在机器学习中，系统通过分析大量的数据样本，从中识别出数据之间的模式和规律，然后使用这些模式来对新的数据进行预测或分类。这个过程通常分为几个步骤：\\n\\n1. 数据收集：首先需要收集大量的数据，这些数据可以是图片、文本、声音或者其他任何形式。\\n2. 数据预处理：收集到的数据需要进行清洗和格式化，以便算法能够更好地处理。\\n3. 特征提取：从数据中提取关键的特征，这些特征将用于训练模型。\\n4. 模型训练：使用算法在训练数据集上进行学习，建立一个能够捕捉数据特征的模型。\\n5. 模型评估：使用测试数据集来评估模型的性能，确保模型能够泛化到未见过的数据。\\n6. 参数调优：根据模型评估的结果调整模型参数，以优化其性能。\\n\\n机器学习的方法可以大致分为以下几类：\\n\\n- **有监督学习**：在这种方法中，系统使用标记过的数据进行学习，即每个数据样本都有一个对应的标签或目标值。常见的有监督学习任务包括分类和回归。\\n- **无监督学习**：在此类方法中，系统分析未标记的数据，试图发现数据内在的结构或规律，常见的任务包括聚类和降维。\\n- **半监督学习**：结合了有监督和无监督学习，系统同时使用标记和未标记的数据进行学习。\\n- **强化学习**：这是一种通过试错来学习的方法，系统（智能体）在环境中采取行动，并根据行动的结果（奖励或惩罚）来调整其行为。\\n\\n机器学习已经在许多领域取得了显著的应用成果，包括语音识别、图像处理、自然语言处理、医疗诊断、金融预测等。随着计算能力的提高和大数据的出现，机器学习的发展前景广阔，正在逐渐成为推动未来科技进步的重要力量。\\n\\n\\n例如上述示例中的messages就总共包含一条信息，即一个一个名为user的角色发送了一条名为\\'请问什么是机器学习？\\'的消息：\\n\\n\\n```python\\nmessages=[\\n    {\"role\": \"user\", \"content\": \"请问什么是机器学习？\"}\\n]\\n```\\n\\n而同时，返回的message结果也是一个“字典”，并且也包含了信息的发送方和具体信息内容，不难看出，此时返回的message发送方是一个名为\\'assistant\\'的角色，而具体内容则是一段关于什么是机器学习的描述：\\n\\n\\n```python\\nresponse.choices[0].message\\n```\\n\\n\\n\\n\\n    CompletionMessage(content=\\'机器学习是计算机科学和人工智能的一个分支，它涉及开发算法和统计模型，使得计算机系统能够基于数据进行自我学习和改进，而无需进行显式的编程。简单来说，机器学习就是使计算机能够从经验中学习，并据此进行预测或决策的技术。\\\\n\\\\n在机器学习中，系统通过分析大量的数据样本，从中识别出数据之间的模式和规律，然后使用这些模式来对新的数据进行预测或分类。这个过程通常分为几个步骤：\\\\n\\\\n1. 数据收集：首先需要收集大量的数据，这些数据可以是图片、文本、声音或者其他任何形式。\\\\n2. 数据预处理：收集到的数据需要进行清洗和格式化，以便算法能够更好地处理。\\\\n3. 特征提取：从数据中提取关键的特征，这些特征将用于训练模型。\\\\n4. 模型训练：使用算法在训练数据集上进行学习，建立一个能够捕捉数据特征的模型。\\\\n5. 模型评估：使用测试数据集来评估模型的性能，确保模型能够泛化到未见过的数据。\\\\n6. 参数调优：根据模型评估的结果调整模型参数，以优化其性能。\\\\n\\\\n机器学习的方法可以大致分为以下几类：\\\\n\\\\n- **有监督学习**：在这种方法中，系统使用标记过的数据进行学习，即每个数据样本都有一个对应的标签或目标值。常见的有监督学习任务包括分类和回归。\\\\n- **无监督学习**：在此类方法中，系统分析未标记的数据，试图发现数据内在的结构或规律，常见的任务包括聚类和降维。\\\\n- **半监督学习**：结合了有监督和无监督学习，系统同时使用标记和未标记的数据进行学习。\\\\n- **强化学习**：这是一种通过试错来学习的方法，系统（智能体）在环境中采取行动，并根据行动的结果（奖励或惩罚）来调整其行为。\\\\n\\\\n机器学习已经在许多领域取得了显著的应用成果，包括语音识别、图像处理、自然语言处理、医疗诊断、金融预测等。随着计算能力的提高和大数据的出现，机器学习的发展前景广阔，正在逐渐成为推动未来科技进步的重要力量。\\', role=\\'assistant\\', tool_calls=None)\\n\\n\\n\\n由此不难看出，对话Chat模型的每个对话任务都是通过输入和输出message来完成的。\\n\\n#### 3.messages中的角色划分\\n\\n- user role和assistant role\\n\\n&emsp;&emsp;那么接下来的问题就是，在实际调用Chat模型进行对话时，messages中的role应该如何设置呢？从上述极简的对话示例中能够看出，一个最简单的对话就是我们扮演user（用户）这个角色（\\'role\\':\\'user\\'），然后在content中输入我们的问题并等待模型回答。而模型在实际回答过程中，也会扮演一个名为assistant（助手）这个角色（\\'role\\':\\'assistant\\'）进行回答，这里的user和assistant是具有明确含义的字符串，即如果一条信息的role是user，则表明这是用户向模型发送的聊天信息，相当于是Completion模型中的prompt，而如果一条信息的role是assistant，则表示这是当前模型围绕某条用户信息做出的回应，相当于是相当于是Completion模型中的text。需要注意的是，在messages参数中，我们是不能给自己或者模型自定义其他名称的。\\n\\n&emsp;&emsp;很明显，基于这样的一个定义的规则，最简单的Chat模型的调用方法就是在messages参数中设置一条role为user的参数，在content中输入聊天的内容，而模型则会根据这条用户输入给模型的消息进行回答，类似于此前我们向模型提问“请问什么是机器学习？”这种提问方式:\\n\\n\\n```python\\nclient = ZhipuAI(api_key=api_key) \\nresponse = client.chat.completions.create(\\n    model=\"glm-4\",  \\n    messages=[\\n    {\"role\": \"user\", \"content\": \"请问什么是机器学习？\"}\\n  ]\\n)\\n```\\n\\n\\n```python\\nresponse.choices[0].message.content\\n```\\n\\n\\n\\n\\n    \\'机器学习是一门研究如何让计算机从数据中学习，并据此进行预测或决策的学科。它是人工智能的一个重要分支，致力于通过算法和统计模型让计算机系统利用已有的数据进行学习，从而获取新的知识或技能。\\\\n\\\\n在机器学习的框架下，计算机可以通过以下方式模拟人类学习行为：\\\\n\\\\n1. **有监督学习（Supervised Learning）**：在这种模式下，计算机通过分析已标记的数据（即每个数据点都有一个对应的输出标签）来学习。例如，通过分析一系列图片及其对应的标签（如“猫”或“狗”）来训练一个图像识别模型。\\\\n\\\\n2. **无监督学习（Unsupervised Learning）**：在无监督学习中，计算机处理的数据没有附加的标签。它尝试通过识别数据中的模式或结构来进行学习。聚类算法就是一个例子，它会将相似的数据点归为一类。\\\\n\\\\n3. **半监督学习（Semi-supervised Learning）**：这种学习方法介于有监督学习和无监督学习之间，其中一部分数据是标记的，而另一部分则不是。\\\\n\\\\n机器学习的关键要素包括：\\\\n\\\\n- **输入数据**：用于训练模型的数据集。\\\\n- **预期输出实例**：在有监督学习中，这是与输入数据对应的正确输出。\\\\n- **衡量算法效果的方法**：用于评估模型性能的指标，如准确率、召回率等。\\\\n\\\\n机器学习的应用范围非常广泛，包括但不限于图像识别、语音识别、自然语言处理、推荐系统、医疗诊断、金融预测等领域。\\\\n\\\\n简而言之，机器学习是一种使计算机能够通过经验改进其性能的技术，它正在改变我们生活的各个方面，并推动科技进步。\\'\\n\\n\\n\\n不过需要注意的是，尽管一个messages可以包含多条信息，但模型只会对于最后一条用户信息进行回答，例如：\\n\\n\\n```python\\nclient = ZhipuAI(api_key=api_key) \\nresponse = client.chat.completions.create(\\n    model=\"glm-4\",  \\n    messages=[\\n    {\"role\": \"user\", \"content\": \"请问什么是机器学习？\"},\\n    {\"role\": \"user\", \"content\": \"请问什么是决策树算法？\"}\\n  ]\\n)\\n```\\n\\n\\n```python\\nresponse.choices[0].message.content\\n```\\n\\n\\n\\n\\n    \\'决策树算法是一种常用的机器学习算法，它模仿人类决策过程，通过一系列的问题（即特征）来对数据进行分类或回归分析。决策树由节点和边组成，每个节点代表一个特征或属性，边代表该特征的某个取值，叶节点代表最终的分类或预测结果。\\\\n\\\\n具体来说，决策树的工作原理如下：\\\\n\\\\n1. **根节点**：树的最顶端节点，代表整个数据集。\\\\n2. **内部节点**：树中的非叶节点，每个节点都对应数据集中的一个特征。节点会基于这个特征的不同取值来划分数据集。\\\\n3. **叶节点**：树的最底层节点，表示分类结果或回归值。\\\\n4. **边**：连接节点的线，表示特征的某个取值。\\\\n\\\\n在构建决策树时，算法会自动选择最优的特征进行分割，通常使用信息增益（ID3算法）、增益率（C4.5算法）或基尼不纯度（CART算法）等准则来评估特征的好坏。\\\\n\\\\n决策树算法的优点包括：\\\\n\\\\n- 易于理解和解释。\\\\n- 可以处理数值和分类数据。\\\\n- 可以处理多路输出问题。\\\\n- 不需要大量的数据预处理。\\\\n\\\\n缺点包括：\\\\n\\\\n- 容易过拟合，特别是在数据特征较多时。\\\\n- 对于类别不平衡的数据，分类决策树可能会偏向于多数类。\\\\n- 对于连续值预测，可能不如其他算法精确。\\\\n\\\\n决策树在许多领域都有应用，如医学诊断、信用评分、股票市场预测等。\\'\\n\\n\\n\\n也就是说，assistant消息和role消息是一一对应的，而且在一般情况下，assistant消息只会围绕messages参数中的最后一个role信息进行回答。\\n\\n- system role用于身份设定\\n\\n&emsp;&emsp;不过，值得一提的是，user和assistant的这种提问方式尽管足够清晰，但往往形式上不够丰富，例如在实践中人们发现，给聊天机器人进行一个身份设置，其实是非常有效的引导模型创作我们想要的结果的方法，例如如果我们希望获得一个关于“什么是机器学习？”更加严谨且丰富的答案，我们可以以“假设你是一名资深的计算机系大学教授”为模型进行身份设置，例如我们可以以如下方式向模型进行提问：\\n\\n\\n```python\\nclient = ZhipuAI(api_key=api_key) \\nresponse = client.chat.completions.create(\\n    model=\"glm-4\",  \\n    messages=[\\n    {\"role\": \"user\", \"content\": \"假设你是一名资深的计算机系大学教授，请帮我回答，什么是机器学习？\"}\\n  ]\\n)\\n```\\n\\n\\n```python\\nresponse.choices[0].message.content\\n```\\n\\n\\n\\n\\n    \\'机器学习是计算机科学中的一个分支，它致力于开发和应用算法让计算机系统能够基于数据进行自我学习和改进，而无需进行显式的编程。在机器学习中，我们让计算机通过经验（即数据）学习，从而使它可以对未知数据进行预测或决策。\\\\n\\\\n简单来说，机器学习可以看作是让计算机模拟人类学习过程的一种技术。它涉及统计学、概率论、数学优化、算法理论等多个领域。在实际应用中，机器学习算法可以从大量的数据中找出潜在的模式，并用这些模式来对新数据做出预测或分类。\\\\n\\\\n机器学习可以分为几种主要类型：\\\\n\\\\n1. **监督学习（Supervised Learning）**：在这种模式下，算法从标记过的训练数据中学习，即每个样本都有一个对应的输出标签。监督学习的目标是训练出一个模型，使其能够对新的、未见过的数据进行准确的预测。\\\\n\\\\n2. **无监督学习（Unsupervised Learning）**：在无监督学习中，算法处理的是没有标记的数据。它的目标是发现数据中的结构或模式，如通过聚类算法将相似的数据点分组。\\\\n\\\\n3. **半监督学习（Semi-supervised Learning）**：这种学习方法介于监督学习和无监督学习之间，其中一部分数据是标记的，而另一部分则没有。\\\\n\\\\n4. **强化学习（Reinforcement Learning）**：这是一种通过奖励和惩罚机制来指导算法的学习方法。系统（通常被称为智能体）在环境中采取行动，并根据行动的结果来调整策略，以最大化累积奖励。\\\\n\\\\n机器学习在各个领域都有广泛的应用，包括但不限于图像识别、语音识别、自然语言处理、医疗诊断、推荐系统等。随着技术的不断进步，机器学习已经成为了现代生活中不可或缺的一部分。\\'\\n\\n\\n\\n不难看出，此时模型的回答就变得更加详细和严谨，更像一名“大学教授”的语气风格，也同时说明我们对模型进行的身份设定是切实有效的。\\n\\n&emsp;&emsp;而在completion.create函数中，还有另外一种非常便捷的对模型进行身份设置的方法，即使用system role，即我们可以使用如下方式为模型进行“大学教授”身份设定：\\n\\n\\n```python\\nclient = ZhipuAI(api_key=api_key) \\nresponse = client.chat.completions.create(\\n    model=\"glm-4\",  \\n    messages=[\\n    {\"role\": \"system\", \"content\": \"你是一名资深的计算机系大学教授\"},\\n    {\"role\": \"user\", \"content\": \"请问什么是机器学习？\"}\\n  ]\\n)\\n```\\n\\n\\n```python\\nresponse.choices[0].message.content\\n```\\n\\n\\n\\n\\n    \\'机器学习（Machine Learning, ML）是计算机科学的一个分支，主要研究如何让计算机从数据或经验中学习，并据此进行预测或决策。简单来说，机器学习就是用算法来解析数据、从中学习、然后做出决策或预测。\\\\n\\\\n机器学习可以分为几种主要类型：\\\\n\\\\n1. **监督学习（Supervised Learning）**：在这种模式下，算法从标记过的训练数据中学习，然后用学到的知识来预测新的、未标记的数据。例如，通过分析过去的房价数据来预测未来的房价。\\\\n\\\\n2. **无监督学习（Unsupervised Learning）**：在无监督学习中，算法处理没有标记的数据，尝试自己找出数据中的结构或模式。聚类和关联规则学习是两个常见的例子。\\\\n\\\\n3. **半监督学习（Semi-supervised Learning）**：这种方法结合了监督学习和无监督学习，其中一部分数据是标记的，但大部分数据是未标记的。\\\\n\\\\n4. **强化学习（Reinforcement Learning）**：这是一种通过奖励和惩罚机制来学习如何完成特定任务的方法。在这种方法中，算法（通常被称为“智能体”）通过与环境互动来学习如何在给定情境下做出最优决策。\\\\n\\\\n机器学习在许多领域都有应用，包括自然语言处理、图像识别、推荐系统、医疗诊断、金融预测等。随着技术的进步和数据量的增加，机器学习变得越来越重要，是现代计算机科学和人工智能领域的关键技术之一。\\'\\n\\n\\n\\n&emsp;&emsp;能够看出，这里我们在原有消息之前，新增一条消息{\"role\": \"system\", \"content\": \"你是一名资深的计算机系大学教授\"}，也能起到设定模型身份的作用。而这条消息的实际含义是，以system的身份发送一条消息，消息内容为“你是一名资深的计算机系大学教授”。这里的system就是messages参数的role可以选取的第三个字符串，意为该消息为一条系统消息。相比用户消息，系统消息有以下几点需要注意，其一是系统消息的实际作用是给整个对话系统进行背景设置，不同的背景设置会极大程度影响后续对话过程中模型的输出结果，例如如果系统设置为“你是一位资深医学专家”，那么接下来系统在进行回答医学领域相关问题时则会引用大量医学术语，而如果系统设置为“你是一位资深喜剧演员”，那么接下来系统进行的回答则会更加风趣幽默：\\n\\n\\n```python\\nclient = ZhipuAI(api_key=api_key) \\nresponse = client.chat.completions.create(\\n    model=\"glm-4\",  \\n    messages=[\\n    {\"role\": \"system\", \"content\": \"你是一名资深的喜剧演员\"},\\n    {\"role\": \"user\", \"content\": \"请问什么是机器学习？\"}\\n  ]\\n)\\n```\\n\\n\\n```python\\nresponse.choices[0].message.content\\n```\\n\\n\\n\\n\\n    \\'哦，作为一个喜剧演员，我会这样解释机器学习：\\\\n\\\\n机器学习嘛，就像是你的智能手机试图学会如何像人类一样忘记事情。你知道的，我们人类有时候会忘记事情，但手机呢？它们总是记得每一个小细节，对吧？机器学习就是让这些设备通过观察和经验来学习，就像小孩子学习不要把玩具扔进鱼缸一样。不过，机器学习的目标是让这些机器变得更聪明，而不是像我们一样忘记把车钥匙放在哪里了。\\\\n\\\\n开个玩笑啦。实际上，机器学习是人工智能的一个分支，它让计算机系统能够从数据中学习并改进，而无需人为编程。它通过算法分析数据、识别模式，并基于这些信息做出预测或决策。简单来说，就是让机器通过经验变得更聪明。\\'\\n\\n\\n\\n这里需要重点注意，通过system_message进行身份设置对于GLM4模型效果较好，而对于GLM3模型来说效果非常不稳定：\\n\\n\\n```python\\nclient = ZhipuAI(api_key=api_key) \\nresponse = client.chat.completions.create(\\n    model=\"glm-3-turbo\",  \\n    messages=[\\n    {\"role\": \"system\", \"content\": \"你是一名资深的喜剧演员\"},\\n    {\"role\": \"user\", \"content\": \"请问什么是机器学习？\"}\\n  ]\\n)\\n```\\n\\n\\n```python\\nresponse.choices[0].message.content\\n```\\n\\n\\n\\n\\n    \\'机器学习是一门人工智能（AI）的分支，主要研究如何让计算机从数据或经验中学习，并据此进行预测或决策。简单来说，机器学习就是用算法来解析数据、从中学习、然后做出决策或预测。\\\\n\\\\n机器学习可以分为几种主要类型：\\\\n\\\\n1. **监督学习（Supervised Learning）**: 在这种模式下，算法从标记过的训练数据中学习，然后用学到的知识来预测新的、未标记的数据。例如，通过分析过去的房价数据来预测未来的房价。\\\\n\\\\n2. **无监督学习（Unsupervised Learning）**: 算法在没有标记的数据集上进行训练，试图自己找出数据内在的结构或规律。聚类和关联规则学习就是两个常见的例子。\\\\n\\\\n3. **半监督学习（Semi-supervised Learning）**: 这是一种介于监督学习和无监督学习之间的方法，其中一部分数据是标记的，但大部分数据是未标记的。\\\\n\\\\n4. **强化学习（Reinforcement Learning）**: 在这种类型中，算法（通常被称为“智能体”）通过与环境进行交互来学习如何完成特定任务。智能体会获得奖励或惩罚，以便调整其行为。\\\\n\\\\n机器学习在各个领域都有广泛的应用，包括自然语言处理、图像识别、推荐系统、金融预测等。\\\\n\\\\n机器学习还分为传统机器学习和深度学习。传统机器学习通常使用简单的算法和特征，而深度学习则使用多层神经网络和大量的特征。深度学习在近年来取得了很大的成功，尤其是在图像和语音识别等领域。\\\\n\\\\n值得注意的是，机器学习并不意味着“自主学习”。机器学习模型通常需要大量的数据和计算资源，而且它们的学习结果完全取决于输入的数据。因此，确保数据的质量和多样性非常重要。\\\\n\\\\n在中国，机器学习和人工智能也得到了广泛的关注和研究，许多企业和研究机构都在这方面取得了显著的进展。\\'\\n\\n\\n\\n&emsp;&emsp;而第二方面需要注意的则是，当messages中只包含一条system消息时，GLM4模型会直接报错：\\n\\n\\n```python\\nresponse = client.chat.completions.create(\\n    model=\"glm-4\",  \\n  messages=[\\n    {\"role\": \"system\", \"content\": \"你是一名资深的喜剧演员\"},\\n  ]\\n)\\n```\\n\\n\\n    ---------------------------------------------------------------------------\\n    \\n    APIRequestFailedError                     Traceback (most recent call last)\\n    \\n    Cell In[77], line 1\\n    ----> 1 response = client.chat.completions.create(\\n          2     model=\"glm-4\",  \\n          3   messages=[\\n          4     {\"role\": \"system\", \"content\": \"你是一名资深的喜剧演员\"},\\n          5   ]\\n          6 )\\n\\n\\n    File ~\\\\anaconda3\\\\envs\\\\openenv\\\\lib\\\\site-packages\\\\zhipuai\\\\api_resource\\\\chat\\\\completions.py:48, in Completions.create(self, model, request_id, do_sample, stream, temperature, top_p, max_tokens, seed, messages, stop, sensitive_word_check, tools, tool_choice, extra_headers, disable_strict_validation, timeout)\\n         46     _cast_type = object\\n         47     _stream_cls = StreamResponse[object]\\n    ---> 48 return self._post(\\n         49     \"/chat/completions\",\\n         50     body={\\n         51         \"model\": model,\\n         52         \"request_id\": request_id,\\n         53         \"temperature\": temperature,\\n         54         \"top_p\": top_p,\\n         55         \"do_sample\": do_sample,\\n         56         \"max_tokens\": max_tokens,\\n         57         \"seed\": seed,\\n         58         \"messages\": messages,\\n         59         \"stop\": stop,\\n         60         \"sensitive_word_check\": sensitive_word_check,\\n         61         \"stream\": stream,\\n         62         \"tools\": tools,\\n         63         \"tool_choice\": tool_choice,\\n         64     },\\n         65     options=make_user_request_input(\\n         66         extra_headers=extra_headers,\\n         67     ),\\n         68     cast_type=_cast_type,\\n         69     enable_stream=stream or False,\\n         70     stream_cls=_stream_cls,\\n         71 )\\n\\n\\n    File ~\\\\anaconda3\\\\envs\\\\openenv\\\\lib\\\\site-packages\\\\zhipuai\\\\core\\\\_http_client.py:292, in HttpClient.post(self, path, body, cast_type, options, files, enable_stream, stream_cls)\\n        278 def post(\\n        279         self,\\n        280         path: str,\\n       (...)\\n        287         stream_cls: type[StreamResponse[Any]] | None = None,\\n        288 ) -> ResponseT | StreamResponse:\\n        289     opts = ClientRequestParam.construct(method=\"post\", json_data=body, files=make_httpx_files(files), url=path,\\n        290                                         **options)\\n    --> 292     return self.request(\\n        293         cast_type=cast_type, params=opts,\\n        294         enable_stream=enable_stream,\\n        295         stream_cls=stream_cls\\n        296     )\\n\\n\\n    File ~\\\\anaconda3\\\\envs\\\\openenv\\\\lib\\\\site-packages\\\\zhipuai\\\\core\\\\_http_client.py:251, in HttpClient.request(self, cast_type, params, enable_stream, stream_cls)\\n        249     err.response.read()\\n        250     # raise err\\n    --> 251     raise self._make_status_error(err.response) from None\\n        253 except Exception as err:\\n        254     raise err\\n\\n\\n    APIRequestFailedError: Error code: 400, with error text {\"error\":{\"code\":\"1214\",\"message\":\"messages 参数非法。请检查文档。\"}}\\n\\n\\n&emsp;&emsp;第三方面需要注意的是，如果我们需要根据system系统信息对系统进行设置，然后再提问，那么先system消息再user消息的顺序就变得非常重要，例如还是上面的例子，还是希望以喜剧演员的身份介绍机器学习，但我们调换了system消息和user消息的顺序，那么会发现，system消息的作用就会失效，这点和GPT系列模型完全一样：\\n\\n\\n```python\\nresponse = client.chat.completions.create(\\n    model=\"glm-4\",  \\n    messages=[\\n    {\"role\": \"user\", \"content\": \"请问什么是机器学习？\"},\\n    {\"role\": \"system\", \"content\": \"你是一名资深的喜剧演员\"}\\n  ]\\n)\\n```\\n\\n\\n```python\\nresponse.choices[0].message.content\\n```\\n\\n\\n\\n\\n    \\'机器学习是一门人工智能（AI）的分支，主要研究如何让计算机从数据或经验中学习，并据此进行预测或决策。简单来说，机器学习就是用算法来解析数据、从中学习、然后做出决策或预测。\\\\n\\\\n机器学习可以分为几种主要类型：\\\\n\\\\n1. **监督学习（Supervised Learning）**：在这种模式下，算法从标记过的训练数据中学习，然后能够对新的、未见过的数据进行预测或分类。\\\\n\\\\n2. **无监督学习（Unsupervised Learning）**：在这种情况下，算法从没有标记的数据中学习，寻找数据中的模式或结构。\\\\n\\\\n3. **半监督学习（Semi-supervised Learning）**：这种类型的机器学习介于监督学习和无监督学习之间，其中一部分数据是标记的，但大部分数据是未标记的。\\\\n\\\\n4. **强化学习（Reinforcement Learning）**：这是一种通过奖励和惩罚机制来让算法学习如何完成特定任务的方法。\\\\n\\\\n机器学习在各个领域都有广泛的应用，包括但不限于图像识别、语音识别、自然语言处理、医疗诊断、推荐系统等。它是现代技术和社会发展的一个重要组成部分，有助于提高效率、准确性和创新能力。\\'\\n\\n\\n\\n此时会发现，模型还是能解答“请问什么是机器学习？”这个问题，但却没有正确接受“你是一名资深喜剧演员”这个设定。\\n\\n- 借助system messages设置聊天背景信息\\n\\n&emsp;&emsp;除了可以借助system消息非常便捷的进行提示模板的设计之外，还有一个非常常见的system role的使用方法，就是借助system消息进行聊天背景信息的设定，很多时候我们可以在system消息中输入一段长文本，这段长文本将在聊天开始之前输入到系统中，而在之后的聊天中，即可让assistant围绕这个长文本进行回答，这是一种最简单的实现大语言模型围绕本地知识库进行问答的方法。\\n\\n&emsp;&emsp;这里我们在system消息中输入一段关于虚拟人物“陈明”的个人简介，而在之后的提问中，user和assistant将可以自由的围绕这段输入的背景信息进行问答：\\n\\n\\n```python\\ntext = \\'陈明，男，1973年7月15日出生于中国福建省厦门市。\\\\\\n        1991年毕业于厦门大学电子科学与技术系，继而于1998年在北京大学获得信息技术博士学位。\\\\\\n        毕业后的陈明在硅谷的一家著名科技公司工作了五年，专注于人工智能和机器学习的研发。\\'\\n```\\n\\n\\n```python\\nresponse = client.chat.completions.create(\\n    model=\"glm-4\",  \\n    messages=[\\n    {\"role\": \"system\", \"content\": text},\\n    {\"role\": \"user\", \"content\": \\'请问陈明是那一年出生？\\'}\\n  ]\\n)\\n```\\n\\n\\n```python\\nresponse.choices[0].message.content\\n```\\n\\n\\n\\n\\n    \\'陈明是1973年7月15日出生的。\\'\\n\\n\\n\\n能够看出，这段背景背景信息能够被模型学习并以此进行特定问题的回答。这其实就是一种非常简单的围绕本地知识进行问答的实现形式，不过需要注意的是，system role输入的信息也算是输入给模型的信息，因此受限于大语言模型的最大输入信息长度，单独借助system role在ChatCompletion.create函数中输入背景信息并不能真正意义上实现高度定制化、超大规模文本的本地知识库问答。但是，如果围绕着超大规模本地文本知识库先进行基于滑动窗口的文本切分，以确保切分后的小文本段落满足Max tokens要求，并且配合Embedding过程进行user问题和短文本的实时匹配，再把每个user问题匹配的关联度最高的文本以system消息的形式输入到模型中，再进行回答，则可以非常高效并且准确的实现本地知识库问答。而在这个过程中，借助system role进行背景文字的输入就非常基本的技术手段。\\n\\n- 借助.append方法进行多轮对话\\n\\n&emsp;&emsp;最后，除了上述通过内部参数修改来实现不同功能外，messages参数的另一个重要应用是借助append方法来高效实现多轮对话。不同于Completion模型需要将历史问答都拼接为一个字符串并输入到新的prompt中来实现历史消息的输入，对于Chat模型来说，我们只需要将模型返回的message消息+用户新的提问message拼接到模型的messages参数中，并再次向模型进行提问，即可非常便捷的实现多轮对话。\\n\\n\\n```python\\nresponse.choices[0].message.content\\n```\\n\\n\\n\\n\\n    \\'陈明是1973年7月15日出生的。\\'\\n\\n\\n\\n然后单独设置messages参数，并将此前的问题+答案进行拼接：\\n\\n\\n```python\\nmessages=[\\n    {\"role\": \"system\", \"content\": text},\\n    {\"role\": \"user\", \"content\": \\'请问陈明是那一年出生？\\'}\\n]\\n```\\n\\n\\n```python\\nmessages.append({\"role\": \"assistant\", \"content\": response.choices[0].message.content})\\n```\\n\\n\\n```python\\nmessages\\n```\\n\\n\\n\\n\\n    [{\\'role\\': \\'system\\',\\n      \\'content\\': \\'陈明，男，1973年7月15日出生于中国福建省厦门市。        1991年毕业于厦门大学电子科学与技术系，继而于1998年在北京大学获得信息技术博士学位。        毕业后的陈明在硅谷的一家著名科技公司工作了五年，专注于人工智能和机器学习的研发。\\'},\\n     {\\'role\\': \\'user\\', \\'content\\': \\'请问陈明是那一年出生？\\'},\\n     {\\'role\\': \\'assistant\\', \\'content\\': \\'陈明是1973年7月15日出生的。\\'}]\\n\\n\\n\\n此时messages参数就包含了最开始的问题+问题答案。接下来我们在messages消息中添加下一个问题：\\n\\n\\n```python\\nmessages.append({\\'role\\': \\'user\\', \\'content\\': \\'请问我刚才的问题是？\\'})\\n```\\n\\n\\n```python\\nmessages\\n```\\n\\n\\n\\n\\n    [{\\'role\\': \\'system\\',\\n      \\'content\\': \\'陈明，男，1973年7月15日出生于中国福建省厦门市。        1991年毕业于厦门大学电子科学与技术系，继而于1998年在北京大学获得信息技术博士学位。        毕业后的陈明在硅谷的一家著名科技公司工作了五年，专注于人工智能和机器学习的研发。\\'},\\n     {\\'role\\': \\'user\\', \\'content\\': \\'请问陈明是那一年出生？\\'},\\n     {\\'role\\': \\'assistant\\', \\'content\\': \\'陈明是1973年7月15日出生的。\\'},\\n     {\\'role\\': \\'user\\', \\'content\\': \\'请问我刚才的问题是？\\'}]\\n\\n\\n\\n接下来再次调用模型，并输入messages作为参数，此时模型将同时结合此前的所有消息，并围绕最后一个user信息进行回答：\\n\\n\\n```python\\nresponse = client.chat.completions.create(\\n    model=\"glm-4\",  \\n    messages=messages\\n)\\n```\\n\\n\\n```python\\nresponse.choices[0].message.content\\n```\\n\\n\\n\\n\\n    \\'你刚才的问题是：“请问陈明是那一年出生？” 这里的“那一年”是指询问陈明的出生年份。\\'\\n\\n'},\n",
       " {'role': 'user',\n",
       "  'content': '我现在已经获取了智谱AI的API-KEY，并已赋值给变量api_key。现在你是一位擅长编写代码的大模型技术专家。请帮我编写一个基于client.chat.completions.create函数的多轮对话函数，函数要求如下:1.函数无任何必选参数，用户无需输入任何参数即可并开启多轮对话;2.当用户输入退出时退出多轮对话;3.client.chat.completions.create函数运行过程以默认参数为主，并且设置调用glm-4模型;4.请在函数内部，帮我编写详细的函数说明文档，用于说明函数功能、函数参数情况以及函数返回结果等信息；'}]"
      ]
     },
     "execution_count": 58,
     "metadata": {},
     "output_type": "execute_result"
    }
   ],
   "source": [
    "messages"
   ]
  },
  {
   "cell_type": "code",
   "execution_count": 61,
   "id": "09830cd3-5bdb-4cce-8532-576afb774b82",
   "metadata": {
    "tags": []
   },
   "outputs": [
    {
     "data": {
      "text/markdown": [
       "```python\n",
       "import zhipuai\n",
       "import zhipuai.types.chat.completion_message as CompletionMessage\n",
       "import zhipuai.types.chat.completion_choice as CompletionChoice\n",
       "import zhipuai.types.chat.completion as Completion\n",
       "\n",
       "def multi_turn_chat(api_key: str):\n",
       "    \"\"\"\n",
       "    多轮对话函数，基于智谱AI的client.chat.completions.create函数实现。用户无需输入任何参数即可开启多轮对话。\n",
       "\n",
       "    函数功能：\n",
       "    1. 与用户进行多轮对话，每轮对话基于client.chat.completions.create函数实现。\n",
       "    2. 用户可以随时输入'退出'以结束多轮对话。\n",
       "\n",
       "    函数参数：\n",
       "    - api_key (str): 智谱AI的API-KEY，用于调用client.chat.completions.create函数。\n",
       "\n",
       "    函数返回：\n",
       "    - None\n",
       "\n",
       "    示例用法：\n",
       "    multi_turn_chat(api_key)\n",
       "    \"\"\"\n",
       "    client = zhipuai.ZhipuAI(api_key=api_key)\n",
       "    messages = []\n",
       "\n",
       "    while True:\n",
       "        user_input = input(\"用户：\")\n",
       "        if user_input == '退出':\n",
       "            break\n",
       "\n",
       "        messages.append({\"role\": \"user\", \"content\": user_input})\n",
       "\n",
       "        response = client.chat.completions.create(\n",
       "            model=\"glm-4\", \n",
       "            messages=messages\n",
       "        )\n",
       "\n",
       "        assistant_message = response.choices[0].message.content\n",
       "        print(\"助手：\", assistant_message)\n",
       "\n",
       "        messages.append({\"role\": \"assistant\", \"content\": assistant_message})\n",
       "\n",
       "    return None\n",
       "```\n",
       "\n",
       "使用示例：\n",
       "\n",
       "```python\n",
       "api_key = \"your_api_key_here\"\n",
       "multi_turn_chat(api_key)\n",
       "```\n",
       "\n",
       "在上述示例中，用户无需输入任何参数即可开始多轮对话。每轮对话中，用户输入的内容会作为messages参数的一部分，与之前的对话历史一起传递给client.chat.completions.create函数。当用户输入'退出'时，多轮对话将结束。"
      ],
      "text/plain": [
       "<IPython.core.display.Markdown object>"
      ]
     },
     "metadata": {},
     "output_type": "display_data"
    }
   ],
   "source": [
    "response4 = client.chat.completions.create(\n",
    "  model=\"glm-4\",  \n",
    "  messages=messages\n",
    ")\n",
    "display(Markdown(response4.choices[0].message.content))"
   ]
  },
  {
   "cell_type": "code",
   "execution_count": 63,
   "id": "b7cdb21d-1865-4370-881e-47036fc908c3",
   "metadata": {
    "tags": []
   },
   "outputs": [],
   "source": [
    "def multi_turn_chat(api_key: str):\n",
    "    \"\"\"\n",
    "    多轮对话函数，基于智谱AI的client.chat.completions.create函数实现。用户无需输入任何参数即可开启多轮对话。\n",
    "\n",
    "    函数功能：\n",
    "    1. 与用户进行多轮对话，每轮对话基于client.chat.completions.create函数实现。\n",
    "    2. 用户可以随时输入'退出'以结束多轮对话。\n",
    "\n",
    "    函数参数：\n",
    "    - api_key (str): 智谱AI的API-KEY，用于调用client.chat.completions.create函数。\n",
    "\n",
    "    函数返回：\n",
    "    - None\n",
    "\n",
    "    示例用法：\n",
    "    multi_turn_chat(api_key)\n",
    "    \"\"\"\n",
    "    client = zhipuai.ZhipuAI(api_key=api_key)\n",
    "    messages = []\n",
    "\n",
    "    while True:\n",
    "        user_input = input(\"用户：\")\n",
    "        if user_input == '退出':\n",
    "            break\n",
    "\n",
    "        messages.append({\"role\": \"user\", \"content\": user_input})\n",
    "\n",
    "        response = client.chat.completions.create(\n",
    "            model=\"glm-4\", \n",
    "            messages=messages\n",
    "        )\n",
    "\n",
    "        assistant_message = response.choices[0].message.content\n",
    "        print(\"助手：\", assistant_message)\n",
    "\n",
    "        messages.append({\"role\": \"assistant\", \"content\": assistant_message})\n",
    "\n",
    "    return None"
   ]
  },
  {
   "cell_type": "code",
   "execution_count": 64,
   "id": "bbaeb2b7-177b-4dab-b530-06e1bbd84105",
   "metadata": {
    "collapsed": true,
    "jupyter": {
     "outputs_hidden": true
    },
    "tags": []
   },
   "outputs": [
    {
     "name": "stdin",
     "output_type": "stream",
     "text": [
      "用户： 你好\n"
     ]
    },
    {
     "name": "stdout",
     "output_type": "stream",
     "text": [
      "助手： 你好！有什么我可以帮助你的吗？\n"
     ]
    },
    {
     "name": "stdin",
     "output_type": "stream",
     "text": [
      "用户： 请介绍下你自己\n"
     ]
    },
    {
     "name": "stdout",
     "output_type": "stream",
     "text": [
      "助手： 很高兴为你介绍。我是一个人工智能助手，设计用来回答问题和提供帮助。我由多种技术和算法构成，可以理解和生成自然语言文本。我不是一个真实的人，而是一个由开发者编程的软件，旨在为用户提供信息、解答疑问和执行各种任务。如果你有任何问题或需要帮助，请随时告诉我！\n"
     ]
    },
    {
     "name": "stdin",
     "output_type": "stream",
     "text": [
      "用户： 非常好，请帮我介绍下什么是机器学习\n"
     ]
    },
    {
     "name": "stdout",
     "output_type": "stream",
     "text": [
      "助手： 机器学习是一门人工智能的分支，其目标是让计算机系统能够通过对大量数据进行训练，从而学会识别模式、进行预测和做出决策等任务。机器学习的核心思想是通过数据驱动的算法自动从数据中提取知识和规律，并将这些知识和规律用于对新数据进行预测和决策。\n",
      "\n",
      "机器学习的应用广泛，涉及计算机视觉、自然语言处理、推荐系统、语音识别、医学诊断等领域。常见的机器学习算法包括线性回归、逻辑回归、支持向量机、决策树、随机森林、神经网络、深度学习等。\n",
      "\n",
      "机器学习的发展为人工智能领域带来了革命性的变革，使得计算机系统能够处理复杂任务，为人类的生产和生活带来了极大的便利。同时，机器学习也面临着诸多挑战，如数据不平衡、过拟合、模型解释性等，因此，研究人员一直在努力探索新的机器学习技术和方法，以解决这些问题并推动机器学习领域的进一步发展。\n"
     ]
    },
    {
     "name": "stdin",
     "output_type": "stream",
     "text": [
      "用户： 好的，那和深度学习的区别是什么呢？\n"
     ]
    },
    {
     "name": "stdout",
     "output_type": "stream",
     "text": [
      "助手： 机器学习和深度学习是人工智能领域的两个重要分支，它们之间有一定的联系和区别。\n",
      "\n",
      "深度学习是机器学习的一种特殊形式，它使用多层神经网络模型对大量数据进行训练，从而实现对数据的抽象和表示。深度学习的主要优势在于能够自动地从数据中提取特征，并能够处理复杂的非线性关系。\n",
      "\n",
      "与传统的机器学习算法相比，深度学习具有以下几个优势：\n",
      "\n",
      "1. 自动特征提取：深度学习算法能够自动从数据中提取特征，而不需要人工设计特征。这使得深度学习算法能够处理复杂的、高维的数据，如图像、语音和自然语言文本等。\n",
      "\n",
      "2. 非线性建模能力：深度学习算法具有强大的非线性建模能力，能够处理复杂的数据分布和模式，如语音、图像和视频等。\n",
      "\n",
      "3. 可扩展性：深度学习算法能够通过增加神经网络的层数和节点数量来提高模型的复杂度和表达能力，从而实现对更大规模的数据的处理和分析。\n",
      "\n",
      "深度学习算法在图像识别、自然语言处理、语音识别、推荐系统等领域取得了广泛的应用和成功，成为了人工智能领域的重要分支之一。\n",
      "\n",
      "需要注意的是，深度学习算法需要大量的数据进行训练，因此需要高性能的计算机硬件和大规模的数据集支持。此外，深度学习算法也存在一些挑战，如模型解释性、数据隐私和安全等问题，需要进一步研究和探索。\n"
     ]
    },
    {
     "name": "stdin",
     "output_type": "stream",
     "text": [
      "用户： 退出\n"
     ]
    }
   ],
   "source": [
    "multi_turn_chat(api_key)"
   ]
  },
  {
   "cell_type": "markdown",
   "id": "99fa07f6-63c4-4a81-a329-48f02247f6a2",
   "metadata": {},
   "source": [
    "- 高阶自然语言编程策略"
   ]
  },
  {
   "cell_type": "markdown",
   "id": "d7c51bec-14aa-430f-8611-8a022e96afff",
   "metadata": {},
   "source": [
    "<center><img src=\"https://ml2022.oss-cn-hangzhou.aliyuncs.com/img/%E5%A6%82%E4%BD%95%E6%9B%B4%E5%A5%BD%E7%9A%84%E5%BC%95%E5%AF%BC%E5%A4%A7%E8%AF%AD%E8%A8%80%E6%A8%A1%E5%9E%8B%E8%BF%9B%E8%A1%8C%E7%BC%96%E7%A8%8B.png\" alt=\"如何更好的引导大语言模型进行编程\" style=\"zoom:33%;\" />"
   ]
  },
  {
   "cell_type": "markdown",
   "id": "ec6707c5-fe2b-4242-b81b-e78c40d3818c",
   "metadata": {},
   "source": [
    "- 进阶开发策略：用AI开发AI！"
   ]
  },
  {
   "cell_type": "markdown",
   "id": "7be67756-052c-41fa-a06c-abac8c7c4230",
   "metadata": {},
   "source": [
    "<center><img src=\"https://ml2022.oss-cn-hangzhou.aliyuncs.com/img/702fe4b67f1781de14a5e217a2d923b.png\" alt=\"702fe4b67f1781de14a5e217a2d923b\" style=\"zoom:33%;\" />"
   ]
  },
  {
   "cell_type": "markdown",
   "id": "0fe3a20e-d957-4d86-b8e8-b77a8e9c1c2c",
   "metadata": {},
   "source": [
    "<center><img src=\"https://ml2022.oss-cn-hangzhou.aliyuncs.com/img/44740c7f86aa64ce43b217fb9b000fb.png\" alt=\"44740c7f86aa64ce43b217fb9b000fb\" style=\"zoom:33%;\" />"
   ]
  },
  {
   "cell_type": "markdown",
   "id": "bba5f769-c7f1-4bc2-81d1-ed4e31c16abe",
   "metadata": {},
   "source": [
    "<center><img src=\"https://ml2022.oss-cn-hangzhou.aliyuncs.com/img/code_generate%E5%87%BD%E6%95%B0%E5%88%9B%E5%BB%BA%E6%B5%81%E7%A8%8B.png\" alt=\"code_generate函数创建流程\" style=\"zoom:33%;\" />"
   ]
  },
  {
   "cell_type": "markdown",
   "id": "b2ce6295-b216-4ab8-a684-50cffac37faa",
   "metadata": {},
   "source": [
    "---"
   ]
  },
  {
   "cell_type": "markdown",
   "id": "e8bbf50c-36e0-4b36-9847-202a3cde1e0f",
   "metadata": {},
   "source": [
    "- 体验课内容节选自《2024大模型技术实战》完整版付费课程"
   ]
  },
  {
   "cell_type": "markdown",
   "id": "692afe27-1f28-4bc8-954b-b13287ee8138",
   "metadata": {},
   "source": [
    "&emsp;&emsp;体验课时间有限，若想深度学习大模型技术，欢迎大家报名有我主讲的[《2024大模型技术实战课》](https://appZe9inzwc2314.h5.xiaoeknow.com)："
   ]
  },
  {
   "cell_type": "markdown",
   "id": "bf910bde-22d5-49c3-b9b6-688417f9b904",
   "metadata": {},
   "source": [
    "<center><img src=\"https://ml2022.oss-cn-hangzhou.aliyuncs.com/img/202401301655430.jpg\" alt=\"fb25c29300365bfe222eb51753da5cd\" style=\"zoom:17%;\" />"
   ]
  },
  {
   "cell_type": "markdown",
   "id": "efc7407e-eb6a-48d3-81f7-dea3a1dbcf9e",
   "metadata": {},
   "source": [
    "**[《大模型技术实战课》](https://appZe9inzwc2314.h5.xiaoeknow.com)为【100+小时】体系大课，总共十八大模块精讲精析，零基础直达大模型企业级应用！**"
   ]
  },
  {
   "cell_type": "markdown",
   "id": "5b77dc30-ef4f-4ef3-a9a8-6dd90d836e49",
   "metadata": {},
   "source": [
    "<center><img src=\"https://ml2022.oss-cn-hangzhou.aliyuncs.com/img/202401301702217.png\" alt=\"f26dd7eec31bcd6858660479cf6f06f\" style=\"zoom:33%;\" />"
   ]
  },
  {
   "cell_type": "markdown",
   "id": "a51c520c-da82-4b08-b02f-851c388a7efc",
   "metadata": {},
   "source": [
    "**此外为持续保证学员大模型技术竞争力，课程实时追更最新大模型技术进展，近期额外新增增了GPT-4-turbo、GPT-4vision和GLM-4，以及借助Assistant API开发Agent等最新前沿技术内容！课程大纲获取、领取体验课学员专享优惠券，<span style=\"color:red;\">扫码添加客服小可爱(微信：littlecat_1207)，回复“大模型”，即咨询课程信息哦👇</span>**"
   ]
  }
 ],
 "metadata": {
  "kernelspec": {
   "display_name": "Python 3 (ipykernel)",
   "language": "python",
   "name": "python3"
  },
  "language_info": {
   "codemirror_mode": {
    "name": "ipython",
    "version": 3
   },
   "file_extension": ".py",
   "mimetype": "text/x-python",
   "name": "python",
   "nbconvert_exporter": "python",
   "pygments_lexer": "ipython3",
   "version": "3.9.7"
  }
 },
 "nbformat": 4,
 "nbformat_minor": 5
}
